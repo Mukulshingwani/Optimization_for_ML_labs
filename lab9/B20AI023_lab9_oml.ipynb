{
  "cells": [
    {
      "cell_type": "markdown",
      "metadata": {},
      "source": [
        "<h3> phase 1, intial approx, non linear optimization"
      ]
    },
    {
      "cell_type": "markdown",
      "metadata": {
        "id": "jIDoF8nfARlx"
      },
      "source": [
        "<h3> Mukul Shingwani\n",
        "<br>\n",
        "<h3>B20AI023\n",
        "<br>\n",
        "<h3>Lab 09"
      ]
    },
    {
      "cell_type": "markdown",
      "metadata": {},
      "source": [
        "<img src = \"Screenshot 2022-11-16 141314.jpg\">"
      ]
    },
    {
      "cell_type": "code",
      "execution_count": 1,
      "metadata": {
        "id": "KblG_cr9V6BV"
      },
      "outputs": [],
      "source": [
        "from numpy import *"
      ]
    },
    {
      "cell_type": "markdown",
      "metadata": {
        "id": "NzbPWP6X_O82"
      },
      "source": [
        "<h2> Question 1"
      ]
    },
    {
      "cell_type": "code",
      "execution_count": 2,
      "metadata": {
        "id": "ti0RIu2V5Iqi"
      },
      "outputs": [],
      "source": [
        "def gradf(fun,x):\n",
        "  n,h1=len(x),pow(10,-7)\n",
        "  g=zeros((n,1),dtype=float)\n",
        "  for i in range(0,n):\n",
        "    x1,x2=x.copy(),x.copy()\n",
        "    x1[i],x2[i]=x1[i]+h1,x2[i]-h1\n",
        "    g[i]=(fun(x1)-fun(x))/(h1)\n",
        "  return g"
      ]
    },
    {
      "cell_type": "code",
      "execution_count": 3,
      "metadata": {
        "id": "ne1Dfoi45cjg"
      },
      "outputs": [],
      "source": [
        "def quasi_newton(fun,con,x0):\n",
        "  beta1,beta2,r,eps,iter1,n=pow(10,-4),0.9,0.5,pow(10,-5),0,len(x0)\n",
        "  B0=identity(n,dtype=float)\n",
        "  f0,g0=fun(x0),gradf(fun,x0)\n",
        "  alpha=1\n",
        "  while linalg.norm(g0)>eps and iter1<20000 and alpha>pow(10,-5):\n",
        "    d0,alpha=-dot(linalg.inv(B0),g0),1\n",
        "\n",
        "    while max(con(x0+alpha*d0))>-0.000001:\n",
        "      alpha=alpha*r\n",
        "    x1=x0+alpha*d0\n",
        "    f1,g1=fun(x1),gradf(fun,x1)\n",
        "\n",
        "    while (f1>f0+alpha*beta1*g0.T@d0) and alpha>pow(10,-5):\n",
        "      alpha=alpha*r\n",
        "      x1 = x0 + alpha * d0\n",
        "      f1, g1 = fun(x1),gradf(fun,x1)\n",
        "    dt1,s1=x1-x0,g1-g0\n",
        "\n",
        "    if dt1.T@s1>pow(10,-3):\n",
        "      B0=B0+1/(dt1.T@s1)*s1@s1.T-1/(s1.T@B0@s1)*B0@s1@s1.T@B0\n",
        "  \n",
        "    x0,g0,iter1=x1,g1,iter1+1\n",
        "\n",
        "  if iter1>=20000:\n",
        "    print('maximum iteration attained')\n",
        "    \n",
        "  return x0"
      ]
    },
    {
      "cell_type": "code",
      "execution_count": 4,
      "metadata": {
        "id": "BSFCAUFO7PYd"
      },
      "outputs": [],
      "source": [
        "def obj_fun(x):\n",
        " return 100*pow(x[0]-1,2)+pow(x[1],2)"
      ]
    },
    {
      "cell_type": "code",
      "execution_count": 5,
      "metadata": {
        "id": "4TBYnMfG9fTf"
      },
      "outputs": [],
      "source": [
        "def con_fun(x):\n",
        " g=zeros((2,1),dtype=float)\n",
        " g[0]=x[0]+6*x[1]-36\n",
        " g[1]=-4*x[0]+x[1]\n",
        " return g"
      ]
    },
    {
      "cell_type": "code",
      "execution_count": 6,
      "metadata": {
        "id": "-Zosb7ND59e7"
      },
      "outputs": [],
      "source": [
        "def interior_point_solver(obj_fun,con_fun,x0):\n",
        "  print('-------')\n",
        "  sigma,opt_cond,iter1=10.0,1.0,0.0\n",
        "  if max(con_fun(x0)) > -pow(10,-5):\n",
        "    print('initial point is not strictly feasible. So starting phase 1')\n",
        "    n = len(x0)\n",
        "    y0 = zeros((n + 1, 1), dtype=float)\n",
        "    y0[0:n], y0[n], sigma = x0, max(con_fun(x0) + 1), 10.0\n",
        "    print(y0)\n",
        "    \n",
        "    def con_fun_phase_1(x):\n",
        "      n = len(x)\n",
        "      return con_fun(x[0:n]) - x[-1]\n",
        "\n",
        "    while max(con_fun(y0[0:n])) > -0.001:\n",
        "      def barr_phase_1(x):\n",
        "        return x[-1] - 1 / sigma * sum(log(-con_fun_phase_1(x)))\n",
        "\n",
        "      y0 = quasi_newton(barr_phase_1, con_fun_phase_1, y0)\n",
        "      sigma, iter1 = sigma * 10, iter1 + 1\n",
        "\n",
        "    x0 = y0[0:n]\n",
        "    print('Phase I complete')\n",
        "    print('interior point=', x0,'\\n','constraint_value=', con_fun(x0))\n",
        "\n",
        "  else:\n",
        "    print('initial approximation is an interior point so starting phase II directly')\n",
        "  \n",
        "  sigma=10\n",
        "  opt_cond=1\n",
        "\n",
        "  while len(con_fun(x0))/sigma > 0.00000001 and opt_cond >pow(10,-5):\n",
        "    def barr_fun(x):\n",
        "      return obj_fun(x) - 1 / sigma * sum(log(-con_fun(x)))\n",
        "    \n",
        "    x0 = quasi_newton(barr_fun, con_fun, x0)\n",
        "    opt_cond = linalg.norm(gradf(barr_fun, x0))\n",
        "    print(opt_cond)\n",
        "    iter1+=1\n",
        "    sigma=sigma*5\n",
        "\n",
        "  print('-------')\n",
        "  print(sigma)\n",
        "\n",
        "  if len(con_fun(x0))/sigma <=0.00000001:\n",
        "    print('maximum iterations attends')\n",
        "  else:\n",
        "    print('optimal solution found as norm KKT=',opt_cond,'<10^-7')\n",
        "\n",
        "  return x0,obj_fun(x0), con_fun(x0),iter1, -10/sigma*1/con_fun(x0)"
      ]
    },
    {
      "cell_type": "code",
      "execution_count": 7,
      "metadata": {
        "colab": {
          "base_uri": "https://localhost:8080/"
        },
        "id": "cldWQ2JS7YJc",
        "outputId": "f9b959a8-b37b-4b7c-d36e-8bfa2e1eb159"
      },
      "outputs": [
        {
          "name": "stdout",
          "output_type": "stream",
          "text": [
            "-------\n",
            "initial point is not strictly feasible. So starting phase 1\n",
            "[[10.]\n",
            " [10.]\n",
            " [35.]]\n",
            "maximum iteration attained\n",
            "Phase I complete\n",
            "interior point= [[ 3698.93887421]\n",
            " [-3692.25321585]] \n",
            " constraint_value= [[-18490.58042089]\n",
            " [-18488.00871268]]\n",
            "7.317782603152753e-06\n",
            "-------\n",
            "50\n",
            "optimal solution found as norm KKT= 7.317782603152753e-06 <10^-7\n",
            "-------\n",
            "optimalpoint= [[ 1.0004829]\n",
            " [-0.0209719]] \n",
            "\n",
            "objective value= [0.00046314] \n",
            "\n",
            "constraint value= [[-35.12534849]\n",
            " [ -4.02290349]] \n",
            "\n",
            "no of iterations= 2.0\n",
            "Lagrange multiplier= [[0.00569389]\n",
            " [0.04971534]]\n",
            "-------\n"
          ]
        }
      ],
      "source": [
        "x0,fval,con_val,iter1,lagrange_mult=\\\n",
        "interior_point_solver(obj_fun,con_fun,10*ones((2,1),dtype=float))\n",
        "print('-------')\n",
        "print('optimalpoint=',x0,'\\n')\n",
        "print('objective value=',fval,'\\n')\n",
        "print('constraint value=',con_val,'\\n')\n",
        "print('no of iterations=',iter1)\n",
        "print('Lagrange multiplier=',lagrange_mult)\n",
        "print('-------')"
      ]
    },
    {
      "cell_type": "markdown",
      "metadata": {
        "id": "o-33KC1GVjG4"
      },
      "source": [
        "<h2> Question 2"
      ]
    },
    {
      "cell_type": "code",
      "execution_count": 8,
      "metadata": {
        "id": "5liHZuvY8l5K"
      },
      "outputs": [],
      "source": [
        "def obj_fun(x):\n",
        "  return x[0]**2+x[1]**2+2*x[2]**2+x[3]**2-5*x[0]-5*x[1]-21*x[2]+7*x[3]"
      ]
    },
    {
      "cell_type": "code",
      "execution_count": 9,
      "metadata": {
        "id": "fQ1f2iAs8oTV"
      },
      "outputs": [],
      "source": [
        "def con_fun(x):\n",
        "  g=zeros((2,1),dtype=float)\n",
        "  g[0]=x[0]**2+x[1]**2+x[2]**2+x[3]**2+x[0]-x[1]+x[2]-x[3]-8\n",
        "  g[1]=x[0]**2+2*x[1]**2+x[2]**2+2*x[3]**2-x[0]-x[3]-10\n",
        "  return g"
      ]
    },
    {
      "cell_type": "code",
      "execution_count": 10,
      "metadata": {
        "colab": {
          "base_uri": "https://localhost:8080/"
        },
        "id": "OAw4cuAD8vl_",
        "outputId": "2a0e8dc7-a9f7-4cad-95ee-ee2bdea2d0f2"
      },
      "outputs": [
        {
          "name": "stdout",
          "output_type": "stream",
          "text": [
            "-------\n",
            "initial point is not strictly feasible. So starting phase 1\n",
            "[[ 10.]\n",
            " [ 10.]\n",
            " [ 10.]\n",
            " [ 10.]\n",
            " [571.]]\n",
            "Phase I complete\n",
            "interior point= [[-0.30104874]\n",
            " [ 0.33406164]\n",
            " [-0.40052487]\n",
            " [ 0.41703399]] \n",
            " constraint_value= [[-8.9161042 ]\n",
            " [-9.29390567]]\n",
            "9.064921433615076e-06\n",
            "-------\n",
            "50\n",
            "optimal solution found as norm KKT= 9.064921433615076e-06 <10^-7\n",
            "-------\n",
            "optimalpoint= [[ 0.37284273]\n",
            " [ 1.05397991]\n",
            " [ 2.06768453]\n",
            " [-0.63900036]] \n",
            "\n",
            "objective value= [-44.81964541] \n",
            "\n",
            "constraint value= [[-0.04092616]\n",
            " [-2.28112112]] \n",
            "\n",
            "no of iterations= 2.0\n",
            "Lagrange multiplier= [[4.88684962]\n",
            " [0.08767619]]\n",
            "-------\n"
          ]
        }
      ],
      "source": [
        "x0,fval,con_val,iter1,lagrange_mult=\\\n",
        "interior_point_solver(obj_fun,con_fun,10*ones((4,1),dtype=float))\n",
        "print('-------')\n",
        "print('optimalpoint=',x0,'\\n')\n",
        "print('objective value=',fval,'\\n')\n",
        "print('constraint value=',con_val,'\\n')\n",
        "print('no of iterations=',iter1)\n",
        "print('Lagrange multiplier=',lagrange_mult)\n",
        "print('-------')"
      ]
    },
    {
      "cell_type": "markdown",
      "metadata": {
        "id": "RT3WimXE_tpv"
      },
      "source": [
        "<h2> Question 3"
      ]
    },
    {
      "cell_type": "code",
      "execution_count": 11,
      "metadata": {
        "id": "VlDIeUqt81jW"
      },
      "outputs": [],
      "source": [
        "def obj_fun(x):\n",
        "  return exp(x[0])*(4*x[0]**2+2*x[1]**2+4*x[0]*x[1]+2*x[1]+1)"
      ]
    },
    {
      "cell_type": "code",
      "execution_count": 12,
      "metadata": {
        "id": "C1JBSSdx83qI"
      },
      "outputs": [],
      "source": [
        "def con_fun(x):\n",
        "  g=zeros((2,1),dtype=float)\n",
        "  g[0]=x[0]+2*x[1]-5\n",
        "  g[1]=x[0]**2+x[1]**2-25\n",
        "  return g"
      ]
    },
    {
      "cell_type": "code",
      "execution_count": 13,
      "metadata": {
        "colab": {
          "base_uri": "https://localhost:8080/"
        },
        "id": "Iv9BqQ2887Mk",
        "outputId": "172465ab-d86e-4437-f95f-aee2c871e1a4"
      },
      "outputs": [
        {
          "name": "stdout",
          "output_type": "stream",
          "text": [
            "-------\n",
            "initial point is not strictly feasible. So starting phase 1\n",
            "[[ 10.]\n",
            " [ 10.]\n",
            " [176.]]\n",
            "Phase I complete\n",
            "interior point= [[-1.54805548]\n",
            " [-3.09611458]] \n",
            " constraint_value= [[-12.74028465]\n",
            " [-13.01759872]]\n",
            "9.629602988854691e-06\n",
            "-------\n",
            "50\n",
            "optimal solution found as norm KKT= 9.629602988854691e-06 <10^-7\n",
            "-------\n",
            "optimalpoint= [[-4.6282885 ]\n",
            " [ 1.09333122]] \n",
            "\n",
            "objective value= [0.69397574] \n",
            "\n",
            "constraint value= [[-7.44162605]\n",
            " [-2.38357241]] \n",
            "\n",
            "no of iterations= 2.0\n",
            "Lagrange multiplier= [[0.02687585]\n",
            " [0.08390767]]\n",
            "-------\n"
          ]
        }
      ],
      "source": [
        "x0,fval,con_val,iter1,lagrange_mult=\\\n",
        "interior_point_solver(obj_fun,con_fun,10*ones((2,1),dtype=float))\n",
        "print('-------')\n",
        "print('optimalpoint=',x0,'\\n')\n",
        "print('objective value=',fval,'\\n')\n",
        "print('constraint value=',con_val,'\\n')\n",
        "print('no of iterations=',iter1)\n",
        "print('Lagrange multiplier=',lagrange_mult)\n",
        "print('-------')"
      ]
    }
  ],
  "metadata": {
    "colab": {
      "collapsed_sections": [],
      "provenance": []
    },
    "kernelspec": {
      "display_name": "Python 3.9.0 64-bit",
      "language": "python",
      "name": "python3"
    },
    "language_info": {
      "codemirror_mode": {
        "name": "ipython",
        "version": 3
      },
      "file_extension": ".py",
      "mimetype": "text/x-python",
      "name": "python",
      "nbconvert_exporter": "python",
      "pygments_lexer": "ipython3",
      "version": "3.9.0"
    },
    "vscode": {
      "interpreter": {
        "hash": "c07ce05c1b6b2db924f66d684c0ce8bf829868cfa2229a46826184626272e7c1"
      }
    }
  },
  "nbformat": 4,
  "nbformat_minor": 0
}
