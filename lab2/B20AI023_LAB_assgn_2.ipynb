{
  "cells": [
    {
      "cell_type": "markdown",
      "metadata": {},
      "source": [
        "<h2> This lab was based on network flow problems, assignment, knapsack kind of problems"
      ]
    },
    {
      "cell_type": "markdown",
      "metadata": {},
      "source": [
        "<img src =\"Screenshot 2022-11-16 142220.jpg\">"
      ]
    },
    {
      "cell_type": "markdown",
      "metadata": {},
      "source": [
        "<img src =\"Screenshot 2022-11-16 142247.jpg\">"
      ]
    },
    {
      "cell_type": "code",
      "execution_count": 3,
      "metadata": {
        "colab": {
          "base_uri": "https://localhost:8080/"
        },
        "id": "uYQUOHcUWyiu",
        "outputId": "5fc0960d-b8aa-45a8-e733-622810aa5814"
      },
      "outputs": [
        {
          "name": "stdout",
          "output_type": "stream",
          "text": [
            "Collecting cvxpy"
          ]
        },
        {
          "name": "stderr",
          "output_type": "stream",
          "text": [
            "WARNING: Ignoring invalid distribution -illow (c:\\users\\mukul shingwani\\appdata\\local\\programs\\python\\python39\\lib\\site-packages)\n",
            "WARNING: Ignoring invalid distribution -illow (c:\\users\\mukul shingwani\\appdata\\local\\programs\\python\\python39\\lib\\site-packages)\n",
            "WARNING: Ignoring invalid distribution -illow (c:\\users\\mukul shingwani\\appdata\\local\\programs\\python\\python39\\lib\\site-packages)\n",
            "WARNING: Ignoring invalid distribution -illow (c:\\users\\mukul shingwani\\appdata\\local\\programs\\python\\python39\\lib\\site-packages)\n",
            "WARNING: Ignoring invalid distribution -illow (c:\\users\\mukul shingwani\\appdata\\local\\programs\\python\\python39\\lib\\site-packages)\n",
            "WARNING: Ignoring invalid distribution -illow (c:\\users\\mukul shingwani\\appdata\\local\\programs\\python\\python39\\lib\\site-packages)\n",
            "WARNING: Ignoring invalid distribution -illow (c:\\users\\mukul shingwani\\appdata\\local\\programs\\python\\python39\\lib\\site-packages)\n",
            "WARNING: Ignoring invalid distribution -illow (c:\\users\\mukul shingwani\\appdata\\local\\programs\\python\\python39\\lib\\site-packages)\n",
            "WARNING: Ignoring invalid distribution -illow (c:\\users\\mukul shingwani\\appdata\\local\\programs\\python\\python39\\lib\\site-packages)\n",
            "WARNING: Ignoring invalid distribution -illow (c:\\users\\mukul shingwani\\appdata\\local\\programs\\python\\python39\\lib\\site-packages)\n",
            "WARNING: Ignoring invalid distribution -illow (c:\\users\\mukul shingwani\\appdata\\local\\programs\\python\\python39\\lib\\site-packages)"
          ]
        },
        {
          "name": "stdout",
          "output_type": "stream",
          "text": [
            "\n",
            "  Downloading cvxpy-1.2.2-cp39-cp39-win_amd64.whl (834 kB)\n",
            "     -------------------------------------- 834.8/834.8 kB 1.8 MB/s eta 0:00:00\n",
            "Collecting osqp>=0.4.1\n",
            "  Downloading osqp-0.6.2.post5-cp39-cp39-win_amd64.whl (278 kB)\n",
            "     -------------------------------------- 278.5/278.5 kB 2.9 MB/s eta 0:00:00\n",
            "Requirement already satisfied: scipy>=1.1.0 in c:\\users\\mukul shingwani\\appdata\\local\\programs\\python\\python39\\lib\\site-packages (from cvxpy) (1.8.0)\n",
            "Collecting scs>=1.1.6\n",
            "  Downloading scs-3.2.2-cp39-cp39-win_amd64.whl (8.2 MB)\n",
            "     ---------------------------------------- 8.2/8.2 MB 2.8 MB/s eta 0:00:00\n",
            "Collecting ecos>=2\n",
            "  Downloading ecos-2.0.10-cp39-cp39-win_amd64.whl (68 kB)\n",
            "     ---------------------------------------- 68.5/68.5 kB 3.9 MB/s eta 0:00:00\n",
            "Requirement already satisfied: numpy>=1.15 in c:\\users\\mukul shingwani\\appdata\\local\\programs\\python\\python39\\lib\\site-packages (from cvxpy) (1.20.1)\n",
            "Collecting qdldl\n",
            "  Downloading qdldl-0.1.5.post2-cp39-cp39-win_amd64.whl (83 kB)\n",
            "     ---------------------------------------- 83.3/83.3 kB ? eta 0:00:00\n",
            "Installing collected packages: scs, qdldl, ecos, osqp, cvxpy\n",
            "Successfully installed cvxpy-1.2.2 ecos-2.0.10 osqp-0.6.2.post5 qdldl-0.1.5.post2 scs-3.2.2\n"
          ]
        },
        {
          "name": "stderr",
          "output_type": "stream",
          "text": [
            "\n"
          ]
        }
      ],
      "source": [
        "!pip install cvxpy"
      ]
    },
    {
      "cell_type": "code",
      "execution_count": 9,
      "metadata": {},
      "outputs": [
        {
          "name": "stdout",
          "output_type": "stream",
          "text": [
            "Collecting cvxopt\n",
            "  Downloading cvxopt-1.3.0-cp39-cp39-win_amd64.whl (12.7 MB)\n",
            "     -------------------------------------- 12.7/12.7 MB 863.4 kB/s eta 0:00:00\n",
            "Installing collected packages: cvxopt\n",
            "Successfully installed cvxopt-1.3.0\n"
          ]
        },
        {
          "name": "stderr",
          "output_type": "stream",
          "text": [
            "WARNING: Ignoring invalid distribution -illow (c:\\users\\mukul shingwani\\appdata\\local\\programs\\python\\python39\\lib\\site-packages)\n",
            "WARNING: Ignoring invalid distribution -illow (c:\\users\\mukul shingwani\\appdata\\local\\programs\\python\\python39\\lib\\site-packages)\n",
            "WARNING: Ignoring invalid distribution -illow (c:\\users\\mukul shingwani\\appdata\\local\\programs\\python\\python39\\lib\\site-packages)\n",
            "WARNING: Ignoring invalid distribution -illow (c:\\users\\mukul shingwani\\appdata\\local\\programs\\python\\python39\\lib\\site-packages)\n",
            "WARNING: Ignoring invalid distribution -illow (c:\\users\\mukul shingwani\\appdata\\local\\programs\\python\\python39\\lib\\site-packages)\n",
            "WARNING: Ignoring invalid distribution -illow (c:\\users\\mukul shingwani\\appdata\\local\\programs\\python\\python39\\lib\\site-packages)\n",
            "WARNING: Ignoring invalid distribution -illow (c:\\users\\mukul shingwani\\appdata\\local\\programs\\python\\python39\\lib\\site-packages)\n"
          ]
        }
      ],
      "source": [
        "!pip install cvxopt"
      ]
    },
    {
      "cell_type": "code",
      "execution_count": 10,
      "metadata": {
        "id": "rtMqYJvs4Piy"
      },
      "outputs": [],
      "source": [
        "import numpy as np\n",
        "import pandas as pd\n",
        "import matplotlib.pyplot as plt\n",
        "import cvxopt as cp\n",
        "from cvxopt import matrix, solvers"
      ]
    },
    {
      "cell_type": "code",
      "execution_count": 11,
      "metadata": {
        "id": "AN0ib0AJW2r9"
      },
      "outputs": [],
      "source": [
        "import cvxpy as CP"
      ]
    },
    {
      "cell_type": "markdown",
      "metadata": {
        "id": "iOPnJnvNPs0f"
      },
      "source": [
        "#Q1"
      ]
    },
    {
      "cell_type": "code",
      "execution_count": 12,
      "metadata": {
        "id": "O672Jt9t4fmY"
      },
      "outputs": [],
      "source": [
        "c=np.array([[0.0],[0.0],[1.0]])\n",
        "A=np.array([[1,2,0],[-4,-3,0],[3,1,0],[-3,-1,0],[5,2,-1],[3,7,-1]])\n",
        "b=np.array([[3],[-6],[3],[-3],[0],[0]])"
      ]
    },
    {
      "cell_type": "code",
      "execution_count": 13,
      "metadata": {
        "colab": {
          "base_uri": "https://localhost:8080/"
        },
        "id": "imiwEPEPN3tF",
        "outputId": "df9b0e5d-27a1-4f36-97d1-aedcb0b09de6"
      },
      "outputs": [
        {
          "name": "stdout",
          "output_type": "stream",
          "text": [
            "[ 6.00e-01]\n",
            "[ 1.20e+00]\n",
            "[ 1.02e+01]\n",
            " 10.2\n"
          ]
        }
      ],
      "source": [
        "sol =cp.solvers.lp(cp.matrix(c,tc='d'), cp.matrix(A,tc='d'),cp.matrix(b,tc='d'),solver='glpk')\n",
        "print(sol['x'],sol['primal objective'])"
      ]
    },
    {
      "cell_type": "markdown",
      "metadata": {
        "id": "7nuv5VBKPv6F"
      },
      "source": [
        "#Q2"
      ]
    },
    {
      "cell_type": "markdown",
      "metadata": {
        "id": "6EVRM_ajR2Wt"
      },
      "source": [
        "9 variables, 6 contraints, Ax=b"
      ]
    },
    {
      "cell_type": "code",
      "execution_count": null,
      "metadata": {
        "id": "XifqpKFfPw4E"
      },
      "outputs": [],
      "source": [
        "# A = np.matrix([[1,1,1,0,0,0,0,0,0],\n",
        "#      [-1,0,0,1,1,0,0,0,0],\n",
        "#      [0,-1,0,-1,0,1,1,0,0],\n",
        "#      [0,0,-1,0,0,0,-1,1,0],\n",
        "#      [0,0,0,0,-1,-1,0,0,1],\n",
        "#      [0,0,0,0,0,0,0,-1,-1],\n",
        "#      [-1,-1,-1,0,0,0,0,0,0],\n",
        "#      [1,0,0,-1,-1,0,0,0,0],\n",
        "#      [0,1,0,1,0,-1,-1,0,0],\n",
        "#      [0,0,1,0,0,0,1,-1,0],\n",
        "#      [0,0,0,0,1,1,0,0,-1],\n",
        "#      [0,0,0,0,0,0,0,1,1]\n",
        "#      ])"
      ]
    },
    {
      "cell_type": "code",
      "execution_count": null,
      "metadata": {
        "id": "9ao8XELBUqmO"
      },
      "outputs": [],
      "source": [
        "# A.shape"
      ]
    },
    {
      "cell_type": "code",
      "execution_count": null,
      "metadata": {
        "id": "jcIp-ieSTiNu"
      },
      "outputs": [],
      "source": [
        "# c = np.matrix([[2.0],[3.0],[3.0],[2.0],[4.0],[1.0],[2.0],[1.0],[3.0]])"
      ]
    },
    {
      "cell_type": "code",
      "execution_count": null,
      "metadata": {
        "id": "cCvb1Hr6T2C-"
      },
      "outputs": [],
      "source": [
        "# c.shape"
      ]
    },
    {
      "cell_type": "code",
      "execution_count": null,
      "metadata": {
        "id": "Bp6D3_eIT0xU"
      },
      "outputs": [],
      "source": [
        "# b = np.matrix([[1.0],[3.0],[0.0],[0.0],[0.0],[-4.0],[-1.0],[-3.0],[0.0],[0.0],[0.0],[4.0]])"
      ]
    },
    {
      "cell_type": "code",
      "execution_count": null,
      "metadata": {
        "id": "y_dtVQIwUO7m"
      },
      "outputs": [],
      "source": [
        "# b.shape"
      ]
    },
    {
      "cell_type": "code",
      "execution_count": null,
      "metadata": {
        "id": "bjWpBugrUN5V"
      },
      "outputs": [],
      "source": [
        "# sol =cp.solvers.lp(cp.matrix(c,tc='d'), cp.matrix(A,tc='d'),cp.matrix(b,tc='d'))\n",
        "# print(sol['x'],sol['primal objective'])"
      ]
    },
    {
      "cell_type": "markdown",
      "metadata": {
        "id": "nchri1xLX5qt"
      },
      "source": [
        "using cvxpy"
      ]
    },
    {
      "cell_type": "code",
      "execution_count": null,
      "metadata": {
        "id": "5SbjsyJEUZK2"
      },
      "outputs": [],
      "source": [
        "# x = CP.Variable(shape=(9,1), name=\"x\")\n",
        "# A = np.array([[1,1,1,0,0,0,0,0,0],[-1,-1,-1,0,0,0,0,0,0], [-1,0,0,1,1,0,0,0,0], [1,0,0,-1,-1,0,0,0,0], [0,-1,0,-1,0,1,1,0,0],[0,1,0,1,0,-1,-1,0,0], [0,0,-1,0,0,0,-1,0,1], [0,0,1,0,0,0,1,0,-1], [0,0,0,0,-1,-1,0,1,0], [0,0,0,0,1,1,0,-1,0], [0,0,0,0,0,0,0,-1,-1], [0,0,0,0,0,0,0,1,1]])\n",
        "# B = np.array([[1],[-1],[3],[-3],[0],[0],[0],[0],[0],[0],[-4],[4]])\n",
        "\n",
        "# constraints = [CP.matmul(A, x) <= B,  x>=0]\n",
        "# r = np.array([2, 3, 3, 2, 4, 1, 2, 3, 1])\n",
        "\n",
        "# objective = CP.Minimize(CP.matmul(r, x))\n",
        "# problem = CP.Problem(objective, constraints)\n",
        "\n",
        "# solution = problem.solve()\n",
        "# print(solution)\n",
        "# print(x.value)"
      ]
    },
    {
      "cell_type": "markdown",
      "metadata": {
        "id": "FV8knwLIX311"
      },
      "source": [
        "using cvxopt"
      ]
    },
    {
      "cell_type": "code",
      "execution_count": 14,
      "metadata": {
        "colab": {
          "base_uri": "https://localhost:8080/"
        },
        "id": "HfknK2cGW8hU",
        "outputId": "7a129a9d-cfa5-4769-87fa-3749377e1eca"
      },
      "outputs": [
        {
          "name": "stdout",
          "output_type": "stream",
          "text": [
            "[ 0.00e+00]\n",
            "[ 0.00e+00]\n",
            "[ 0.00e+00]\n",
            "[ 3.00e+00]\n",
            "[ 0.00e+00]\n",
            "[ 0.00e+00]\n",
            "[ 3.00e+00]\n",
            "[ 3.00e+00]\n",
            "[ 0.00e+00]\n",
            " 15.0\n",
            "The minimum value of the above objective functions is -->  15.0\n"
          ]
        }
      ],
      "source": [
        "c=np.array([[2.0],[3.0],[3.0],[2.0],[4.0],[1.0],[2.0],[1.0],[3.0]])\n",
        "A=np.array([[1,1,1,0,0,0,0,0,0],\n",
        "            [1,0,0,-1,-1,0,0,0,0],\n",
        "            [0,1,0,1,0,-1,-1,0,0],\n",
        "            [0,0,1,0,0,0,1,-1,0],\n",
        "            [0,0,0,0,1,1,0,0,-1],\n",
        "            [0,0,0,0,0,0,0,1,1],\n",
        "            [-1,0,0,0,0,0,0,0,0],[0,-1,0,0,0,0,0,0,0],[0,0,-1,0,0,0,0,0,0],[0,0,0,-1,0,0,0,0,0],[0,0,0,0,-1,0,0,0,0],[0,0,0,0,0,-1,0,0,0],[0,0,0,0,0,0,-1,0,0],[0,0,0,0,0,0,0,-1,0],[0,0,0,0,0,0,0,0,-1]\n",
        "            ])\n",
        "\n",
        "\n",
        "b=np.array([[1],[-3],[0],[0],[0],[4], [0],[0],[0],[0],[0],[0],[0],[0],[0]])\n",
        "\n",
        "sol =cp.solvers.lp(cp.matrix(c,tc='d'), cp.matrix(A,tc='d'),cp.matrix(b,tc='d'),solver='glpk')\n",
        "print(sol['x'],sol['primal objective'])\n",
        "\n",
        "print(\"The minimum value of the above objective functions is --> \", sol['primal objective'])"
      ]
    },
    {
      "cell_type": "markdown",
      "metadata": {
        "id": "Ki1EmuLIX8t9"
      },
      "source": [
        "#Q3"
      ]
    },
    {
      "cell_type": "code",
      "execution_count": 15,
      "metadata": {
        "colab": {
          "base_uri": "https://localhost:8080/"
        },
        "id": "F7xGNZ6C9xuw",
        "outputId": "1bfbfb99-1522-46b9-f8ab-16452f2c069b"
      },
      "outputs": [
        {
          "name": "stdout",
          "output_type": "stream",
          "text": [
            "[ 1.00e+00]\n",
            "[ 1.00e+00]\n",
            "[ 2.00e+00]\n",
            "[ 1.00e+00]\n",
            "[ 1.00e+00]\n",
            " 14.0\n",
            "The minimum value of the above objective functions is -->  14.0\n"
          ]
        }
      ],
      "source": [
        "c=np.array([[1.0],[5.0],[1.0],[2.0],[4.0]])\n",
        "A=np.array([[1,1,0,0,0],[0,-1,-1,1,0],[-1,0,1,0,1],[0,0,0,-1,-1],[1,0,0,0,0],[0,1,0,0,0],[0,0,1,0,0],[0,0,0,1,0],[0,0,0,0,1]])\n",
        "\n",
        "b=np.array([[2],[-2],[2],[-2],[1],[3], [2],[3],[2]])\n",
        "\n",
        "sol =cp.solvers.lp(cp.matrix(c,tc='d'), cp.matrix(A,tc='d'),cp.matrix(b,tc='d'),solver='glpk')\n",
        "print(sol['x'],sol['primal objective'])\n",
        "\n",
        "print(\"The minimum value of the above objective functions is --> \", sol['primal objective'])"
      ]
    },
    {
      "cell_type": "markdown",
      "metadata": {
        "id": "pI1-fq96Aa2S"
      },
      "source": [
        "\n",
        "#Q4"
      ]
    },
    {
      "cell_type": "code",
      "execution_count": 16,
      "metadata": {
        "colab": {
          "base_uri": "https://localhost:8080/"
        },
        "id": "ZDacFPfnAboc",
        "outputId": "58fa703e-6f6c-4454-9d0e-7b46490d4a39"
      },
      "outputs": [
        {
          "name": "stdout",
          "output_type": "stream",
          "text": [
            "[ 0.00e+00]\n",
            "[ 1.00e+00]\n",
            "[ 0.00e+00]\n",
            "[ 0.00e+00]\n",
            "[ 0.00e+00]\n",
            "[ 0.00e+00]\n",
            "[ 0.00e+00]\n",
            "[ 1.00e+00]\n",
            "[ 0.00e+00]\n",
            "[ 0.00e+00]\n",
            "[ 0.00e+00]\n",
            "[ 0.00e+00]\n",
            "[ 0.00e+00]\n",
            "[ 0.00e+00]\n",
            "[ 1.00e+00]\n",
            "[ 0.00e+00]\n",
            "[ 0.00e+00]\n",
            "[ 0.00e+00]\n",
            "[ 1.00e+00]\n",
            "[ 0.00e+00]\n",
            " 23.0\n",
            "The minimum value of the above objective functions is -->  23.0\n"
          ]
        }
      ],
      "source": [
        "# min objective function = 4x12 + 6x13 + 6x14 + 6x25 + 8x26 + 9x27 + 5x35 + 4x36 + 6x37 + 5x45 + 5x46 + 7x47 + 6x58 + 8x59 + 4x68 + 9x69 + 3x78 + 7x79 + 9x810 + 6x910\n",
        "\n",
        "c=np.array([[4.0],[6.0],[6.0],[6.0],[8.0],[9.0],[5.0],[4.0],[6.0],[6.0],[5.0],[7.0],[6.0],[8.0],[4.0],[9.0],[3.0],[7.0],[9.0],[6.0]])\n",
        "\n",
        "# such that :\n",
        "\n",
        "#  x12 + x13 + x14 = 1\n",
        "# -x12 + x25 + x26 + x27 = 0\n",
        "# -x13 + x35 + x36 + x37 = 0\n",
        "# -x14 + x45 + x46 + x47 = 0\n",
        "# -x25 - x35 - x45 + x58 + x59 = 0\n",
        "# -x26 - x36 - x46 + x68 + x69 = 0\n",
        "# -x27 - x37 - x47 + x78 + x79 = 0\n",
        "# -x58 - x68 - x78 + x810 = 0\n",
        "# -x59 - x69 - x79 + x910 = 0\n",
        "# -x810 - x910 = -1\n",
        "#  all x_ij >=0 \n",
        "\n",
        "\n",
        "A=np.array([\n",
        "    [1,1,1,0,0,0,0,0,0,0,0,0,0,0,0,0,0,0,0,0],\n",
        "    [-1,0,0,1,1,1,0,0,0,0,0,0,0,0,0,0,0,0,0,0],\n",
        "    [0,-1,0,0,0,0,1,1,1,0,0,0,0,0,0,0,0,0,0,0],\n",
        "    [0,0,-1,0,0,0,0,0,0,1,1,1,0,0,0,0,0,0,0,0],\n",
        "    [0,0,0,-1,0,0,-1,0,0,-1,0,0,1,1,0,0,0,0,0,0],\n",
        "    [0,0,0,0,-1,0,0,-1,0,0,-1,0,0,0,1,1,0,0,0,0],\n",
        "    [0,0,0,0,0,-1,0,0,-1,0,0,-1,0,0,0,0,1,1,0,0],\n",
        "    [0,0,0,0,0,0,0,0,0,0,0,0,-1,0,-1,0,-1,0,1,0],\n",
        "    [0,0,0,0,0,0,0,0,0,0,0,0,0,-1,0,-1,0,-1,0,1],\n",
        "    [0,0,0,0,0,0,0,0,0,0,0,0,0,0,0,0,0,0,-1,-1],\n",
        "    [-1,0,0,0,0,0,0,0,0,0,0,0,0,0,0,0,0,0,0,0],\n",
        "    [0,-1,0,0,0,0,0,0,0,0,0,0,0,0,0,0,0,0,0,0],\n",
        "    [0,0,-1,0,0,0,0,0,0,0,0,0,0,0,0,0,0,0,0,0],\n",
        "    [0,0,0,-1,0,0,0,0,0,0,0,0,0,0,0,0,0,0,0,0],\n",
        "    [0,0,0,0,-1,0,0,0,0,0,0,0,0,0,0,0,0,0,0,0],\n",
        "    [0,0,0,0,0,-1,0,0,0,0,0,0,0,0,0,0,0,0,0,0],\n",
        "    [0,0,0,0,0,0,-1,0,0,0,0,0,0,0,0,0,0,0,0,0],\n",
        "    [0,0,0,0,0,0,0,-1,0,0,0,0,0,0,0,0,0,0,0,0],\n",
        "    [0,0,0,0,0,0,0,0,-1,0,0,0,0,0,0,0,0,0,0,0],\n",
        "    [0,0,0,0,0,0,0,0,0,-1,0,0,0,0,0,0,0,0,0,0],\n",
        "    [0,0,0,0,0,0,0,0,0,0,-1,0,0,0,0,0,0,0,0,0],\n",
        "    [0,0,0,0,0,0,0,0,0,0,0,-1,0,0,0,0,0,0,0,0],\n",
        "    [0,0,0,0,0,0,0,0,0,0,0,0,-1,0,0,0,0,0,0,0],\n",
        "    [0,0,0,0,0,0,0,0,0,0,0,0,0,-1,0,0,0,0,0,0],\n",
        "    [0,0,0,0,0,0,0,0,0,0,0,0,0,0,-1,0,0,0,0,0],\n",
        "    [0,0,0,0,0,0,0,0,0,0,0,0,0,0,0,-1,0,0,0,0],\n",
        "    [0,0,0,0,0,0,0,0,0,0,0,0,0,0,0,0,-1,0,0,0],\n",
        "    [0,0,0,0,0,0,0,0,0,0,0,0,0,0,0,0,0,-1,0,0],\n",
        "    [0,0,0,0,0,0,0,0,0,0,0,0,0,0,0,0,0,0,-1,0],\n",
        "    [0,0,0,0,0,0,0,0,0,0,0,0,0,0,0,0,0,0,0,-1]])\n",
        "\n",
        "\n",
        "b=np.array([[1],[0],[0],[0],[0],[0],[0],[0],[0],[-1],[0],[0],[0],[0],[0],[0],[0],[0],[0],[0],[0],[0],[0],[0],[0],[0],[0],[0],[0],[0]])\n",
        "\n",
        "sol =cp.solvers.lp(cp.matrix(c,tc='d'), cp.matrix(A,tc='d'),cp.matrix(b,tc='d'),solver='glpk')\n",
        "print(sol['x'],sol['primal objective'])\n",
        "\n",
        "print(\"The minimum value of the above objective functions is --> \", sol['primal objective'])"
      ]
    },
    {
      "cell_type": "markdown",
      "metadata": {
        "id": "sVTVv-v1WrKS"
      },
      "source": [
        "#Q5"
      ]
    },
    {
      "cell_type": "code",
      "execution_count": 17,
      "metadata": {
        "id": "VPw-NAQ1WsIV"
      },
      "outputs": [],
      "source": [
        "A = matrix([\n",
        "    [1., 1., 1., 1., 0., 0., 0., 0., 0., 0., 0., 0., 0., 0., 0., 0.],\n",
        "    [0., 0., 0., 0., 1., 1., 1., 1., 0., 0., 0., 0., 0., 0., 0., 0.],\n",
        "    [0., 0., 0., 0., 0., 0., 0., 0., 1., 1., 1., 1., 0., 0., 0., 0.],\n",
        "    [0., 0., 0., 0., 0., 0., 0., 0., 0., 0., 0., 0., 1., 1., 1., 1.],\n",
        "    [1., 0., 0., 0., 1., 0., 0., 0., 1., 0., 0., 0., 1., 0., 0., 0.],\n",
        "    [0., 1., 0., 0., 0., 1., 0., 0., 0., 1., 0., 0., 0., 1., 0., 0.],\n",
        "    [0., 0., 1., 0., 0., 0., 1., 0., 0., 0., 1., 0., 0., 0., 1., 0.],\n",
        "    [0., 0., 0., 1., 0., 0., 0., 1., 0., 0., 0., 1., 0., 0., 0., 1.],\n",
        "]).T\n",
        "\n",
        "G = -matrix(np.eye(16), tc='d')\n",
        "h = matrix(np.zeros(16), tc='d')\n",
        "\n",
        "b = matrix(np.ones(8), tc='d')\n",
        "\n",
        "c = matrix([20, 28, 19, 13, 15, 30, 31, 28, 40, 21, 20, 17, 21, 28, 26, 12], tc='d')\n",
        "sol = solvers.lp(c, G, h, A, b, solver = 'glpk')"
      ]
    },
    {
      "cell_type": "code",
      "execution_count": null,
      "metadata": {
        "colab": {
          "base_uri": "https://localhost:8080/"
        },
        "id": "vcHwH-p5zK0x",
        "outputId": "f5b4ef92-c1a4-4471-a355-8d0b9286bf1f"
      },
      "outputs": [
        {
          "name": "stdout",
          "output_type": "stream",
          "text": [
            "[ 0.00e+00]\n",
            "[ 0.00e+00]\n",
            "[ 1.00e+00]\n",
            "[ 0.00e+00]\n",
            "[ 1.00e+00]\n",
            "[ 0.00e+00]\n",
            "[ 0.00e+00]\n",
            "[ 0.00e+00]\n",
            "[ 0.00e+00]\n",
            "[ 1.00e+00]\n",
            "[ 0.00e+00]\n",
            "[ 0.00e+00]\n",
            "[ 0.00e+00]\n",
            "[ 0.00e+00]\n",
            "[ 0.00e+00]\n",
            "[ 1.00e+00]\n",
            "\n"
          ]
        }
      ],
      "source": [
        "print(sol['x'])"
      ]
    },
    {
      "cell_type": "code",
      "execution_count": 18,
      "metadata": {
        "colab": {
          "base_uri": "https://localhost:8080/"
        },
        "id": "tQ_l-ayFzLFk",
        "outputId": "c549766d-7194-4377-a0dc-df282c9ad5df"
      },
      "outputs": [
        {
          "name": "stdout",
          "output_type": "stream",
          "text": [
            "Minimum value of objective function is : 67.0\n"
          ]
        }
      ],
      "source": [
        "print(\"Minimum value of objective function is :\",sol['primal objective'])"
      ]
    },
    {
      "cell_type": "markdown",
      "metadata": {
        "id": "rwhIVlpMzyrJ"
      },
      "source": [
        "#Q6"
      ]
    },
    {
      "cell_type": "code",
      "execution_count": 19,
      "metadata": {
        "id": "WD034Oe9zzok"
      },
      "outputs": [],
      "source": [
        "A = matrix([\n",
        "    [1.0,1.0,1.0,1.0,1.0,0.0,0.0,0.0,0.0,0.0,0.0,0.0,0.0,0.0,0.0,0.0,0.0,0.0,0.0,0.0,0.0,0.0,0.0,0.0,0.0],\n",
        "    [0.0,0.0,0.0,0.0,0.0,1.0,1.0,1.0,1.0,1.0,0.0,0.0,0.0,0.0,0.0,0.0,0.0,0.0,0.0,0.0,0.0,0.0,0.0,0.0,0.0],\n",
        "    [0.0,0.0,0.0,0.0,0.0,0.0,0.0,0.0,0.0,0.0,1.0,1.0,1.0,1.0,1.0,0.0,0.0,0.0,0.0,0.0,0.0,0.0,0.0,0.0,0.0],\n",
        "    [0.0,0.0,0.0,0.0,0.0,0.0,0.0,0.0,0.0,0.0,0.0,0.0,0.0,0.0,0.0,1.0,1.0,1.0,1.0,1.0,0.0,0.0,0.0,0.0,0.0],\n",
        "    [0.0,0.0,0.0,0.0,0.0,0.0,0.0,0.0,0.0,0.0,0.0,0.0,0.0,0.0,0.0,0.0,0.0,0.0,0.0,0.0,1.0,1.0,1.0,1.0,1.0],\n",
        "    [1.0,0.0,0.0,0.0,0.0,1.0,0.0,0.0,0.0,0.0,1.0,0.0,0.0,0.0,0.0,1.0,0.0,0.0,0.0,0.0,1.0,0.0,0.0,0.0,0.0],\n",
        "    [0.0,1.0,0.0,0.0,0.0,0.0,1.0,0.0,0.0,0.0,0.0,1.0,0.0,0.0,0.0,0.0,1.0,0.0,0.0,0.0,0.0,1.0,0.0,0.0,0.0],\n",
        "    [0.0,0.0,1.0,0.0,0.0,0.0,0.0,1.0,0.0,0.0,0.0,0.0,1.0,0.0,0.0,0.0,0.0,1.0,0.0,0.0,0.0,0.0,1.0,0.0,0.0],\n",
        "    [0.0,0.0,0.0,1.0,0.0,0.0,0.0,0.0,1.0,0.0,0.0,0.0,0.0,1.0,0.0,0.0,0.0,0.0,1.0,0.0,0.0,0.0,0.0,1.0,0.0],\n",
        "    [0.0,0.0,0.0,0.0,1.0,0.0,0.0,0.0,0.0,1.0,0.0,0.0,0.0,0.0,1.0,0.0,0.0,0.0,0.0,1.0,0.0,0.0,0.0,0.0,1.0],\n",
        "]).T\n",
        "\n",
        "G = -matrix(np.eye(25), tc='d')\n",
        "h = matrix(np.zeros(25), tc='d')\n",
        "\n",
        "b = matrix(np.ones(10), tc='d')\n",
        "\n",
        "c = matrix([37.7,32.9,33.8,37.0,35.4,43.4,33.1,42.2,34.7,41.8,33.3,28.5,38.9,30.4,33.6,29.2,26.4,29.6,28.5,31.1,0.,0.,0.,0.,0.], tc='d')\n",
        "sol = solvers.lp(c, G, h, A, b, solver = 'glpk')"
      ]
    },
    {
      "cell_type": "code",
      "execution_count": null,
      "metadata": {
        "colab": {
          "base_uri": "https://localhost:8080/"
        },
        "id": "0LEjnshfP-7O",
        "outputId": "0886bf9e-6e76-4890-beb3-f369dc3f6a95"
      },
      "outputs": [
        {
          "name": "stdout",
          "output_type": "stream",
          "text": [
            "[ 0.00e+00]\n",
            "[ 0.00e+00]\n",
            "[ 1.00e+00]\n",
            "[ 0.00e+00]\n",
            "[ 0.00e+00]\n",
            "[ 0.00e+00]\n",
            "[ 0.00e+00]\n",
            "[ 0.00e+00]\n",
            "[ 1.00e+00]\n",
            "[ 0.00e+00]\n",
            "[ 0.00e+00]\n",
            "[ 1.00e+00]\n",
            "[ 0.00e+00]\n",
            "[ 0.00e+00]\n",
            "[ 0.00e+00]\n",
            "[ 1.00e+00]\n",
            "[ 0.00e+00]\n",
            "[ 0.00e+00]\n",
            "[ 0.00e+00]\n",
            "[ 0.00e+00]\n",
            "[ 0.00e+00]\n",
            "[ 0.00e+00]\n",
            "[ 0.00e+00]\n",
            "[ 0.00e+00]\n",
            "[ 1.00e+00]\n",
            "\n"
          ]
        }
      ],
      "source": [
        "print(sol['x'])"
      ]
    },
    {
      "cell_type": "code",
      "execution_count": 20,
      "metadata": {
        "colab": {
          "base_uri": "https://localhost:8080/"
        },
        "id": "QJs6ObXfP_TQ",
        "outputId": "61f7a07c-c380-40ff-c0c9-e5cc822c8820"
      },
      "outputs": [
        {
          "name": "stdout",
          "output_type": "stream",
          "text": [
            "Minimum value of objective function is : 126.2\n"
          ]
        }
      ],
      "source": [
        "print(\"Minimum value of objective function is :\",sol['primal objective'])"
      ]
    }
  ],
  "metadata": {
    "colab": {
      "collapsed_sections": [],
      "provenance": []
    },
    "kernelspec": {
      "display_name": "Python 3.9.0 64-bit",
      "language": "python",
      "name": "python3"
    },
    "language_info": {
      "codemirror_mode": {
        "name": "ipython",
        "version": 3
      },
      "file_extension": ".py",
      "mimetype": "text/x-python",
      "name": "python",
      "nbconvert_exporter": "python",
      "pygments_lexer": "ipython3",
      "version": "3.9.0"
    },
    "vscode": {
      "interpreter": {
        "hash": "c07ce05c1b6b2db924f66d684c0ce8bf829868cfa2229a46826184626272e7c1"
      }
    }
  },
  "nbformat": 4,
  "nbformat_minor": 0
}
