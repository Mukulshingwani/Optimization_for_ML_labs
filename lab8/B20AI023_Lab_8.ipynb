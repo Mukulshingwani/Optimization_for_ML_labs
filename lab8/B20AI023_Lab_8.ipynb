{
  "cells": [
    {
      "cell_type": "markdown",
      "metadata": {
        "id": "jINE6EfUESmY"
      },
      "source": [
        "# Mukul Singwani\n",
        "# B20AI023"
      ]
    },
    {
      "cell_type": "code",
      "execution_count": 1,
      "metadata": {
        "id": "Feq_K8Atn_m6"
      },
      "outputs": [],
      "source": [
        "import numpy as np"
      ]
    },
    {
      "cell_type": "markdown",
      "metadata": {},
      "source": [
        "<img src = \"Screenshot 2022-11-16 141240.jpg\">"
      ]
    },
    {
      "cell_type": "markdown",
      "metadata": {
        "id": "8yVJGArWEXYp"
      },
      "source": [
        "\n",
        "## Q1\n",
        "<h4>Solve the following problem using Newton method. Use stopping crite-\n",
        "rion: ||∇F(x^(k+1)) + AT μ_(k+1)|| ≤ 10−3"
      ]
    },
    {
      "cell_type": "code",
      "execution_count": 2,
      "metadata": {
        "id": "9c1C4lP92VU2"
      },
      "outputs": [],
      "source": [
        "def replacers(x):\n",
        "  index_f = 0\n",
        "  for i in range(len(x)):\n",
        "    index_f += x[i]*(np.log(x[i]))\n",
        "  return index_f"
      ]
    },
    {
      "cell_type": "code",
      "execution_count": 3,
      "metadata": {
        "id": "y03WqLNG5rHl"
      },
      "outputs": [],
      "source": [
        "def gradreplacers(x):\n",
        "  index_f = np.zeros((len(x),1))\n",
        "  for i in range(len(x)):\n",
        "    index_f[i] = np.log(x[i]) + 1\n",
        "  return index_f"
      ]
    },
    {
      "cell_type": "code",
      "execution_count": 4,
      "metadata": {
        "id": "k-G2HJa96dTz"
      },
      "outputs": [],
      "source": [
        "def hessf(x):\n",
        "  index_f = np.eye(len(x))\n",
        "  for i in range(len(x)):\n",
        "    index_f[i][i] = (1/x[i])\n",
        "  return index_f"
      ]
    },
    {
      "cell_type": "code",
      "execution_count": 5,
      "metadata": {
        "id": "HaPZ235y6zLY"
      },
      "outputs": [],
      "source": [
        "x0 = [1/3,1/4,1/6,1/6,1/12]"
      ]
    },
    {
      "cell_type": "code",
      "execution_count": 6,
      "metadata": {
        "id": "8nWxEJcr8Fed"
      },
      "outputs": [],
      "source": [
        "def JL(x,A):\n",
        "  index_f = np.linalg.inv(np.row_stack((np.column_stack((hessf(x),A.T)),np.column_stack((A,np.array([0]))))))\n",
        "\n",
        "  return index_f"
      ]
    },
    {
      "cell_type": "code",
      "execution_count": 7,
      "metadata": {
        "id": "1KOoYwZ__IGn"
      },
      "outputs": [],
      "source": [
        "def matrix(x):\n",
        "  return np.row_stack((-1*gradreplacers(x),np.array([0])))"
      ]
    },
    {
      "cell_type": "code",
      "execution_count": 8,
      "metadata": {
        "id": "2bihQ2we_nYV"
      },
      "outputs": [],
      "source": [
        "def ans_replacers(x):\n",
        "  u = 1\n",
        "  A = np.ones((1,len(x)), dtype = float)\n",
        "  while(np.linalg.norm(gradreplacers(x) + A.T * u) > 0.001):\n",
        "    index_f = np.dot(JL(x,A),matrix(x))\n",
        "    dk = index_f[:(len(index_f) - A.shape[0])]\n",
        "    u = index_f[(len(index_f) - A.shape[0]):]\n",
        "    x = x + dk.ravel()\n",
        "  return x"
      ]
    },
    {
      "cell_type": "code",
      "execution_count": 9,
      "metadata": {
        "colab": {
          "base_uri": "https://localhost:8080/"
        },
        "id": "alzEFt2bEa8j",
        "outputId": "d8a97e13-f6ab-4ab1-b33c-9f0bb777c7b9"
      },
      "outputs": [
        {
          "data": {
            "text/plain": [
              "array([0.20000249, 0.20000408, 0.20000323, 0.20000323, 0.19998697])"
            ]
          },
          "execution_count": 9,
          "metadata": {},
          "output_type": "execute_result"
        }
      ],
      "source": [
        "ans_replacers(x0)"
      ]
    },
    {
      "cell_type": "markdown",
      "metadata": {
        "id": "gfUcQJ7WWGvf"
      },
      "source": [
        "\n",
        "## Q2"
      ]
    },
    {
      "cell_type": "code",
      "execution_count": 10,
      "metadata": {
        "id": "0GLLo55drvOZ"
      },
      "outputs": [],
      "source": [
        "def replacers(x):\n",
        "  index_f = 0\n",
        "  for i in range(len(x)):\n",
        "    index_f += x[i]*(np.exp(-1*x[i]))\n",
        "  return index_f"
      ]
    },
    {
      "cell_type": "code",
      "execution_count": 11,
      "metadata": {
        "id": "jBwbgoZ3sMCg"
      },
      "outputs": [],
      "source": [
        "def gradreplacers(x):\n",
        "  index_f = np.zeros((len(x),1))\n",
        "  for i in range(len(x)):\n",
        "    index_f[i] = np.exp(-1*x[i]) - x[i]*(np.exp(-1*x[i]))\n",
        "  return index_f"
      ]
    },
    {
      "cell_type": "code",
      "execution_count": 12,
      "metadata": {
        "id": "GYx5mn54V9Sz"
      },
      "outputs": [],
      "source": [
        "def hessf(x):\n",
        "  index_f = np.eye(len(x))\n",
        "  for i in range(len(x)):\n",
        "    index_f[i][i] = (-2*np.exp(-1*x[i]) + x[i]*np.exp(-1*x[i]))\n",
        "  return index_f"
      ]
    },
    {
      "cell_type": "code",
      "execution_count": 13,
      "metadata": {
        "id": "FdDfJnHbXNv2"
      },
      "outputs": [],
      "source": [
        "x0 = [2/3,1/3,0,0]"
      ]
    },
    {
      "cell_type": "code",
      "execution_count": 14,
      "metadata": {
        "id": "Tiq5QrZyXWA9"
      },
      "outputs": [],
      "source": [
        "def JL(x,A):\n",
        "  index_f = np.linalg.inv(np.row_stack((np.column_stack((hessf(x),A.T)),np.column_stack((A,np.array([[0,0],[0,0]]))))))\n",
        "  return index_f"
      ]
    },
    {
      "cell_type": "code",
      "execution_count": 15,
      "metadata": {
        "id": "QN8lUpFMXaPX"
      },
      "outputs": [],
      "source": [
        "def matrix(x):\n",
        "  return np.row_stack((-1*gradreplacers(x),np.array([[0],[0]])))"
      ]
    },
    {
      "cell_type": "code",
      "execution_count": 16,
      "metadata": {
        "id": "X3bHTE6wXcCW"
      },
      "outputs": [],
      "source": [
        "def ans_replacers(x):\n",
        "  u = np.array([[1],[1]])\n",
        "  A = np.ones((2,len(x)), dtype = float)\n",
        "  A[1][0] = 1\n",
        "  A[1][1] = -2\n",
        "  A[1][2] = 3\n",
        "  A[1][3] = -4\n",
        "  while(np.linalg.norm(gradreplacers(x) + np.dot(A.T,u)) > 0.001):\n",
        "    index_f = np.dot(JL(x,A),matrix(x))\n",
        "    dk = index_f[:(len(index_f) - A.shape[0])]\n",
        "    u = index_f[(len(index_f) - A.shape[0]):]\n",
        "    x = x + dk.ravel()\n",
        "  return x"
      ]
    },
    {
      "cell_type": "code",
      "execution_count": 17,
      "metadata": {
        "colab": {
          "base_uri": "https://localhost:8080/"
        },
        "id": "n4s92flYXxpk",
        "outputId": "14da3bd8-7708-4399-e528-5e67e3654e29"
      },
      "outputs": [
        {
          "data": {
            "text/plain": [
              "array([0.274637  , 0.22302664, 0.31153738, 0.19079897])"
            ]
          },
          "execution_count": 17,
          "metadata": {},
          "output_type": "execute_result"
        }
      ],
      "source": [
        "ans_replacers(x0)"
      ]
    }
  ],
  "metadata": {
    "colab": {
      "provenance": []
    },
    "kernelspec": {
      "display_name": "Python 3.9.0 64-bit",
      "language": "python",
      "name": "python3"
    },
    "language_info": {
      "codemirror_mode": {
        "name": "ipython",
        "version": 3
      },
      "file_extension": ".py",
      "mimetype": "text/x-python",
      "name": "python",
      "nbconvert_exporter": "python",
      "pygments_lexer": "ipython3",
      "version": "3.9.0"
    },
    "vscode": {
      "interpreter": {
        "hash": "c07ce05c1b6b2db924f66d684c0ce8bf829868cfa2229a46826184626272e7c1"
      }
    }
  },
  "nbformat": 4,
  "nbformat_minor": 0
}
