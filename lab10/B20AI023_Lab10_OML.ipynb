{
  "cells": [
    {
      "cell_type": "markdown",
      "id": "O1-vvTpKvM25",
      "metadata": {
        "id": "O1-vvTpKvM25"
      },
      "source": [
        "<h2> Mukul Shingwani </h2>\n",
        "<h3> B20AI023 </h3>\n",
        "<h3> Lab10 </h3>\n",
        "<h3> Integer programming problem </h3>"
      ]
    },
    {
      "cell_type": "markdown",
      "id": "54f5f14f",
      "metadata": {},
      "source": [
        "<img src =\"Screenshot 2022-11-16 141347.jpg\">"
      ]
    },
    {
      "cell_type": "code",
      "execution_count": 10,
      "id": "TrctOribv4ae",
      "metadata": {
        "colab": {
          "base_uri": "https://localhost:8080/"
        },
        "id": "TrctOribv4ae",
        "outputId": "2da22985-2a34-4d7f-abef-f2f62fe83b8c"
      },
      "outputs": [
        {
          "name": "stdout",
          "output_type": "stream",
          "text": [
            "Requirement already satisfied: GEKKO in c:\\users\\mukul shingwani\\appdata\\local\\programs\\python\\python39\\lib\\site-packages (1.0.5)\n",
            "Requirement already satisfied: numpy>=1.8 in c:\\users\\mukul shingwani\\appdata\\local\\programs\\python\\python39\\lib\\site-packages (from GEKKO) (1.20.1)\n"
          ]
        },
        {
          "name": "stderr",
          "output_type": "stream",
          "text": [
            "WARNING: Ignoring invalid distribution -illow (c:\\users\\mukul shingwani\\appdata\\local\\programs\\python\\python39\\lib\\site-packages)\n",
            "WARNING: Ignoring invalid distribution -illow (c:\\users\\mukul shingwani\\appdata\\local\\programs\\python\\python39\\lib\\site-packages)\n",
            "WARNING: Ignoring invalid distribution -illow (c:\\users\\mukul shingwani\\appdata\\local\\programs\\python\\python39\\lib\\site-packages)\n",
            "WARNING: Ignoring invalid distribution -illow (c:\\users\\mukul shingwani\\appdata\\local\\programs\\python\\python39\\lib\\site-packages)\n",
            "WARNING: Ignoring invalid distribution -illow (c:\\users\\mukul shingwani\\appdata\\local\\programs\\python\\python39\\lib\\site-packages)\n",
            "WARNING: Ignoring invalid distribution -illow (c:\\users\\mukul shingwani\\appdata\\local\\programs\\python\\python39\\lib\\site-packages)\n"
          ]
        }
      ],
      "source": [
        "!pip install GEKKO"
      ]
    },
    {
      "cell_type": "code",
      "execution_count": 11,
      "id": "3fd40f7e",
      "metadata": {
        "id": "3fd40f7e"
      },
      "outputs": [],
      "source": [
        "from gekko import GEKKO\n",
        "from numpy import *"
      ]
    },
    {
      "cell_type": "markdown",
      "id": "YAtns7cIvfBK",
      "metadata": {
        "id": "YAtns7cIvfBK"
      },
      "source": [
        "## Question 1"
      ]
    },
    {
      "cell_type": "code",
      "execution_count": 12,
      "id": "4cb7e25b",
      "metadata": {
        "colab": {
          "base_uri": "https://localhost:8080/"
        },
        "id": "4cb7e25b",
        "outputId": "add70dab-e136-4145-93ac-f0e6ccb15567"
      },
      "outputs": [
        {
          "name": "stdout",
          "output_type": "stream",
          "text": [
            "A\n",
            "[[ 6.  3.  5.  2.]\n",
            " [ 1.  0.  0.  1.]\n",
            " [-1.  0.  1.  0.]\n",
            " [ 0. -1.  0.  1.]]\n",
            "b\n",
            "[[10.  1.  0.  0.]]\n",
            " ----------------------------------------------------------------\n",
            " APMonitor, Version 1.0.0\n",
            " APMonitor Optimization Suite\n",
            " ----------------------------------------------------------------\n",
            " \n",
            " \n",
            " --------- APM Model Size ------------\n",
            " Each time step contains\n",
            "   Objects      :  2\n",
            "   Constants    :  0\n",
            "   Variables    :  4\n",
            "   Intermediates:  0\n",
            "   Connections  :  8\n",
            "   Equations    :  0\n",
            "   Residuals    :  0\n",
            " \n",
            " Number of state variables:    4\n",
            " Number of total equations: -  4\n",
            " Number of slack variables: -  0\n",
            " ---------------------------------------\n",
            " Degrees of freedom       :    0\n",
            " \n",
            " ----------------------------------------------\n",
            " Steady State Optimization with APOPT Solver\n",
            " ----------------------------------------------\n",
            "Iter:     1 I:  0 Tm:      0.00 NLPi:    1 Dpth:    0 Lvs:    3 Obj: -1.52E+01 Gap:       NaN\n",
            "--Integer Solution:  -1.40E+01 Lowest Leaf:  -1.52E+01 Gap:   7.90E-02\n",
            "Iter:     2 I:  0 Tm:      0.00 NLPi:    1 Dpth:    1 Lvs:    2 Obj: -1.40E+01 Gap:  7.90E-02\n",
            "Iter:     3 I: -1 Tm:      0.00 NLPi:    3 Dpth:    1 Lvs:    1 Obj: -1.52E+01 Gap:  7.90E-02\n",
            "--Integer Solution:  -1.40E+01 Lowest Leaf:  -1.40E+01 Gap:   0.00E+00\n",
            "Iter:     4 I:  0 Tm:      0.00 NLPi:    1 Dpth:    1 Lvs:    1 Obj: -1.40E+01 Gap:  0.00E+00\n",
            " Successful solution\n",
            " \n",
            " ---------------------------------------------------\n",
            " Solver         :  APOPT (v1.0)\n",
            " Solution time  :  0.033 sec\n",
            " Objective      :  -14.\n",
            " Successful solution\n",
            " ---------------------------------------------------\n",
            " \n",
            "\n",
            "Objective:  -14.0\n",
            "[[1.0] [1.0] [0.0] [0.0]]\n"
          ]
        }
      ],
      "source": [
        "m = GEKKO(remote=False)\n",
        "c = array([[9],[5],[6],[4]])\n",
        "A = array([[6,3,5,2],[1,0,0,1],[-1,0,1,0],[0,-1,0,1]])\n",
        "b = array([[10],[1],[0],[0]])\n",
        "z = m.Array(m.Var,4,integer=True,lb=0,ub=1)\n",
        "m.qobj(c,x=z,otype='max')\n",
        "m.axb(A,b,x=z,etype='<=')\n",
        "m.options.SOLVER = 1\n",
        "m.solve()\n",
        "print('Objective: ', m.options.OBJFCNVAL)\n",
        "print(z)\n"
      ]
    },
    {
      "cell_type": "markdown",
      "id": "SkJncl85vinJ",
      "metadata": {
        "id": "SkJncl85vinJ"
      },
      "source": [
        "## Question 2"
      ]
    },
    {
      "cell_type": "code",
      "execution_count": 13,
      "id": "bec2774a",
      "metadata": {
        "colab": {
          "base_uri": "https://localhost:8080/"
        },
        "id": "bec2774a",
        "outputId": "77883e90-3ccc-43bf-d4e0-2b0984cf80b8"
      },
      "outputs": [
        {
          "name": "stdout",
          "output_type": "stream",
          "text": [
            "int_v1 v2 [1, 1]\n",
            "A\n",
            "[[ 5.  7.]\n",
            " [ 4.  1.]\n",
            " [ 3. -2.]\n",
            " [-1.  0.]\n",
            " [ 0. -1.]]\n",
            "b\n",
            "[[27. 14.  9.  0.  0.]]\n",
            " ----------------------------------------------------------------\n",
            " APMonitor, Version 1.0.0\n",
            " APMonitor Optimization Suite\n",
            " ----------------------------------------------------------------\n",
            " \n",
            " \n",
            " --------- APM Model Size ------------\n",
            " Each time step contains\n",
            "   Objects      :  2\n",
            "   Constants    :  0\n",
            "   Variables    :  2\n",
            "   Intermediates:  0\n",
            "   Connections  :  4\n",
            "   Equations    :  0\n",
            "   Residuals    :  0\n",
            " \n",
            " Number of state variables:    2\n",
            " Number of total equations: -  5\n",
            " Number of slack variables: -  0\n",
            " ---------------------------------------\n",
            " Degrees of freedom       :    -3\n",
            " \n",
            " * Warning: DOF <= 0\n",
            " ----------------------------------------------\n",
            " Steady State Optimization with APOPT Solver\n",
            " ----------------------------------------------\n",
            "Iter:     1 I:  0 Tm:     -0.00 NLPi:    2 Dpth:    0 Lvs:    2 Obj: -2.66E+01 Gap:       NaN\n",
            "Iter:     2 I: -1 Tm:     -0.00 NLPi:    3 Dpth:    1 Lvs:    1 Obj: -2.66E+01 Gap:       NaN\n",
            "--Integer Solution:  -2.61E+01 Lowest Leaf:  -2.61E+01 Gap:   0.00E+00\n",
            "Iter:     3 I:  0 Tm:     -0.00 NLPi:    3 Dpth:    1 Lvs:    1 Obj: -2.61E+01 Gap:  0.00E+00\n",
            " Successful solution\n",
            " \n",
            " ---------------------------------------------------\n",
            " Solver         :  APOPT (v1.0)\n",
            " Solution time  :  0.017400000000000002 sec\n",
            " Objective      :  -26.142857142857142\n",
            " Successful solution\n",
            " ---------------------------------------------------\n",
            " \n",
            "\n",
            "Objective:  -26.142857143\n",
            "[[3.0], [1.7142857143]]\n"
          ]
        }
      ],
      "source": [
        "m = GEKKO(remote=False)\n",
        "c = array([[7.0],[3.0]])\n",
        "A = array([[5,7],[4,1],[3,-2],[-1,0],[0,-1]])\n",
        "b = array([[27],[14],[9],[0],[0]])\n",
        "z1=m.Var(1,integer=True)\n",
        "z2=m.Var(1,integer=False)\n",
        "z=[z1,z2]\n",
        "print(z1,z2,z)\n",
        "m.qobj(c,x=z,otype='max')\n",
        "m.axb(A,b,x=z,etype='<=')\n",
        "\n",
        "m.options.SOLVER = 1\n",
        "m.solve()\n",
        "print('Objective: ', m.options.OBJFCNVAL)\n",
        "print(z)"
      ]
    },
    {
      "cell_type": "markdown",
      "id": "ap2TT4u9vl1P",
      "metadata": {
        "id": "ap2TT4u9vl1P"
      },
      "source": [
        "## Question 3"
      ]
    },
    {
      "cell_type": "code",
      "execution_count": 14,
      "id": "7784a93e",
      "metadata": {
        "colab": {
          "base_uri": "https://localhost:8080/"
        },
        "id": "7784a93e",
        "outputId": "a6ef81de-82bd-4cc4-9703-121c30c1c07e"
      },
      "outputs": [
        {
          "name": "stdout",
          "output_type": "stream",
          "text": [
            "v1 int_v2 [1, 1]\n",
            "A\n",
            "[[ 3. -2.]\n",
            " [-8. 10.]]\n",
            "b\n",
            "[[-1. 10.]]\n",
            " ----------------------------------------------------------------\n",
            " APMonitor, Version 1.0.0\n",
            " APMonitor Optimization Suite\n",
            " ----------------------------------------------------------------\n",
            " \n",
            " \n",
            " --------- APM Model Size ------------\n",
            " Each time step contains\n",
            "   Objects      :  2\n",
            "   Constants    :  0\n",
            "   Variables    :  2\n",
            "   Intermediates:  0\n",
            "   Connections  :  4\n",
            "   Equations    :  0\n",
            "   Residuals    :  0\n",
            " \n",
            " Number of state variables:    2\n",
            " Number of total equations: -  2\n",
            " Number of slack variables: -  0\n",
            " ---------------------------------------\n",
            " Degrees of freedom       :    0\n",
            " \n",
            " ----------------------------------------------\n",
            " Steady State Optimization with APOPT Solver\n",
            " ----------------------------------------------\n",
            "Iter:     1 I:  0 Tm:      0.00 NLPi:    2 Dpth:    0 Lvs:    2 Obj:  1.25E+00 Gap:       NaN\n",
            "--Integer Solution:   1.30E+00 Lowest Leaf:   1.25E+00 Gap:   3.92E-02\n",
            "Iter:     2 I:  0 Tm:      0.00 NLPi:    1 Dpth:    1 Lvs:    1 Obj:  1.30E+00 Gap:  3.92E-02\n",
            "Iter:     3 I: -1 Tm:      0.00 NLPi:    0 Dpth:    1 Lvs:    0 Obj:  1.25E+00 Gap:  3.92E-02\n",
            " No additional trial points, returning the best integer solution\n",
            " Successful solution\n",
            " \n",
            " ---------------------------------------------------\n",
            " Solver         :  APOPT (v1.0)\n",
            " Solution time  :  0.0171 sec\n",
            " Objective      :  1.3\n",
            " Successful solution\n",
            " ---------------------------------------------------\n",
            " \n",
            "\n",
            "Objective:  1.3\n",
            "[[0.3], [1.0]]\n"
          ]
        }
      ],
      "source": [
        "m = GEKKO(remote=False)\n",
        "c = array([[1.0],[1.0]])\n",
        "A = array([[3,-2],[-8,10]])\n",
        "b = array([[-1],[10]])\n",
        "z1=m.Var(1,integer=False,lb=0.3)\n",
        "z2=m.Var(1,integer=True,lb=0,ub=1)\n",
        "z=[z1,z2]\n",
        "print(z1,z2,z)\n",
        "m.qobj(c,x=z,otype='min')\n",
        "m.axb(A,b,x=z,etype='<=')\n",
        "\n",
        "m.options.SOLVER = 1\n",
        "m.solve()\n",
        "print('Objective: ', m.options.OBJFCNVAL)\n",
        "print(z)\n"
      ]
    },
    {
      "cell_type": "markdown",
      "id": "TLN27F-Dvwoz",
      "metadata": {
        "id": "TLN27F-Dvwoz"
      },
      "source": [
        "## Question 4"
      ]
    },
    {
      "cell_type": "code",
      "execution_count": 15,
      "id": "dde89b17",
      "metadata": {
        "colab": {
          "base_uri": "https://localhost:8080/"
        },
        "id": "dde89b17",
        "outputId": "d6b26371-7c8b-4a3b-85e1-0fb3da68fb23"
      },
      "outputs": [
        {
          "name": "stdout",
          "output_type": "stream",
          "text": [
            "A\n",
            "[[55. 45. 60. 50. 30.]\n",
            " [40. 35. 25. 35. 30.]\n",
            " [25. 20.  0. 30.  0.]\n",
            " [ 0.  0.  1.  1.  0.]]\n",
            "b\n",
            "[[150. 110.  60.   1.]]\n",
            " ----------------------------------------------------------------\n",
            " APMonitor, Version 1.0.0\n",
            " APMonitor Optimization Suite\n",
            " ----------------------------------------------------------------\n",
            " \n",
            " \n",
            " --------- APM Model Size ------------\n",
            " Each time step contains\n",
            "   Objects      :  2\n",
            "   Constants    :  0\n",
            "   Variables    :  5\n",
            "   Intermediates:  0\n",
            "   Connections  :  10\n",
            "   Equations    :  0\n",
            "   Residuals    :  0\n",
            " \n",
            " Number of state variables:    5\n",
            " Number of total equations: -  4\n",
            " Number of slack variables: -  0\n",
            " ---------------------------------------\n",
            " Degrees of freedom       :    1\n",
            " \n",
            " ----------------------------------------------\n",
            " Steady State Optimization with APOPT Solver\n",
            " ----------------------------------------------\n",
            "Iter:     1 I:  0 Tm:     -0.00 NLPi:    2 Dpth:    0 Lvs:    3 Obj: -3.42E+02 Gap:       NaN\n",
            "--Integer Solution:  -3.30E+02 Lowest Leaf:  -3.42E+02 Gap:   3.72E-02\n",
            "Iter:     2 I:  0 Tm:     -0.00 NLPi:    1 Dpth:    1 Lvs:    2 Obj: -3.30E+02 Gap:  3.72E-02\n",
            "Iter:     3 I:  0 Tm:     -0.00 NLPi:    2 Dpth:    1 Lvs:    4 Obj: -3.34E+02 Gap:  3.72E-02\n",
            "--Integer Solution:  -3.30E+02 Lowest Leaf:  -3.34E+02 Gap:   1.15E-02\n",
            "Iter:     4 I:  0 Tm:     -0.00 NLPi:    2 Dpth:    1 Lvs:    3 Obj: -3.30E+02 Gap:  1.15E-02\n",
            "Iter:     5 I:  0 Tm:     -0.00 NLPi:    2 Dpth:    2 Lvs:    4 Obj: -3.42E+02 Gap:  1.15E-02\n",
            "Iter:     6 I: -1 Tm:     -0.00 NLPi:    0 Dpth:    3 Lvs:    3 Obj: -3.42E+02 Gap:  1.15E-02\n",
            "--Integer Solution:  -3.30E+02 Lowest Leaf:  -3.34E+02 Gap:   1.15E-02\n",
            "Iter:     7 I:  0 Tm:     -0.00 NLPi:    1 Dpth:    3 Lvs:    2 Obj: -3.30E+02 Gap:  1.15E-02\n",
            "Iter:     8 I:  0 Tm:     -0.00 NLPi:    2 Dpth:    2 Lvs:    1 Obj: -3.25E+02 Gap:  1.15E-02\n",
            "Iter:     9 I:  0 Tm:      0.00 NLPi:    3 Dpth:    2 Lvs:    0 Obj: -3.20E+02 Gap:  1.15E-02\n",
            " No additional trial points, returning the best integer solution\n",
            " Successful solution\n",
            " \n",
            " ---------------------------------------------------\n",
            " Solver         :  APOPT (v1.0)\n",
            " Solution time  :  0.0286 sec\n",
            " Objective      :  -330.\n",
            " Successful solution\n",
            " ---------------------------------------------------\n",
            " \n",
            "\n",
            "Objective:  -330.0\n",
            "[[1.0] [0.0] [0.0] [1.0] [1.0]]\n"
          ]
        }
      ],
      "source": [
        "m = GEKKO(remote=False)\n",
        "c = array([[120],[85],[105],[140],[70]])\n",
        "A = array([[55,45,60,50,30],[40,35,25,35,30],[25,20,0,30,0],[0,0,1,1,0]])\n",
        "b = array([[150],[110],[60],[1]])\n",
        "z = m.Array(m.Var,5,integer=True,lb=0,ub=1)\n",
        "m.qobj(c,x=z,otype='max')\n",
        "m.axb(A,b,x=z,etype='<=')\n",
        "m.options.SOLVER = 1\n",
        "m.solve()\n",
        "print('Objective: ', m.options.OBJFCNVAL)\n",
        "print(z)"
      ]
    },
    {
      "cell_type": "markdown",
      "id": "rBe9e-jnv_k1",
      "metadata": {
        "id": "rBe9e-jnv_k1"
      },
      "source": [
        "<center> ------------------------------------------------------------------------ END ------------------------------------------------------------------------  </center>"
      ]
    }
  ],
  "metadata": {
    "colab": {
      "provenance": []
    },
    "kernelspec": {
      "display_name": "Python 3.9.0 64-bit",
      "language": "python",
      "name": "python3"
    },
    "language_info": {
      "codemirror_mode": {
        "name": "ipython",
        "version": 3
      },
      "file_extension": ".py",
      "mimetype": "text/x-python",
      "name": "python",
      "nbconvert_exporter": "python",
      "pygments_lexer": "ipython3",
      "version": "3.9.0"
    },
    "vscode": {
      "interpreter": {
        "hash": "c07ce05c1b6b2db924f66d684c0ce8bf829868cfa2229a46826184626272e7c1"
      }
    }
  },
  "nbformat": 4,
  "nbformat_minor": 5
}
