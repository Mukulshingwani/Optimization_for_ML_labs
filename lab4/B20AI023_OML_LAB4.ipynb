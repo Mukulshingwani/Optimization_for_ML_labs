{
  "cells": [
    {
      "cell_type": "markdown",
      "metadata": {},
      "source": [
        "<h3> steepest decent method with inexact line search ( armijo and wolfe)"
      ]
    },
    {
      "cell_type": "markdown",
      "metadata": {},
      "source": [
        "<img src =\"Screenshot 2022-11-16 141759.jpg\">"
      ]
    },
    {
      "cell_type": "code",
      "execution_count": 1,
      "metadata": {
        "id": "KOr-r33TsdGq"
      },
      "outputs": [],
      "source": [
        "import numpy as np\n",
        "import matplotlib.pyplot as plt\n",
        "from matplotlib.ticker import MaxNLocator\n",
        "from itertools import product"
      ]
    },
    {
      "cell_type": "code",
      "execution_count": 2,
      "metadata": {
        "id": "yfKrvjuDwjD3"
      },
      "outputs": [],
      "source": [
        "r = 23 #Last digit of roll number\n",
        "n = 25+23 "
      ]
    },
    {
      "cell_type": "code",
      "execution_count": 3,
      "metadata": {
        "colab": {
          "base_uri": "https://localhost:8080/"
        },
        "id": "UqUGA_iJsh4_",
        "outputId": "36550173-c9e7-471c-af29-158b7b621008"
      },
      "outputs": [
        {
          "name": "stdout",
          "output_type": "stream",
          "text": [
            "1637 [111.00004001  29.00002   ]\n"
          ]
        }
      ],
      "source": [
        "def func(x):\n",
        "    return 4*(x[0]**2) - 3*(x[0]*x[1]) + 2*(x[1]**2) - x[0] + 2*x[1]\n",
        "\n",
        "def gradf(x):\n",
        "    n = len(x)\n",
        "    f0, g, h1 = func(x), np.zeros(n), pow(10, -5)\n",
        "    for i in range(n):\n",
        "        x1 = x.copy()\n",
        "        x1[i] = x1[i] + h1\n",
        "        g[i] = (func(x1)-f0) / h1\n",
        "    return g\n",
        "\n",
        "r = 23\n",
        "n = 25 + r\n",
        "x = [r, r+1]\n",
        "print(func(x), gradf(x))"
      ]
    },
    {
      "cell_type": "code",
      "execution_count": 4,
      "metadata": {
        "colab": {
          "base_uri": "https://localhost:8080/"
        },
        "id": "L3REefQhsuMo",
        "outputId": "919b9285-5ac5-4657-ed9e-98e7026367f7"
      },
      "outputs": [
        {
          "name": "stdout",
          "output_type": "stream",
          "text": [
            "[-0.08689459 -0.56515349]\n"
          ]
        }
      ],
      "source": [
        "x0= x\n",
        "#these are standard values as per inexact line search\n",
        "beta1= 10**(-4)\n",
        "beta2= 0.9\n",
        "r=0.5\n",
        "eps= 10**(-3)\n",
        "\n",
        "# armijo - wolfe condition\n",
        "while np.linalg.norm(gradf(x0))>eps:\n",
        "  d0, alpha= -gradf(x0) , 1\n",
        "  while (func(x0+ alpha*d0)>func(x0)+alpha*beta1*np.dot(gradf(x0).T,d0) or np.dot(gradf(x0+alpha*d0).T,d0)<beta2*np.dot(gradf(x0).T,d0)) and alpha>pow(10,-5):\n",
        "    alpha= alpha*r\n",
        "  x0= x0+ alpha*d0\n",
        "print(x0)"
      ]
    },
    {
      "cell_type": "code",
      "execution_count": 5,
      "metadata": {
        "id": "ddygnGsbsGz0"
      },
      "outputs": [],
      "source": [
        "def InexactLineSearch(f, xk, pk, gfk, phi0, alpha0, rho=0.5, c1=1e-4):\n",
        "    derphi0 = np.dot(gfk, pk)\n",
        "    phi_a0 = f(xk + alpha0*pk)\n",
        "    \n",
        "    while not phi_a0 <= phi0 + c1*alpha0*derphi0:\n",
        "        alpha0 = alpha0 * rho\n",
        "        phi_a0 = f(xk + alpha0*pk)\n",
        "    \n",
        "    return alpha0, phi_a0"
      ]
    },
    {
      "cell_type": "code",
      "execution_count": 6,
      "metadata": {
        "id": "9J9GawhXsi1u"
      },
      "outputs": [],
      "source": [
        "def plotFunc(x0):\n",
        "    x = np.linspace(-5, 7, 100)\n",
        "    plt.plot(x, func(x))\n",
        "    plt.plot(x0, func(x0), 'ro')\n",
        "    plt.xlabel('$x$')\n",
        "    plt.ylabel('$f(x)$')\n",
        "    plt.title('Objective Function')\n",
        "\n",
        "def plotPath(xs, ys, x0):\n",
        "    plotFunc(x0)\n",
        "    plt.plot(xs, ys, linestyle='--', marker='o', color='orange')\n",
        "    plt.plot(xs[-1], ys[-1], 'ro')"
      ]
    },
    {
      "cell_type": "code",
      "execution_count": 7,
      "metadata": {
        "id": "YHNV832fsmpW"
      },
      "outputs": [],
      "source": [
        "def GradientDescent(f, f_grad, init, alpha=1, tol=1e-5, max_iter=1000):\n",
        "    # initialize x, f(x), and f'(x)\n",
        "    xk = init    \n",
        "    fk = f(xk)\n",
        "    gfk = f_grad(xk)\n",
        "    gfk_norm = np.linalg.norm(gfk)\n",
        "    # initialize number of steps, save x and f(x)\n",
        "    num_iter = 0\n",
        "    curve_x = [xk]\n",
        "    curve_y = [fk]\n",
        "    print('Initial condition: y = {:.4f}, x = {} \\n'.format(fk, xk))\n",
        "    # take steps\n",
        "    while gfk_norm > tol and num_iter < max_iter:\n",
        "        # determine direction\n",
        "        pk = -gfk\n",
        "        # calculate new x, f(x), and f'(x)\n",
        "        alpha, fk = InexactLineSearch(f, xk, pk, gfk, fk, alpha0=alpha)\n",
        "        xk = xk + alpha * pk*1e-5\n",
        "        gfk = f_grad(xk)\n",
        "        gfk_norm = np.linalg.norm(gfk)\n",
        "        # increase number of steps by 1, save new x and f(x)\n",
        "        num_iter += 1\n",
        "        curve_x.append(xk)\n",
        "        curve_y.append(fk)\n",
        "        print('Iteration: {} \\t y = {:.4f}, x = {}, gradient = {:.4f}'.\n",
        "              format(num_iter, fk, xk, gfk_norm))\n",
        "    # print results\n",
        "    if num_iter == max_iter:\n",
        "        print('\\nGradient descent does not converge.')\n",
        "    else:\n",
        "        print('\\nSolution: \\t y = {:.4f}, x = {}'.format(fk, xk))\n",
        "    \n",
        "    return np.array(curve_x), np.array(curve_y)"
      ]
    },
    {
      "cell_type": "code",
      "execution_count": 8,
      "metadata": {
        "id": "yE61tr-ks-MI"
      },
      "outputs": [],
      "source": [
        "def plot(xs, ys):\n",
        "    fig, (ax1, ax2) = plt.subplots(1, 2, figsize=(12, 6))\n",
        "    plt.suptitle('Gradient Descent Method')\n",
        "\n",
        "    ax1.plot(xs[:,0], xs[:,1], linestyle='--', marker='o', color='orange')\n",
        "    ax1.plot(xs[-1,0], xs[-1,1], 'ro')\n",
        "    ax1.set(\n",
        "        title='Path During Optimization Process',\n",
        "        xlabel='x1',\n",
        "        ylabel='x2'\n",
        "    )\n",
        "    CS = ax1.contour(X, Y, Z)\n",
        "    ax1.clabel(CS, fontsize='smaller', fmt='%1.2f')\n",
        "    ax1.axis('square')\n",
        "\n",
        "    ax2.plot(ys, linestyle='--', marker='o', color='orange')\n",
        "    ax2.plot(len(ys)-1, ys[-1], 'ro')\n",
        "    ax2.xaxis.set_major_locator(MaxNLocator(integer=True))\n",
        "    ax2.set(\n",
        "        title='Objective Function Value During Optimization Process',\n",
        "        xlabel='Iterations',\n",
        "        ylabel='Objective Function Value'\n",
        "    )\n",
        "    ax2.legend(['Inexact line search algorithm'])\n",
        "\n",
        "    plt.tight_layout()\n",
        "    plt.show()"
      ]
    },
    {
      "cell_type": "code",
      "execution_count": 9,
      "metadata": {
        "colab": {
          "base_uri": "https://localhost:8080/",
          "height": 615
        },
        "id": "szfNyqROs3Eq",
        "outputId": "bc5b24f8-6ab4-4caf-fe6a-35fc6c602025"
      },
      "outputs": [
        {
          "name": "stdout",
          "output_type": "stream",
          "text": [
            "Initial condition: y = 0.3887, x = [0.23 0.23 0.23 0.23 0.23 0.23 0.23 0.23 0.23 0.23 0.23 0.23 0.23 0.23\n",
            " 0.23 0.23 0.23 0.23 0.23 0.23 0.23 0.23 0.23 0.23 0.23 0.23 0.23 0.23\n",
            " 0.23 0.23 0.23 0.23 0.23 0.23 0.23 0.23 0.23 0.23 0.23 0.23 0.23 0.23\n",
            " 0.23 0.23 0.23 0.23 0.23 0.23] \n",
            "\n",
            "Iteration: 1 \t y = 0.1490, x = [0.22999925 0.22998885 0.23       0.23       0.23       0.23\n",
            " 0.23       0.23       0.23       0.23       0.23       0.23\n",
            " 0.23       0.23       0.23       0.23       0.23       0.23\n",
            " 0.23       0.23       0.23       0.23       0.23       0.23\n",
            " 0.23       0.23       0.23       0.23       0.23       0.23\n",
            " 0.23       0.23       0.23       0.23       0.23       0.23\n",
            " 0.23       0.23       0.23       0.23       0.23       0.23\n",
            " 0.23       0.23       0.23       0.23       0.23       0.23      ], gradient = 2.2350\n",
            "Iteration: 2 \t y = -0.2957, x = [0.22999887 0.22998327 0.23       0.23       0.23       0.23\n",
            " 0.23       0.23       0.23       0.23       0.23       0.23\n",
            " 0.23       0.23       0.23       0.23       0.23       0.23\n",
            " 0.23       0.23       0.23       0.23       0.23       0.23\n",
            " 0.23       0.23       0.23       0.23       0.23       0.23\n",
            " 0.23       0.23       0.23       0.23       0.23       0.23\n",
            " 0.23       0.23       0.23       0.23       0.23       0.23\n",
            " 0.23       0.23       0.23       0.23       0.23       0.23      ], gradient = 2.2350\n"
          ]
        },
        {
          "ename": "KeyboardInterrupt",
          "evalue": "",
          "output_type": "error",
          "traceback": [
            "\u001b[1;31m---------------------------------------------------------------------------\u001b[0m",
            "\u001b[1;31mKeyboardInterrupt\u001b[0m                         Traceback (most recent call last)",
            "\u001b[1;32mC:\\Users\\MUKULS~1\\AppData\\Local\\Temp/ipykernel_28332/2269571045.py\u001b[0m in \u001b[0;36m<module>\u001b[1;34m\u001b[0m\n\u001b[0;32m      1\u001b[0m \u001b[0mx0\u001b[0m \u001b[1;33m=\u001b[0m \u001b[0mnp\u001b[0m\u001b[1;33m.\u001b[0m\u001b[0marray\u001b[0m\u001b[1;33m(\u001b[0m\u001b[1;33m[\u001b[0m\u001b[1;36m0.23\u001b[0m\u001b[1;33m]\u001b[0m\u001b[1;33m*\u001b[0m\u001b[1;33m(\u001b[0m\u001b[0mn\u001b[0m\u001b[1;33m)\u001b[0m\u001b[1;33m)\u001b[0m\u001b[1;33m\u001b[0m\u001b[1;33m\u001b[0m\u001b[0m\n\u001b[1;32m----> 2\u001b[1;33m \u001b[0mxs\u001b[0m\u001b[1;33m,\u001b[0m \u001b[0mys\u001b[0m \u001b[1;33m=\u001b[0m \u001b[0mGradientDescent\u001b[0m\u001b[1;33m(\u001b[0m\u001b[0mfunc\u001b[0m\u001b[1;33m,\u001b[0m \u001b[0mgradf\u001b[0m\u001b[1;33m,\u001b[0m \u001b[0minit\u001b[0m\u001b[1;33m=\u001b[0m\u001b[0mx0\u001b[0m\u001b[1;33m)\u001b[0m\u001b[1;33m\u001b[0m\u001b[1;33m\u001b[0m\u001b[0m\n\u001b[0m\u001b[0;32m      3\u001b[0m \u001b[1;31m#plotPath(xs, ys, x0)\u001b[0m\u001b[1;33m\u001b[0m\u001b[1;33m\u001b[0m\u001b[1;33m\u001b[0m\u001b[0m\n\u001b[0;32m      4\u001b[0m \u001b[1;31m#plot(xs, ys)\u001b[0m\u001b[1;33m\u001b[0m\u001b[1;33m\u001b[0m\u001b[1;33m\u001b[0m\u001b[0m\n",
            "\u001b[1;32mC:\\Users\\MUKULS~1\\AppData\\Local\\Temp/ipykernel_28332/3917476078.py\u001b[0m in \u001b[0;36mGradientDescent\u001b[1;34m(f, f_grad, init, alpha, tol, max_iter)\u001b[0m\n\u001b[0;32m     15\u001b[0m         \u001b[0mpk\u001b[0m \u001b[1;33m=\u001b[0m \u001b[1;33m-\u001b[0m\u001b[0mgfk\u001b[0m\u001b[1;33m\u001b[0m\u001b[1;33m\u001b[0m\u001b[0m\n\u001b[0;32m     16\u001b[0m         \u001b[1;31m# calculate new x, f(x), and f'(x)\u001b[0m\u001b[1;33m\u001b[0m\u001b[1;33m\u001b[0m\u001b[1;33m\u001b[0m\u001b[0m\n\u001b[1;32m---> 17\u001b[1;33m         \u001b[0malpha\u001b[0m\u001b[1;33m,\u001b[0m \u001b[0mfk\u001b[0m \u001b[1;33m=\u001b[0m \u001b[0mInexactLineSearch\u001b[0m\u001b[1;33m(\u001b[0m\u001b[0mf\u001b[0m\u001b[1;33m,\u001b[0m \u001b[0mxk\u001b[0m\u001b[1;33m,\u001b[0m \u001b[0mpk\u001b[0m\u001b[1;33m,\u001b[0m \u001b[0mgfk\u001b[0m\u001b[1;33m,\u001b[0m \u001b[0mfk\u001b[0m\u001b[1;33m,\u001b[0m \u001b[0malpha0\u001b[0m\u001b[1;33m=\u001b[0m\u001b[0malpha\u001b[0m\u001b[1;33m)\u001b[0m\u001b[1;33m\u001b[0m\u001b[1;33m\u001b[0m\u001b[0m\n\u001b[0m\u001b[0;32m     18\u001b[0m         \u001b[0mxk\u001b[0m \u001b[1;33m=\u001b[0m \u001b[0mxk\u001b[0m \u001b[1;33m+\u001b[0m \u001b[0malpha\u001b[0m \u001b[1;33m*\u001b[0m \u001b[0mpk\u001b[0m\u001b[1;33m*\u001b[0m\u001b[1;36m1e-5\u001b[0m\u001b[1;33m\u001b[0m\u001b[1;33m\u001b[0m\u001b[0m\n\u001b[0;32m     19\u001b[0m         \u001b[0mgfk\u001b[0m \u001b[1;33m=\u001b[0m \u001b[0mf_grad\u001b[0m\u001b[1;33m(\u001b[0m\u001b[0mxk\u001b[0m\u001b[1;33m)\u001b[0m\u001b[1;33m\u001b[0m\u001b[1;33m\u001b[0m\u001b[0m\n",
            "\u001b[1;32mC:\\Users\\MUKULS~1\\AppData\\Local\\Temp/ipykernel_28332/2089504813.py\u001b[0m in \u001b[0;36mInexactLineSearch\u001b[1;34m(f, xk, pk, gfk, phi0, alpha0, rho, c1)\u001b[0m\n\u001b[0;32m      5\u001b[0m     \u001b[1;32mwhile\u001b[0m \u001b[1;32mnot\u001b[0m \u001b[0mphi_a0\u001b[0m \u001b[1;33m<=\u001b[0m \u001b[0mphi0\u001b[0m \u001b[1;33m+\u001b[0m \u001b[0mc1\u001b[0m\u001b[1;33m*\u001b[0m\u001b[0malpha0\u001b[0m\u001b[1;33m*\u001b[0m\u001b[0mderphi0\u001b[0m\u001b[1;33m:\u001b[0m\u001b[1;33m\u001b[0m\u001b[1;33m\u001b[0m\u001b[0m\n\u001b[0;32m      6\u001b[0m         \u001b[0malpha0\u001b[0m \u001b[1;33m=\u001b[0m \u001b[0malpha0\u001b[0m \u001b[1;33m*\u001b[0m \u001b[0mrho\u001b[0m\u001b[1;33m\u001b[0m\u001b[1;33m\u001b[0m\u001b[0m\n\u001b[1;32m----> 7\u001b[1;33m         \u001b[0mphi_a0\u001b[0m \u001b[1;33m=\u001b[0m \u001b[0mf\u001b[0m\u001b[1;33m(\u001b[0m\u001b[0mxk\u001b[0m \u001b[1;33m+\u001b[0m \u001b[0malpha0\u001b[0m\u001b[1;33m*\u001b[0m\u001b[0mpk\u001b[0m\u001b[1;33m)\u001b[0m\u001b[1;33m\u001b[0m\u001b[1;33m\u001b[0m\u001b[0m\n\u001b[0m\u001b[0;32m      8\u001b[0m \u001b[1;33m\u001b[0m\u001b[0m\n\u001b[0;32m      9\u001b[0m     \u001b[1;32mreturn\u001b[0m \u001b[0malpha0\u001b[0m\u001b[1;33m,\u001b[0m \u001b[0mphi_a0\u001b[0m\u001b[1;33m\u001b[0m\u001b[1;33m\u001b[0m\u001b[0m\n",
            "\u001b[1;32mC:\\Users\\MUKULS~1\\AppData\\Local\\Temp/ipykernel_28332/2576892571.py\u001b[0m in \u001b[0;36mfunc\u001b[1;34m(x)\u001b[0m\n\u001b[1;32m----> 1\u001b[1;33m \u001b[1;32mdef\u001b[0m \u001b[0mfunc\u001b[0m\u001b[1;33m(\u001b[0m\u001b[0mx\u001b[0m\u001b[1;33m)\u001b[0m\u001b[1;33m:\u001b[0m\u001b[1;33m\u001b[0m\u001b[1;33m\u001b[0m\u001b[0m\n\u001b[0m\u001b[0;32m      2\u001b[0m     \u001b[1;32mreturn\u001b[0m \u001b[1;36m4\u001b[0m\u001b[1;33m*\u001b[0m\u001b[1;33m(\u001b[0m\u001b[0mx\u001b[0m\u001b[1;33m[\u001b[0m\u001b[1;36m0\u001b[0m\u001b[1;33m]\u001b[0m\u001b[1;33m**\u001b[0m\u001b[1;36m2\u001b[0m\u001b[1;33m)\u001b[0m \u001b[1;33m-\u001b[0m \u001b[1;36m3\u001b[0m\u001b[1;33m*\u001b[0m\u001b[1;33m(\u001b[0m\u001b[0mx\u001b[0m\u001b[1;33m[\u001b[0m\u001b[1;36m0\u001b[0m\u001b[1;33m]\u001b[0m\u001b[1;33m*\u001b[0m\u001b[0mx\u001b[0m\u001b[1;33m[\u001b[0m\u001b[1;36m1\u001b[0m\u001b[1;33m]\u001b[0m\u001b[1;33m)\u001b[0m \u001b[1;33m+\u001b[0m \u001b[1;36m2\u001b[0m\u001b[1;33m*\u001b[0m\u001b[1;33m(\u001b[0m\u001b[0mx\u001b[0m\u001b[1;33m[\u001b[0m\u001b[1;36m1\u001b[0m\u001b[1;33m]\u001b[0m\u001b[1;33m**\u001b[0m\u001b[1;36m2\u001b[0m\u001b[1;33m)\u001b[0m \u001b[1;33m-\u001b[0m \u001b[0mx\u001b[0m\u001b[1;33m[\u001b[0m\u001b[1;36m0\u001b[0m\u001b[1;33m]\u001b[0m \u001b[1;33m+\u001b[0m \u001b[1;36m2\u001b[0m\u001b[1;33m*\u001b[0m\u001b[0mx\u001b[0m\u001b[1;33m[\u001b[0m\u001b[1;36m1\u001b[0m\u001b[1;33m]\u001b[0m\u001b[1;33m\u001b[0m\u001b[1;33m\u001b[0m\u001b[0m\n\u001b[0;32m      3\u001b[0m \u001b[1;33m\u001b[0m\u001b[0m\n\u001b[0;32m      4\u001b[0m \u001b[1;32mdef\u001b[0m \u001b[0mgradf\u001b[0m\u001b[1;33m(\u001b[0m\u001b[0mx\u001b[0m\u001b[1;33m)\u001b[0m\u001b[1;33m:\u001b[0m\u001b[1;33m\u001b[0m\u001b[1;33m\u001b[0m\u001b[0m\n\u001b[0;32m      5\u001b[0m     \u001b[0mn\u001b[0m \u001b[1;33m=\u001b[0m \u001b[0mlen\u001b[0m\u001b[1;33m(\u001b[0m\u001b[0mx\u001b[0m\u001b[1;33m)\u001b[0m\u001b[1;33m\u001b[0m\u001b[1;33m\u001b[0m\u001b[0m\n",
            "\u001b[1;31mKeyboardInterrupt\u001b[0m: "
          ]
        }
      ],
      "source": [
        "\n",
        "x0 = np.array([0.23]*(n))\n",
        "xs, ys = GradientDescent(func, gradf, init=x0)\n",
        "#plotPath(xs, ys, x0)\n",
        "#plot(xs, ys)"
      ]
    }
  ],
  "metadata": {
    "colab": {
      "provenance": []
    },
    "kernelspec": {
      "display_name": "Python 3.9.0 64-bit",
      "language": "python",
      "name": "python3"
    },
    "language_info": {
      "codemirror_mode": {
        "name": "ipython",
        "version": 3
      },
      "file_extension": ".py",
      "mimetype": "text/x-python",
      "name": "python",
      "nbconvert_exporter": "python",
      "pygments_lexer": "ipython3",
      "version": "3.9.0"
    },
    "vscode": {
      "interpreter": {
        "hash": "c07ce05c1b6b2db924f66d684c0ce8bf829868cfa2229a46826184626272e7c1"
      }
    }
  },
  "nbformat": 4,
  "nbformat_minor": 0
}
