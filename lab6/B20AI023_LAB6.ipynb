{
  "cells": [
    {
      "cell_type": "markdown",
      "metadata": {},
      "source": [
        "<h3>Gradient Descent and stochastic gradient descent methods </h3> "
      ]
    },
    {
      "cell_type": "markdown",
      "metadata": {
        "id": "rXYbHEtT1T7Y"
      },
      "source": [
        "<h3>Name : Mukul Shingwani\n",
        "<br>\n",
        "<h3>Roll : B20AI023"
      ]
    },
    {
      "cell_type": "markdown",
      "metadata": {},
      "source": [
        "<img src =\"Screenshot 2022-11-16 141711.jpg\">"
      ]
    },
    {
      "cell_type": "code",
      "execution_count": 3,
      "metadata": {
        "id": "2bp4_RNg0c86"
      },
      "outputs": [],
      "source": [
        "import numpy as np\n",
        "import pandas as pd\n",
        "import matplotlib.pyplot as plt"
      ]
    },
    {
      "cell_type": "code",
      "execution_count": 4,
      "metadata": {
        "id": "Asr5X0W71Yu7"
      },
      "outputs": [],
      "source": [
        "df = pd.read_csv('2_column_dataset[linear] (1).csv')"
      ]
    },
    {
      "cell_type": "code",
      "execution_count": 5,
      "metadata": {
        "colab": {
          "base_uri": "https://localhost:8080/",
          "height": 424
        },
        "id": "CyEx6vdI126m",
        "outputId": "68677a80-1460-47fd-d6cb-b77ec6fb1b46"
      },
      "outputs": [
        {
          "data": {
            "text/html": [
              "<div>\n",
              "<style scoped>\n",
              "    .dataframe tbody tr th:only-of-type {\n",
              "        vertical-align: middle;\n",
              "    }\n",
              "\n",
              "    .dataframe tbody tr th {\n",
              "        vertical-align: top;\n",
              "    }\n",
              "\n",
              "    .dataframe thead th {\n",
              "        text-align: right;\n",
              "    }\n",
              "</style>\n",
              "<table border=\"1\" class=\"dataframe\">\n",
              "  <thead>\n",
              "    <tr style=\"text-align: right;\">\n",
              "      <th></th>\n",
              "      <th>X</th>\n",
              "      <th>f(X)</th>\n",
              "    </tr>\n",
              "  </thead>\n",
              "  <tbody>\n",
              "    <tr>\n",
              "      <th>0</th>\n",
              "      <td>0.641677</td>\n",
              "      <td>1.094105</td>\n",
              "    </tr>\n",
              "    <tr>\n",
              "      <th>1</th>\n",
              "      <td>-0.076840</td>\n",
              "      <td>-0.140966</td>\n",
              "    </tr>\n",
              "    <tr>\n",
              "      <th>2</th>\n",
              "      <td>-0.145054</td>\n",
              "      <td>0.287691</td>\n",
              "    </tr>\n",
              "    <tr>\n",
              "      <th>3</th>\n",
              "      <td>-0.101638</td>\n",
              "      <td>-4.788898</td>\n",
              "    </tr>\n",
              "    <tr>\n",
              "      <th>4</th>\n",
              "      <td>-0.829183</td>\n",
              "      <td>-7.958363</td>\n",
              "    </tr>\n",
              "    <tr>\n",
              "      <th>...</th>\n",
              "      <td>...</td>\n",
              "      <td>...</td>\n",
              "    </tr>\n",
              "    <tr>\n",
              "      <th>1995</th>\n",
              "      <td>-0.406379</td>\n",
              "      <td>-3.081566</td>\n",
              "    </tr>\n",
              "    <tr>\n",
              "      <th>1996</th>\n",
              "      <td>-1.690617</td>\n",
              "      <td>-4.626408</td>\n",
              "    </tr>\n",
              "    <tr>\n",
              "      <th>1997</th>\n",
              "      <td>-2.205103</td>\n",
              "      <td>-8.354884</td>\n",
              "    </tr>\n",
              "    <tr>\n",
              "      <th>1998</th>\n",
              "      <td>0.494990</td>\n",
              "      <td>0.665459</td>\n",
              "    </tr>\n",
              "    <tr>\n",
              "      <th>1999</th>\n",
              "      <td>-0.500474</td>\n",
              "      <td>1.292592</td>\n",
              "    </tr>\n",
              "  </tbody>\n",
              "</table>\n",
              "<p>2000 rows × 2 columns</p>\n",
              "</div>"
            ],
            "text/plain": [
              "             X      f(X)\n",
              "0     0.641677  1.094105\n",
              "1    -0.076840 -0.140966\n",
              "2    -0.145054  0.287691\n",
              "3    -0.101638 -4.788898\n",
              "4    -0.829183 -7.958363\n",
              "...        ...       ...\n",
              "1995 -0.406379 -3.081566\n",
              "1996 -1.690617 -4.626408\n",
              "1997 -2.205103 -8.354884\n",
              "1998  0.494990  0.665459\n",
              "1999 -0.500474  1.292592\n",
              "\n",
              "[2000 rows x 2 columns]"
            ]
          },
          "execution_count": 5,
          "metadata": {},
          "output_type": "execute_result"
        }
      ],
      "source": [
        "df"
      ]
    },
    {
      "cell_type": "code",
      "execution_count": 6,
      "metadata": {
        "id": "WwNhv5kpx2P0"
      },
      "outputs": [],
      "source": [
        "data = np.array(df)"
      ]
    },
    {
      "cell_type": "code",
      "execution_count": 7,
      "metadata": {
        "colab": {
          "base_uri": "https://localhost:8080/"
        },
        "id": "kUwHCOlTyD6Y",
        "outputId": "a6eb5005-73a4-493a-c743-3decf779a184"
      },
      "outputs": [
        {
          "data": {
            "text/plain": [
              "0.6416766584030617"
            ]
          },
          "execution_count": 7,
          "metadata": {},
          "output_type": "execute_result"
        }
      ],
      "source": [
        "data[0][0]"
      ]
    },
    {
      "cell_type": "markdown",
      "metadata": {
        "id": "MOYFRECl3ydI"
      },
      "source": [
        "#Q1\n",
        "<h4> Consider the 2 column data set. Write code for linear regression using gradient descent method. Choose f(β) = 1/2N*sum((β1xi+β2 − yi)^2 and stopping condition ∥∇f(x)∥ < 0.01.</h4>"
      ]
    },
    {
      "cell_type": "code",
      "execution_count": 8,
      "metadata": {
        "id": "Sl_ViAUOyr4f"
      },
      "outputs": [],
      "source": [
        "def fun(data, m, c):\n",
        "    f = 0\n",
        "    for i in range(len(data)):\n",
        "        f = f + pow(m*data[i][0] + c - data[i][1], 2)\n",
        "    f = f/(2*len(data))\n",
        "    return f"
      ]
    },
    {
      "cell_type": "code",
      "execution_count": 9,
      "metadata": {
        "id": "LDTozEnfYoyD"
      },
      "outputs": [],
      "source": [
        "def gradient_f(data, m, c):\n",
        "    N = len(data[:,0])\n",
        "    grad = np.zeros((2, 1), dtype = float)\n",
        "    grad[0] = 0.0\n",
        "    grad[1] = 0.0\n",
        "    \n",
        "    for i in range(len(data)):\n",
        "        grad[0] = grad[0] + data[i][0]*(m*data[i][0] + c - data[i][1])\n",
        "    grad[0] = grad[0]/N\n",
        "\n",
        "    for i in range(len(data)):\n",
        "        grad[1] = grad[1] + m*data[i][0] + c - data[i][1]\n",
        "    grad[1] = grad[1]/N\n",
        "    return grad"
      ]
    },
    {
      "cell_type": "code",
      "execution_count": 10,
      "metadata": {
        "id": "rQ8qSXSKtpzW"
      },
      "outputs": [],
      "source": [
        "m = 0.0\n",
        "c = 0.0\n",
        "beta_1 = 1e-4\n",
        "beta_2 = 0.9\n",
        "alpha = 1\n",
        "r = 0.5\n",
        "k = 0\n",
        "epsilon = 1e-2"
      ]
    },
    {
      "cell_type": "code",
      "execution_count": 11,
      "metadata": {
        "colab": {
          "base_uri": "https://localhost:8080/"
        },
        "id": "r2s_yApvy4MH",
        "outputId": "f9b4cfab-fb5f-4fae-f0db-1da804a7b8da"
      },
      "outputs": [
        {
          "name": "stdout",
          "output_type": "stream",
          "text": [
            "1 [-7.08231009]\n",
            "1 [-0.02035331]\n",
            "1 [-5.89773345e-05]\n",
            "[3.67217187] [0.0716981] [2.00275395] 3\n"
          ]
        }
      ],
      "source": [
        "f0 = fun(data, m, c)\n",
        "g0 = gradient_f(data, m, c)\n",
        "\n",
        "while(np.linalg.norm(g0) > epsilon and k < 1000):\n",
        "    d0 = -1*g0\n",
        "    alpha = 1\n",
        "    f1 = fun(data, m + alpha*d0[0], c + alpha*d0[1])\n",
        "    g1 = gradient_f(data, m + alpha*d0[0], c + alpha*d0[1])\n",
        "\n",
        "    while f1 > f0 + alpha*beta_1*np.dot(g0.T, d0) or np.dot(g1.T, d0) < beta_2*np.dot(g0.T, d0):\n",
        "        alpha = alpha*r\n",
        "        f1 = fun(data, m + alpha*d0[0], c + alpha*d0[1])\n",
        "        g1 = gradient_f(data, m + alpha*d0[0], c + alpha*d0[1])\n",
        "    k = k + 1\n",
        "    print(alpha, f1 - f0)\n",
        "    m = m + alpha*d0[0]\n",
        "    c = c + alpha*d0[1]\n",
        "    f0 = fun(data, m, c)\n",
        "    g0 = gradient_f(data, m, c)\n",
        "\n",
        "print(m, c, fun(data, m, c), k)"
      ]
    },
    {
      "cell_type": "markdown",
      "metadata": {
        "id": "pTX2LT9M3BCl"
      },
      "source": [
        "# Q2\n",
        "<h4>Write code for stochastic gradient for the above problem with 20 random points in every iterations.</h4>"
      ]
    },
    {
      "cell_type": "code",
      "execution_count": 12,
      "metadata": {
        "id": "bZ9vB6rQ4EGt"
      },
      "outputs": [],
      "source": [
        "m = 0.0\n",
        "c = 0.0\n",
        "beta_1 = 1e-4\n",
        "beta_2 = 0.9\n",
        "alpha = 1\n",
        "r = 0.5\n",
        "k = 0\n",
        "epsilon = 1e-3"
      ]
    },
    {
      "cell_type": "code",
      "execution_count": 13,
      "metadata": {
        "colab": {
          "base_uri": "https://localhost:8080/"
        },
        "id": "AnSVfH4t4EGt",
        "outputId": "0ad973df-37e2-4cd1-d97c-82274c52f231"
      },
      "outputs": [
        {
          "name": "stdout",
          "output_type": "stream",
          "text": [
            "[3.68962292] [0.07772512] [2.00294231] 24\n"
          ]
        }
      ],
      "source": [
        "f0 = fun(data, m, c)\n",
        "\n",
        "while(f0 > 2.003 and k < 1000):\n",
        "    temp_data = np.array(df.sample(frac = 0.01))\n",
        "    g0 = gradient_f(temp_data, m, c)\n",
        "    d0 = -1*g0\n",
        "    alpha = 1/(k + 1)\n",
        "    f1 = fun(data, m + alpha*d0[0], c + alpha*d0[1])\n",
        "    if(f1 < f0):\n",
        "        m = m + alpha*d0[0]\n",
        "        c = c + alpha*d0[1]\n",
        "        f0 = f1\n",
        "    k = k + 1\n",
        "print(m, c, fun(data, m, c), k)"
      ]
    },
    {
      "cell_type": "markdown",
      "metadata": {
        "id": "sHuJMCFK5rKG"
      },
      "source": [
        "# Q3\n",
        "<h4>Consider the 2 column data set. Write code for best fitting quadratic polynomial using gradient descent method. Choose\n",
        "stopping condition ∥∇f(x)∥ < 0.01. </h4>"
      ]
    },
    {
      "cell_type": "code",
      "execution_count": 14,
      "metadata": {
        "id": "6XMVzD-O5wjQ"
      },
      "outputs": [],
      "source": [
        "def fun(data, m1, m2, c):\n",
        "    f = 0\n",
        "    for i in range(len(data)):\n",
        "        f = f + pow(m1*pow(data[i][0], 2) + m2*data[i][0] + c - data[i][1], 2)\n",
        "    f = f/(2*len(data))\n",
        "    return f"
      ]
    },
    {
      "cell_type": "code",
      "execution_count": 15,
      "metadata": {
        "id": "q_VvCI2H5wjS"
      },
      "outputs": [],
      "source": [
        "def gradient_f(data, m1, m2, c):\n",
        "    N = len(data[:,0])\n",
        "    grad = np.zeros((3, 1), dtype = float)\n",
        "\n",
        "    for i in range(len(data)):\n",
        "        grad[0] = grad[0] + pow(data[i][0], 2)*(m1*pow(data[i][0], 2) + m2*data[i][0] + c - data[i][1])\n",
        "    grad[0] = grad[0]/N\n",
        "    \n",
        "    for i in range(len(data)):\n",
        "        grad[1] = grad[1] + data[i][0]*(m1*pow(data[i][0], 2) + m2*data[i][0] + c - data[i][1])\n",
        "    grad[1] = grad[1]/N\n",
        "\n",
        "    for i in range(len(data)):\n",
        "        grad[2] = grad[2] + (m1*pow(data[i][0], 2) + m2*data[i][0] + c - data[i][1])\n",
        "    grad[2] = grad[2]/N\n",
        "    return grad"
      ]
    },
    {
      "cell_type": "code",
      "execution_count": 16,
      "metadata": {
        "id": "2_txTyO65wjT"
      },
      "outputs": [],
      "source": [
        "\n",
        "m1 = 0.0\n",
        "m2 = 0.0\n",
        "c = 0.0\n",
        "beta_1 = 1e-4\n",
        "beta_2 = 0.9\n",
        "alpha = 1\n",
        "r = 0.5\n",
        "epsilon = 1e-2\n",
        "k = 0"
      ]
    },
    {
      "cell_type": "code",
      "execution_count": 17,
      "metadata": {
        "colab": {
          "base_uri": "https://localhost:8080/"
        },
        "id": "S1E-iB2x5wjT",
        "outputId": "72922609-654a-41ed-9e53-4cc8b1783ef5"
      },
      "outputs": [
        {
          "name": "stdout",
          "output_type": "stream",
          "text": [
            "1 [-6.75701011] 9.105476325226592\n",
            "0.5 [-0.05693932] [2.34846621]\n",
            "0.5 [-0.03843571] [2.29152689]\n",
            "0.5 [-0.03089691] [2.25309118]\n",
            "0.5 [-0.02639997] [2.22219427]\n",
            "0.5 [-0.02300585] [2.1957943]\n",
            "0.5 [-0.02018418] [2.17278845]\n",
            "0.5 [-0.01775535] [2.15260427]\n",
            "0.5 [-0.01563706] [2.13484892]\n",
            "0.5 [-0.01377932] [2.11921186]\n",
            "0.5 [-0.01214585] [2.10543254]\n",
            "0.5 [-0.0107077] [2.09328669]\n",
            "0.5 [-0.00944062] [2.082579]\n",
            "0.5 [-0.00832387] [2.07313838]\n",
            "0.5 [-0.0073394] [2.06481451]\n",
            "0.5 [-0.00647145] [2.05747511]\n",
            "0.5 [-0.00570619] [2.05100365]\n",
            "0.5 [-0.00503145] [2.04529746]\n",
            "0.5 [-0.0044365] [2.04026601]\n",
            "0.5 [-0.0039119] [2.03582952]\n",
            "0.5 [-0.00344934] [2.03191761]\n",
            "0.5 [-0.00304148] [2.02846827]\n",
            "0.5 [-0.00268184] [2.0254268]\n",
            "0.5 [-0.00236473] [2.02274496]\n",
            "0.5 [-0.00208511] [2.02038023]\n",
            "0.5 [-0.00183856] [2.01829512]\n",
            "0.5 [-0.00162116] [2.01645655]\n",
            "0.5 [-0.00142947] [2.01483539]\n",
            "0.5 [-0.00126044] [2.01340592]\n",
            "0.5 [-0.0011114] [2.01214548]\n",
            "0.5 [-0.00097999] [2.01103407]\n",
            "0.5 [-0.00086411] [2.01005408]\n",
            "0.5 [-0.00076193] [2.00918997]\n",
            "0.5 [-0.00067184] [2.00842804]\n",
            "0.5 [-0.0005924] [2.0077562]\n",
            "0.5 [-0.00052235] [2.0071638]\n",
            "0.5 [-0.00046059] [2.00664145]\n",
            "0.5 [-0.00040613] [2.00618086]\n",
            "0.5 [-0.0003581] [2.00577473]\n",
            "0.5 [-0.00031576] [2.00541663]\n",
            "0.5 [-0.00027842] [2.00510087]\n",
            "0.5 [-0.0002455] [2.00482245]\n",
            "0.5 [-0.00021647] [2.00457695]\n",
            "0.5 [-0.00019088] [2.00436047]\n",
            "0.5 [-0.00016831] [2.0041696]\n",
            "0.5 [-0.0001484] [2.00400129]\n",
            "0.5 [-0.00013086] [2.00385289]\n",
            "0.5 [-0.00011538] [2.00372203]\n",
            "0.5 [-0.00010174] [2.00360665]\n",
            "0.5 [-8.97102535e-05] [2.00350491]\n",
            "0.5 [-7.91025673e-05] [2.0034152]\n",
            "0.5 [-6.97491749e-05] [2.00333609]\n",
            "0.5 [-6.15017636e-05] [2.00326634]\n",
            "0.5 [-5.4229558e-05] [2.00320484]\n",
            "0.5 [-4.7817246e-05] [2.00315061]\n",
            "0.5 [-4.21631506e-05] [2.00310279]\n",
            "0.5 [-3.71776171e-05] [2.00306063]\n",
            "0.5 [-3.27815924e-05] [2.00302345]\n",
            "0.5 [-2.89053705e-05] [2.00299067]\n",
            "0.5 [-2.54874881e-05] [2.00296177]\n",
            "0.5 [-2.24737493e-05] [2.00293628]\n",
            "0.5 [-1.98163665e-05] [2.00291381]\n",
            "0.5 [-1.7473203e-05] [2.00289399]\n",
            "0.5 [-1.54071041e-05] [2.00287652]\n",
            "0.5 [-1.35853087e-05] [2.00286111]\n",
            "0.5 [-1.19789295e-05] [2.00284752]\n",
            "0.5 [-1.05624947e-05] [2.00283554]\n",
            "0.5 [-9.3135446e-06] [2.00282498]\n",
            "0.5 [-8.21227518e-06] [2.00281567]\n",
            "0.5 [-7.24122411e-06] [2.00280746]\n",
            "0.5 [-6.38499386e-06] [2.00280022]\n",
            "0.5 [-5.63000758e-06] [2.00279383]\n",
            "0.5 [-4.96429378e-06] [2.0027882]\n",
            "0.5 [-4.37729655e-06] [2.00278324]\n",
            "0.5 [-3.85970813e-06] [2.00277886]\n",
            "0.5 [-3.40332137e-06] [2.002775]\n",
            "0.5 [-3.00089953e-06] [2.0027716]\n",
            "0.5 [-2.6460616e-06] [2.00276859]\n",
            "0.5 [-2.33318108e-06] [2.00276595]\n",
            "0.5 [-2.05729675e-06] [2.00276362]\n",
            "0.5 [-1.81403406e-06] [2.00276156]\n",
            "0.5 [-1.59953568e-06] [2.00275974]\n",
            "[-0.00485504] [3.67176844] [0.07355137] [2.00275814] 82\n"
          ]
        }
      ],
      "source": [
        "f0 = fun(data, m1, m2, c)\n",
        "g0 = gradient_f(data, m1, m2, c)\n",
        "\n",
        "while(np.linalg.norm(g0) > epsilon and k < 1000):\n",
        "    d0 = -1*g0\n",
        "    alpha = 1\n",
        "    f1 = fun(data, m1 + alpha*d0[0], m2 + alpha*d0[1], c + alpha*d0[2])\n",
        "    g1 = gradient_f(data, m1 + alpha*d0[0], m2 + alpha*d0[1], c + alpha*d0[2])\n",
        "\n",
        "    while f1 > f0 + alpha*beta_1*np.dot(g0.T, d0) or np.dot(g1.T, d0) < beta_2*np.dot(g0.T, d0):\n",
        "        alpha = alpha*r\n",
        "        f1 = fun(data, m1 + alpha*d0[0], m2 + alpha*d0[1], c + alpha*d0[2])\n",
        "        g1 = gradient_f(data, m1 + alpha*d0[0], m2 + alpha*d0[1], c + alpha*d0[2])\n",
        "    k = k + 1\n",
        "    print(alpha, f1 - f0, f0)\n",
        "    m1 = m1 + alpha*d0[0]\n",
        "    m2 = m2 + alpha*d0[1]\n",
        "    c = c + alpha*d0[2]\n",
        "    f0 = fun(data, m1, m2, c)\n",
        "    g0 = gradient_f(data, m1, m2, c)\n",
        "  \n",
        "print(m1, m2, c, fun(data, m1, m2, c), k)"
      ]
    },
    {
      "cell_type": "markdown",
      "metadata": {
        "id": "MDkkIHyP3Ygq"
      },
      "source": [
        "#Q4\n",
        "<h4>Write code for stochastic gradient for the above problem with 20 random points in every iterations."
      ]
    },
    {
      "cell_type": "code",
      "execution_count": 18,
      "metadata": {
        "id": "ppOXN3Wx-G-h"
      },
      "outputs": [],
      "source": [
        "m1 = 0.0\n",
        "m2 = 0.0\n",
        "c = 0.0\n",
        "beta_1 = 1e-4\n",
        "beta_2 = 0.9\n",
        "alpha = 1\n",
        "r = 0.5\n",
        "epsilon = 1e-2\n",
        "k = 0"
      ]
    },
    {
      "cell_type": "code",
      "execution_count": 19,
      "metadata": {
        "colab": {
          "base_uri": "https://localhost:8080/"
        },
        "id": "IQfq_UiP-Pub",
        "outputId": "e8afe640-f882-4683-d0ed-c92634fa8366"
      },
      "outputs": [
        {
          "name": "stdout",
          "output_type": "stream",
          "text": [
            "[-0.01993994] [3.68937125] [0.08299665] [2.00328574] 1000\n"
          ]
        }
      ],
      "source": [
        "f0 = fun(data, m1, m2, c)\n",
        "g0 = gradient_f(data, m1, m2, c)\n",
        "\n",
        "while(f0 > 2.003 and k < 1000):\n",
        "    temp_data = np.array(df.sample(frac = 0.01))\n",
        "    g0 = gradient_f(temp_data, m1, m2, c)\n",
        "    d0 = -1*g0\n",
        "    alpha = 1/(k + 1)\n",
        "    f1 = fun(data, m1 + alpha*d0[0], m2 + alpha*d0[1], c + alpha*d0[2])\n",
        "    if(f1 < f0):\n",
        "        m1 = m1 + alpha*d0[0]\n",
        "        m2 = m2 + alpha*d0[1]\n",
        "        c = c + alpha*d0[2]\n",
        "    k = k + 1\n",
        "    #print(alpha, f1 - f0)\n",
        "    \n",
        "print(m1, m2, c, fun(data, m1, m2, c), k)"
      ]
    },
    {
      "cell_type": "markdown",
      "metadata": {
        "id": "eeA56l6uFng-"
      },
      "source": [
        "---\n",
        "<h1><center>END OF CODE</center>\n",
        "\n",
        "---\n",
        "\n"
      ]
    }
  ],
  "metadata": {
    "colab": {
      "collapsed_sections": [],
      "provenance": []
    },
    "kernelspec": {
      "display_name": "Python 3.9.0 64-bit",
      "language": "python",
      "name": "python3"
    },
    "language_info": {
      "codemirror_mode": {
        "name": "ipython",
        "version": 3
      },
      "file_extension": ".py",
      "mimetype": "text/x-python",
      "name": "python",
      "nbconvert_exporter": "python",
      "pygments_lexer": "ipython3",
      "version": "3.9.0"
    },
    "vscode": {
      "interpreter": {
        "hash": "c07ce05c1b6b2db924f66d684c0ce8bf829868cfa2229a46826184626272e7c1"
      }
    }
  },
  "nbformat": 4,
  "nbformat_minor": 0
}
