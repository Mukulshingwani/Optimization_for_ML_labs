{
  "cells": [
    {
      "cell_type": "markdown",
      "metadata": {},
      "source": [
        "<h2> this lab was based on network flow and quadratic problem"
      ]
    },
    {
      "cell_type": "markdown",
      "metadata": {},
      "source": [
        "<img src = \"Screenshot 2022-11-16 142045.jpg\">"
      ]
    },
    {
      "cell_type": "code",
      "execution_count": 4,
      "metadata": {
        "id": "cxugVelkZbjf"
      },
      "outputs": [],
      "source": [
        "import numpy as np\n",
        "import pandas as pd\n",
        "import matplotlib.pyplot as plt\n",
        "import cvxopt as cp"
      ]
    },
    {
      "cell_type": "code",
      "execution_count": 5,
      "metadata": {
        "colab": {
          "base_uri": "https://localhost:8080/"
        },
        "id": "aWmyRdrUZjOm",
        "outputId": "60254e2a-b31a-49d9-a83d-f634c7e17ac2"
      },
      "outputs": [],
      "source": [
        "#!pip install cvxpy"
      ]
    },
    {
      "cell_type": "code",
      "execution_count": 6,
      "metadata": {
        "id": "ULNao5F7Zkf3"
      },
      "outputs": [],
      "source": [
        "import cvxpy as CP"
      ]
    },
    {
      "cell_type": "code",
      "execution_count": 7,
      "metadata": {
        "id": "7s4oHXuM4zxy"
      },
      "outputs": [],
      "source": [
        "from cvxopt import matrix, solvers"
      ]
    },
    {
      "cell_type": "markdown",
      "metadata": {
        "id": "raRtne9u8oT2"
      },
      "source": [
        "#Q1"
      ]
    },
    {
      "cell_type": "code",
      "execution_count": 8,
      "metadata": {
        "id": "7xxSlqzyGJiZ"
      },
      "outputs": [],
      "source": [
        "A = matrix([\n",
        "    [1., 1., 1., 1., 0., 0., 0., 0., 0., 0., 0., 0., 0., 0., 0., 0.],\n",
        "    [0., 0., 0., 0., 1., 1., 1., 1., 0., 0., 0., 0., 0., 0., 0., 0.],\n",
        "    [0., 0., 0., 0., 0., 0., 0., 0., 1., 1., 1., 1., 0., 0., 0., 0.],\n",
        "    [0., 0., 0., 0., 0., 0., 0., 0., 0., 0., 0., 0., 1., 1., 1., 1.],\n",
        "    [1., 0., 0., 0., 1., 0., 0., 0., 1., 0., 0., 0., 1., 0., 0., 0.],\n",
        "    [0., 1., 0., 0., 0., 1., 0., 0., 0., 1., 0., 0., 0., 1., 0., 0.],\n",
        "    [0., 0., 1., 0., 0., 0., 1., 0., 0., 0., 1., 0., 0., 0., 1., 0.],\n",
        "    [0., 0., 0., 1., 0., 0., 0., 1., 0., 0., 0., 1., 0., 0., 0., 1.],\n",
        "]).T\n",
        "\n",
        "G = -matrix(np.eye(16), tc='d')\n",
        "h = matrix(np.zeros(16), tc='d')\n",
        "\n",
        "b = matrix(np.ones(8), tc='d')\n",
        "\n",
        "c = matrix([20, 25, 22, 28, 15, 18, 23, 17, 19, 17, 21, 24, 25, 23, 24, 24], tc='d')\n",
        "sol = solvers.lp(c, G, h, A, b, solver = 'glpk')"
      ]
    },
    {
      "cell_type": "code",
      "execution_count": 9,
      "metadata": {
        "colab": {
          "base_uri": "https://localhost:8080/"
        },
        "id": "LNuZXI68G5Rs",
        "outputId": "7fcd36c0-18ab-4ede-fcf0-6ffc2d9ba4d9"
      },
      "outputs": [
        {
          "name": "stdout",
          "output_type": "stream",
          "text": [
            "[ 0.00e+00]\n",
            "[ 0.00e+00]\n",
            "[ 1.00e+00]\n",
            "[ 0.00e+00]\n",
            "[ 1.00e+00]\n",
            "[ 0.00e+00]\n",
            "[ 0.00e+00]\n",
            "[ 0.00e+00]\n",
            "[ 0.00e+00]\n",
            "[ 1.00e+00]\n",
            "[ 0.00e+00]\n",
            "[ 0.00e+00]\n",
            "[ 0.00e+00]\n",
            "[ 0.00e+00]\n",
            "[ 0.00e+00]\n",
            "[ 1.00e+00]\n",
            "\n"
          ]
        }
      ],
      "source": [
        "print(sol['x'])"
      ]
    },
    {
      "cell_type": "code",
      "execution_count": 10,
      "metadata": {
        "colab": {
          "base_uri": "https://localhost:8080/"
        },
        "id": "CE0abmtbHOu9",
        "outputId": "0a93b545-41ee-4dad-9b85-eda7c4594839"
      },
      "outputs": [
        {
          "name": "stdout",
          "output_type": "stream",
          "text": [
            "Minimum value of objective function is : 78.0\n"
          ]
        }
      ],
      "source": [
        "print(\"Minimum value of objective function is :\",sol['primal objective'])"
      ]
    },
    {
      "cell_type": "markdown",
      "metadata": {
        "id": "5naFXNbXZmN_"
      },
      "source": [
        "#Q2"
      ]
    },
    {
      "cell_type": "code",
      "execution_count": 11,
      "metadata": {
        "id": "edHg6mVZZnKe"
      },
      "outputs": [],
      "source": [
        "\n",
        "A=np.array([[1,1,0,0,0,0,0],\n",
        "            [1,0,1,-1,0,0,0],\n",
        "            [0,1,0,0,-1,-1,0],\n",
        "            [0,0,0,1,0,0,-1],\n",
        "            [0,0,-1,0,1,0,1],\n",
        "            [-1,0,0,0,0,0,0],\n",
        "            [0,-1,0,0,0,0,0],\n",
        "            [0,0,-1,0,0,0,0],\n",
        "            [0,0,0,-1,0,0,0],\n",
        "            [0,0,0,0,-1,0,0],\n",
        "            [0,0,0,0,0,-1,0],\n",
        "            [0,0,0,0,0,0,-1]])\n",
        "\n",
        "c=np.array([[9.2],[-6.0],[-1.3],[4.1],[3.0],[8.0],[-2.1]])\n",
        "\n",
        "b=np.array([[12],[0],[0],[4],[8],[0],[0],[0],[0],[0],[0],[0]])"
      ]
    },
    {
      "cell_type": "code",
      "execution_count": 12,
      "metadata": {
        "colab": {
          "base_uri": "https://localhost:8080/"
        },
        "id": "nVIVapOm2ugL",
        "outputId": "bcb590c6-7047-44de-f97e-ec3b4c8f4a21"
      },
      "outputs": [
        {
          "name": "stdout",
          "output_type": "stream",
          "text": [
            "     pcost       dcost       gap    pres   dres   k/t\n",
            " 0:  3.9628e+01 -6.9267e+01  3e+02  8e-01  1e+00  1e+00\n",
            " 1: -1.7028e+01 -4.4360e+01  8e+01  2e-01  3e-01  4e+00\n",
            " 2: -2.3828e+01 -2.6997e+01  7e+00  3e-02  3e-02  4e-01\n",
            " 3: -2.4458e+01 -2.4968e+01  1e+00  4e-03  5e-03  9e-02\n",
            " 4: -2.4783e+01 -2.4824e+01  1e-01  3e-04  4e-04  9e-03\n",
            " 5: -2.4800e+01 -2.4800e+01  1e-03  4e-06  4e-06  9e-05\n",
            " 6: -2.4800e+01 -2.4800e+01  1e-05  4e-08  4e-08  9e-07\n",
            "Optimal solution found.\n",
            "[-1.76e-08]\n",
            "[ 1.20e+01]\n",
            "[ 4.00e+00]\n",
            "[ 4.00e+00]\n",
            "[ 1.20e+01]\n",
            "[ 5.04e-07]\n",
            "[ 4.28e-07]\n",
            " -24.799998312669153\n"
          ]
        }
      ],
      "source": [
        "sol = cp.solvers.lp(cp.matrix(c,tc='d'), cp.matrix(A,tc='d'),cp.matrix(b,tc='d'))\n",
        "print(sol['x'],sol['primal objective'])"
      ]
    },
    {
      "cell_type": "markdown",
      "metadata": {
        "id": "ocEkx7jRiPKB"
      },
      "source": [
        "#Q3"
      ]
    },
    {
      "cell_type": "code",
      "execution_count": 13,
      "metadata": {
        "id": "-4byi9XS2ts4"
      },
      "outputs": [],
      "source": [
        "A = np.array([[-2.0, -3.0], \n",
        "              [-1.0, 0.0], \n",
        "              [0.0, -1.0]])\n",
        "\n",
        "b = np.array([[-4.0],\n",
        "              [0.0],\n",
        "              [0.0]])\n",
        "\n",
        "Q = np.array([[6.0, 2.0], \n",
        "              [2.0, 2.0]])\n",
        "\n",
        "C = np.array([[1.0], \n",
        "              [6.0]])\n"
      ]
    },
    {
      "cell_type": "code",
      "execution_count": 14,
      "metadata": {
        "colab": {
          "base_uri": "https://localhost:8080/"
        },
        "id": "iLDT1gtJ6nGi",
        "outputId": "f679eea1-4700-41fe-dc5e-5179dc846a4e"
      },
      "outputs": [
        {
          "name": "stdout",
          "output_type": "stream",
          "text": [
            "     pcost       dcost       gap    pres   dres\n",
            " 0:  2.4299e+00  1.1771e+01  1e+01  2e+00  1e+00\n",
            " 1:  9.5508e+00  8.1393e+00  1e+00  3e-16  1e-15\n",
            " 2:  9.2569e+00  9.2273e+00  3e-02  2e-16  6e-16\n",
            " 3:  9.2501e+00  9.2498e+00  3e-04  3e-17  2e-15\n",
            " 4:  9.2500e+00  9.2500e+00  3e-06  4e-17  2e-15\n",
            "Optimal solution found.\n",
            "[ 5.00e-01]\n",
            "[ 1.00e+00]\n",
            " 9.25000068309369\n"
          ]
        }
      ],
      "source": [
        "sol = cp.solvers.qp(cp.matrix(Q, tc='d'), cp.matrix(C, tc='d'), cp.matrix(A, tc='d'), cp.matrix(b, tc='d'))\n",
        "print(sol['x'],sol['primal objective'])"
      ]
    },
    {
      "cell_type": "markdown",
      "metadata": {
        "id": "RiQzRFtZ4m8V"
      },
      "source": [
        "#Q4"
      ]
    },
    {
      "cell_type": "code",
      "execution_count": 15,
      "metadata": {
        "id": "jrGKfDAR4oJv"
      },
      "outputs": [],
      "source": [
        "A = np.array([[1.0, 1.0], \n",
        "              [2.0, 1.0], \n",
        "              [-1.0, 0.0], \n",
        "              [0.0, -1.0]])\n",
        "\n",
        "b = np.array([[2.0],\n",
        "              [3.0],\n",
        "              [0.0],\n",
        "              [0.0]])\n",
        "\n",
        "Q = np.array([[2.0, 0.0], \n",
        "              [0.0, 2.0]])\n",
        "\n",
        "C = np.array([[-2.0], \n",
        "              [-3.0]])\n"
      ]
    },
    {
      "cell_type": "code",
      "execution_count": 16,
      "metadata": {
        "colab": {
          "base_uri": "https://localhost:8080/"
        },
        "id": "zXgrF3Bo62zP",
        "outputId": "40460bba-6fe1-42bf-fbb1-a8ba0c40c69c"
      },
      "outputs": [
        {
          "name": "stdout",
          "output_type": "stream",
          "text": [
            "     pcost       dcost       gap    pres   dres\n",
            " 0: -3.0614e+00 -5.7669e+00  3e+00  0e+00  1e+00\n",
            " 1: -3.1058e+00 -3.2433e+00  1e-01  2e-16  7e-02\n",
            " 2: -3.1232e+00 -3.1264e+00  3e-03  9e-17  8e-04\n",
            " 3: -3.1250e+00 -3.1250e+00  3e-05  9e-17  8e-06\n",
            " 4: -3.1250e+00 -3.1250e+00  3e-07  1e-16  8e-08\n",
            "Optimal solution found.\n",
            "[ 7.50e-01]\n",
            "[ 1.25e+00]\n",
            " -3.1249998233364806\n"
          ]
        }
      ],
      "source": [
        "sol = cp.solvers.qp(cp.matrix(Q, tc='d'), cp.matrix(C, tc='d'), cp.matrix(A, tc='d'), cp.matrix(b, tc='d'))\n",
        "print(sol['x'],sol['primal objective'])"
      ]
    }
  ],
  "metadata": {
    "colab": {
      "provenance": []
    },
    "kernelspec": {
      "display_name": "Python 3.9.0 64-bit",
      "language": "python",
      "name": "python3"
    },
    "language_info": {
      "codemirror_mode": {
        "name": "ipython",
        "version": 3
      },
      "file_extension": ".py",
      "mimetype": "text/x-python",
      "name": "python",
      "nbconvert_exporter": "python",
      "pygments_lexer": "ipython3",
      "version": "3.9.0"
    },
    "vscode": {
      "interpreter": {
        "hash": "c07ce05c1b6b2db924f66d684c0ce8bf829868cfa2229a46826184626272e7c1"
      }
    }
  },
  "nbformat": 4,
  "nbformat_minor": 0
}
