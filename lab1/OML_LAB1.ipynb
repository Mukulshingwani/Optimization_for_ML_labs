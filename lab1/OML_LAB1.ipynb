{
  "cells": [
    {
      "cell_type": "code",
      "execution_count": 1,
      "metadata": {
        "id": "KdcSaoAJ0XN3"
      },
      "outputs": [],
      "source": [
        "import numpy as np\n",
        "import pandas as pd\n",
        "import matplotlib.pyplot as plt"
      ]
    },
    {
      "cell_type": "markdown",
      "metadata": {},
      "source": [
        "<img src = \"Screenshot 2022-11-16 142448.jpg\">"
      ]
    },
    {
      "cell_type": "code",
      "execution_count": 2,
      "metadata": {
        "colab": {
          "base_uri": "https://localhost:8080/"
        },
        "id": "Fk5EB6yTMZEN",
        "outputId": "1dbd2dd4-8a27-4415-ac68-9a091ce16f3d"
      },
      "outputs": [
        {
          "name": "stdout",
          "output_type": "stream",
          "text": [
            "Note: you may need to restart the kernel to use updated packages.\n"
          ]
        },
        {
          "name": "stderr",
          "output_type": "stream",
          "text": [
            "'c:\\Users\\Mukul' is not recognized as an internal or external command,\n",
            "operable program or batch file.\n"
          ]
        }
      ],
      "source": [
        "pip install --upgrade xlrd"
      ]
    },
    {
      "cell_type": "markdown",
      "metadata": {
        "id": "c0BCbQTA665R"
      },
      "source": [
        "#### Roll no : B20AI023"
      ]
    },
    {
      "cell_type": "markdown",
      "metadata": {
        "id": "wXp7jRmO4JxK"
      },
      "source": [
        "<h2>#Q1</h2>"
      ]
    },
    {
      "cell_type": "markdown",
      "metadata": {
        "id": "yGVBkmaN4L6h"
      },
      "source": [
        "Price of house (in Rs) with respect to area (sq feet) is give in 2 column excel sheet. Using linear regression, find the price of a\n",
        "house with R-thousand square feet where R is the last digit of your roll no. If last digit of your roll no is 0, choose R = 2.5."
      ]
    },
    {
      "cell_type": "code",
      "execution_count": 3,
      "metadata": {
        "id": "AiVPB7ZY0qjX"
      },
      "outputs": [],
      "source": [
        "dt=pd.read_excel('2 columns.xls')"
      ]
    },
    {
      "cell_type": "code",
      "execution_count": 4,
      "metadata": {
        "colab": {
          "base_uri": "https://localhost:8080/",
          "height": 424
        },
        "id": "qoi0hR4Z4ZBC",
        "outputId": "93c63a68-5c44-46dc-eb8e-af52d044ecf7"
      },
      "outputs": [
        {
          "data": {
            "text/html": [
              "<div>\n",
              "<style scoped>\n",
              "    .dataframe tbody tr th:only-of-type {\n",
              "        vertical-align: middle;\n",
              "    }\n",
              "\n",
              "    .dataframe tbody tr th {\n",
              "        vertical-align: top;\n",
              "    }\n",
              "\n",
              "    .dataframe thead th {\n",
              "        text-align: right;\n",
              "    }\n",
              "</style>\n",
              "<table border=\"1\" class=\"dataframe\">\n",
              "  <thead>\n",
              "    <tr style=\"text-align: right;\">\n",
              "      <th></th>\n",
              "      <th>6100</th>\n",
              "      <th>5530000</th>\n",
              "    </tr>\n",
              "  </thead>\n",
              "  <tbody>\n",
              "    <tr>\n",
              "      <th>0</th>\n",
              "      <td>6540</td>\n",
              "      <td>5250000</td>\n",
              "    </tr>\n",
              "    <tr>\n",
              "      <th>1</th>\n",
              "      <td>2910</td>\n",
              "      <td>2604000</td>\n",
              "    </tr>\n",
              "    <tr>\n",
              "      <th>2</th>\n",
              "      <td>4770</td>\n",
              "      <td>4900000</td>\n",
              "    </tr>\n",
              "    <tr>\n",
              "      <th>3</th>\n",
              "      <td>8000</td>\n",
              "      <td>6020000</td>\n",
              "    </tr>\n",
              "    <tr>\n",
              "      <th>4</th>\n",
              "      <td>6000</td>\n",
              "      <td>7350000</td>\n",
              "    </tr>\n",
              "    <tr>\n",
              "      <th>...</th>\n",
              "      <td>...</td>\n",
              "      <td>...</td>\n",
              "    </tr>\n",
              "    <tr>\n",
              "      <th>94</th>\n",
              "      <td>2610</td>\n",
              "      <td>4200000</td>\n",
              "    </tr>\n",
              "    <tr>\n",
              "      <th>95</th>\n",
              "      <td>6632</td>\n",
              "      <td>5600000</td>\n",
              "    </tr>\n",
              "    <tr>\n",
              "      <th>96</th>\n",
              "      <td>6072</td>\n",
              "      <td>7700000</td>\n",
              "    </tr>\n",
              "    <tr>\n",
              "      <th>97</th>\n",
              "      <td>5455</td>\n",
              "      <td>3143000</td>\n",
              "    </tr>\n",
              "    <tr>\n",
              "      <th>98</th>\n",
              "      <td>3680</td>\n",
              "      <td>2940000</td>\n",
              "    </tr>\n",
              "  </tbody>\n",
              "</table>\n",
              "<p>99 rows × 2 columns</p>\n",
              "</div>"
            ],
            "text/plain": [
              "    6100     5530000\n",
              "0      6540  5250000\n",
              "1      2910  2604000\n",
              "2      4770  4900000\n",
              "3      8000  6020000\n",
              "4      6000  7350000\n",
              "..      ...      ...\n",
              "94     2610  4200000\n",
              "95     6632  5600000\n",
              "96     6072  7700000\n",
              "97     5455  3143000\n",
              "98     3680  2940000\n",
              "\n",
              "[99 rows x 2 columns]"
            ]
          },
          "execution_count": 4,
          "metadata": {},
          "output_type": "execute_result"
        }
      ],
      "source": [
        "dt"
      ]
    },
    {
      "cell_type": "code",
      "execution_count": 5,
      "metadata": {
        "colab": {
          "base_uri": "https://localhost:8080/"
        },
        "id": "YFbi9LAq4viR",
        "outputId": "e33b4fe2-0385-44d8-8291-63a9e3981ee8"
      },
      "outputs": [
        {
          "data": {
            "text/plain": [
              "array([[   6540, 5250000],\n",
              "       [   2910, 2604000],\n",
              "       [   4770, 4900000],\n",
              "       [   8000, 6020000],\n",
              "       [   6000, 7350000],\n",
              "       [   5300, 2233000],\n",
              "       [   8250, 4193000],\n",
              "       [   3850, 3850000],\n",
              "       [   6321, 4760000],\n",
              "       [   5960, 8190000],\n",
              "       [   3410, 5145000],\n",
              "       [   3816, 3920000],\n",
              "       [   7000, 4200000],\n",
              "       [   4095, 3150000],\n",
              "       [   3180, 3850000],\n",
              "       [   6600, 9100000],\n",
              "       [   5300, 3850000],\n",
              "       [   5640, 3675000],\n",
              "       [   3640, 4550000],\n",
              "       [  12090, 6790000],\n",
              "       [   3360, 2100000],\n",
              "       [   6023, 7350000],\n",
              "       [   6472, 6300000],\n",
              "       [   3648, 4098500],\n",
              "       [   5680, 4620000],\n",
              "       [   6450, 5383000],\n",
              "       [   3180, 3885000],\n",
              "       [   4040, 3423000],\n",
              "       [   2145, 3430000],\n",
              "       [   4410, 4970000],\n",
              "       [   5040, 4200000],\n",
              "       [   3640, 4200000],\n",
              "       [   3960, 2800000],\n",
              "       [   2825, 2660000],\n",
              "       [   6615, 2940000],\n",
              "       [   7160, 5880000],\n",
              "       [   8250, 6510000],\n",
              "       [   5920, 3500000],\n",
              "       [   3570, 3150000],\n",
              "       [   2145, 3290000],\n",
              "       [   3630, 2870000],\n",
              "       [   8875, 8400000],\n",
              "       [   6990, 5523000],\n",
              "       [   3575, 3360000],\n",
              "       [   3460, 4007500],\n",
              "       [   3480, 3290000],\n",
              "       [   6015, 6650000],\n",
              "       [   4040, 4480000],\n",
              "       [   4410, 4200000],\n",
              "       [   6090, 7210000],\n",
              "       [   3120, 3703000],\n",
              "       [   8880, 7070000],\n",
              "       [   3685, 2590000],\n",
              "       [   3850, 3535000],\n",
              "       [  11175, 7000000],\n",
              "       [   4960, 2940000],\n",
              "       [   2745, 2940000],\n",
              "       [   3750, 3360000],\n",
              "       [   7260, 3920000],\n",
              "       [   2870, 4620000],\n",
              "       [   6055, 7560000],\n",
              "       [   5480, 2870000],\n",
              "       [   6650, 4235000],\n",
              "       [   3180, 3290000],\n",
              "       [   8050, 3003000],\n",
              "       [   8475, 4550000],\n",
              "       [   3460, 4025000],\n",
              "       [   4625, 3010000],\n",
              "       [   5360, 4550000],\n",
              "       [   3880, 4620000],\n",
              "       [   7045, 8080940],\n",
              "       [   6625, 6230000],\n",
              "       [   2970, 4900000],\n",
              "       [   3480, 3745000],\n",
              "       [   4520, 4900000],\n",
              "       [   7020, 5950000],\n",
              "       [   3520, 4515000],\n",
              "       [   6540, 8540000],\n",
              "       [   4352, 2975000],\n",
              "       [   5850, 2940000],\n",
              "       [   6835, 6020000],\n",
              "       [   8520, 5250000],\n",
              "       [   6350, 6195000],\n",
              "       [   2610, 3430000],\n",
              "       [   2325, 4200000],\n",
              "       [   7600, 5040000],\n",
              "       [   6720, 4900000],\n",
              "       [   5415, 4025000],\n",
              "       [   6095, 9100000],\n",
              "       [   8880, 6930000],\n",
              "       [   6055, 5775000],\n",
              "       [   4800, 6405000],\n",
              "       [   4080, 3850000],\n",
              "       [   4260, 5250000],\n",
              "       [   2610, 4200000],\n",
              "       [   6632, 5600000],\n",
              "       [   6072, 7700000],\n",
              "       [   5455, 3143000],\n",
              "       [   3680, 2940000]], dtype=int64)"
            ]
          },
          "execution_count": 5,
          "metadata": {},
          "output_type": "execute_result"
        }
      ],
      "source": [
        "B= dt.values\n",
        "B"
      ]
    },
    {
      "cell_type": "code",
      "execution_count": 6,
      "metadata": {
        "colab": {
          "base_uri": "https://localhost:8080/"
        },
        "id": "RIAforWc40C_",
        "outputId": "a81b8861-e503-4be2-f3d1-20dc094902dd"
      },
      "outputs": [
        {
          "data": {
            "text/plain": [
              "dtype('int64')"
            ]
          },
          "execution_count": 6,
          "metadata": {},
          "output_type": "execute_result"
        }
      ],
      "source": [
        "B.dtype"
      ]
    },
    {
      "cell_type": "code",
      "execution_count": 7,
      "metadata": {
        "colab": {
          "base_uri": "https://localhost:8080/"
        },
        "id": "i7qwrvg75MAg",
        "outputId": "e1584146-ce3c-4391-d9bd-d700796498b2"
      },
      "outputs": [
        {
          "data": {
            "text/plain": [
              "array([ 6540,  2910,  4770,  8000,  6000,  5300,  8250,  3850,  6321,\n",
              "        5960,  3410,  3816,  7000,  4095,  3180,  6600,  5300,  5640,\n",
              "        3640, 12090,  3360,  6023,  6472,  3648,  5680,  6450,  3180,\n",
              "        4040,  2145,  4410,  5040,  3640,  3960,  2825,  6615,  7160,\n",
              "        8250,  5920,  3570,  2145,  3630,  8875,  6990,  3575,  3460,\n",
              "        3480,  6015,  4040,  4410,  6090,  3120,  8880,  3685,  3850,\n",
              "       11175,  4960,  2745,  3750,  7260,  2870,  6055,  5480,  6650,\n",
              "        3180,  8050,  8475,  3460,  4625,  5360,  3880,  7045,  6625,\n",
              "        2970,  3480,  4520,  7020,  3520,  6540,  4352,  5850,  6835,\n",
              "        8520,  6350,  2610,  2325,  7600,  6720,  5415,  6095,  8880,\n",
              "        6055,  4800,  4080,  4260,  2610,  6632,  6072,  5455,  3680],\n",
              "      dtype=int64)"
            ]
          },
          "execution_count": 7,
          "metadata": {},
          "output_type": "execute_result"
        }
      ],
      "source": [
        "x = B[:,0]\n",
        "x"
      ]
    },
    {
      "cell_type": "code",
      "execution_count": 8,
      "metadata": {
        "colab": {
          "base_uri": "https://localhost:8080/"
        },
        "id": "Tj6Oz1rh5ZfQ",
        "outputId": "408e3e0a-2c39-461e-f723-8cbd43f54313"
      },
      "outputs": [
        {
          "data": {
            "text/plain": [
              "array([5250000, 2604000, 4900000, 6020000, 7350000, 2233000, 4193000,\n",
              "       3850000, 4760000, 8190000, 5145000, 3920000, 4200000, 3150000,\n",
              "       3850000, 9100000, 3850000, 3675000, 4550000, 6790000, 2100000,\n",
              "       7350000, 6300000, 4098500, 4620000, 5383000, 3885000, 3423000,\n",
              "       3430000, 4970000, 4200000, 4200000, 2800000, 2660000, 2940000,\n",
              "       5880000, 6510000, 3500000, 3150000, 3290000, 2870000, 8400000,\n",
              "       5523000, 3360000, 4007500, 3290000, 6650000, 4480000, 4200000,\n",
              "       7210000, 3703000, 7070000, 2590000, 3535000, 7000000, 2940000,\n",
              "       2940000, 3360000, 3920000, 4620000, 7560000, 2870000, 4235000,\n",
              "       3290000, 3003000, 4550000, 4025000, 3010000, 4550000, 4620000,\n",
              "       8080940, 6230000, 4900000, 3745000, 4900000, 5950000, 4515000,\n",
              "       8540000, 2975000, 2940000, 6020000, 5250000, 6195000, 3430000,\n",
              "       4200000, 5040000, 4900000, 4025000, 9100000, 6930000, 5775000,\n",
              "       6405000, 3850000, 5250000, 4200000, 5600000, 7700000, 3143000,\n",
              "       2940000], dtype=int64)"
            ]
          },
          "execution_count": 8,
          "metadata": {},
          "output_type": "execute_result"
        }
      ],
      "source": [
        "y = B[:,1]\n",
        "y"
      ]
    },
    {
      "cell_type": "code",
      "execution_count": 9,
      "metadata": {
        "colab": {
          "base_uri": "https://localhost:8080/"
        },
        "id": "pyLDsE895cOY",
        "outputId": "30ba4ed0-5d96-448f-eaa0-b9340118f7fe"
      },
      "outputs": [
        {
          "data": {
            "text/plain": [
              "array([[6.5400e+03, 1.0000e+00],\n",
              "       [2.9100e+03, 1.0000e+00],\n",
              "       [4.7700e+03, 1.0000e+00],\n",
              "       [8.0000e+03, 1.0000e+00],\n",
              "       [6.0000e+03, 1.0000e+00],\n",
              "       [5.3000e+03, 1.0000e+00],\n",
              "       [8.2500e+03, 1.0000e+00],\n",
              "       [3.8500e+03, 1.0000e+00],\n",
              "       [6.3210e+03, 1.0000e+00],\n",
              "       [5.9600e+03, 1.0000e+00],\n",
              "       [3.4100e+03, 1.0000e+00],\n",
              "       [3.8160e+03, 1.0000e+00],\n",
              "       [7.0000e+03, 1.0000e+00],\n",
              "       [4.0950e+03, 1.0000e+00],\n",
              "       [3.1800e+03, 1.0000e+00],\n",
              "       [6.6000e+03, 1.0000e+00],\n",
              "       [5.3000e+03, 1.0000e+00],\n",
              "       [5.6400e+03, 1.0000e+00],\n",
              "       [3.6400e+03, 1.0000e+00],\n",
              "       [1.2090e+04, 1.0000e+00],\n",
              "       [3.3600e+03, 1.0000e+00],\n",
              "       [6.0230e+03, 1.0000e+00],\n",
              "       [6.4720e+03, 1.0000e+00],\n",
              "       [3.6480e+03, 1.0000e+00],\n",
              "       [5.6800e+03, 1.0000e+00],\n",
              "       [6.4500e+03, 1.0000e+00],\n",
              "       [3.1800e+03, 1.0000e+00],\n",
              "       [4.0400e+03, 1.0000e+00],\n",
              "       [2.1450e+03, 1.0000e+00],\n",
              "       [4.4100e+03, 1.0000e+00],\n",
              "       [5.0400e+03, 1.0000e+00],\n",
              "       [3.6400e+03, 1.0000e+00],\n",
              "       [3.9600e+03, 1.0000e+00],\n",
              "       [2.8250e+03, 1.0000e+00],\n",
              "       [6.6150e+03, 1.0000e+00],\n",
              "       [7.1600e+03, 1.0000e+00],\n",
              "       [8.2500e+03, 1.0000e+00],\n",
              "       [5.9200e+03, 1.0000e+00],\n",
              "       [3.5700e+03, 1.0000e+00],\n",
              "       [2.1450e+03, 1.0000e+00],\n",
              "       [3.6300e+03, 1.0000e+00],\n",
              "       [8.8750e+03, 1.0000e+00],\n",
              "       [6.9900e+03, 1.0000e+00],\n",
              "       [3.5750e+03, 1.0000e+00],\n",
              "       [3.4600e+03, 1.0000e+00],\n",
              "       [3.4800e+03, 1.0000e+00],\n",
              "       [6.0150e+03, 1.0000e+00],\n",
              "       [4.0400e+03, 1.0000e+00],\n",
              "       [4.4100e+03, 1.0000e+00],\n",
              "       [6.0900e+03, 1.0000e+00],\n",
              "       [3.1200e+03, 1.0000e+00],\n",
              "       [8.8800e+03, 1.0000e+00],\n",
              "       [3.6850e+03, 1.0000e+00],\n",
              "       [3.8500e+03, 1.0000e+00],\n",
              "       [1.1175e+04, 1.0000e+00],\n",
              "       [4.9600e+03, 1.0000e+00],\n",
              "       [2.7450e+03, 1.0000e+00],\n",
              "       [3.7500e+03, 1.0000e+00],\n",
              "       [7.2600e+03, 1.0000e+00],\n",
              "       [2.8700e+03, 1.0000e+00],\n",
              "       [6.0550e+03, 1.0000e+00],\n",
              "       [5.4800e+03, 1.0000e+00],\n",
              "       [6.6500e+03, 1.0000e+00],\n",
              "       [3.1800e+03, 1.0000e+00],\n",
              "       [8.0500e+03, 1.0000e+00],\n",
              "       [8.4750e+03, 1.0000e+00],\n",
              "       [3.4600e+03, 1.0000e+00],\n",
              "       [4.6250e+03, 1.0000e+00],\n",
              "       [5.3600e+03, 1.0000e+00],\n",
              "       [3.8800e+03, 1.0000e+00],\n",
              "       [7.0450e+03, 1.0000e+00],\n",
              "       [6.6250e+03, 1.0000e+00],\n",
              "       [2.9700e+03, 1.0000e+00],\n",
              "       [3.4800e+03, 1.0000e+00],\n",
              "       [4.5200e+03, 1.0000e+00],\n",
              "       [7.0200e+03, 1.0000e+00],\n",
              "       [3.5200e+03, 1.0000e+00],\n",
              "       [6.5400e+03, 1.0000e+00],\n",
              "       [4.3520e+03, 1.0000e+00],\n",
              "       [5.8500e+03, 1.0000e+00],\n",
              "       [6.8350e+03, 1.0000e+00],\n",
              "       [8.5200e+03, 1.0000e+00],\n",
              "       [6.3500e+03, 1.0000e+00],\n",
              "       [2.6100e+03, 1.0000e+00],\n",
              "       [2.3250e+03, 1.0000e+00],\n",
              "       [7.6000e+03, 1.0000e+00],\n",
              "       [6.7200e+03, 1.0000e+00],\n",
              "       [5.4150e+03, 1.0000e+00],\n",
              "       [6.0950e+03, 1.0000e+00],\n",
              "       [8.8800e+03, 1.0000e+00],\n",
              "       [6.0550e+03, 1.0000e+00],\n",
              "       [4.8000e+03, 1.0000e+00],\n",
              "       [4.0800e+03, 1.0000e+00],\n",
              "       [4.2600e+03, 1.0000e+00],\n",
              "       [2.6100e+03, 1.0000e+00],\n",
              "       [6.6320e+03, 1.0000e+00],\n",
              "       [6.0720e+03, 1.0000e+00],\n",
              "       [5.4550e+03, 1.0000e+00],\n",
              "       [3.6800e+03, 1.0000e+00]])"
            ]
          },
          "execution_count": 9,
          "metadata": {},
          "output_type": "execute_result"
        }
      ],
      "source": [
        "A=np.column_stack((x,np.ones((len(x),1),dtype=float)))\n",
        "A"
      ]
    },
    {
      "cell_type": "code",
      "execution_count": 10,
      "metadata": {
        "colab": {
          "base_uri": "https://localhost:8080/"
        },
        "id": "5eq6I8lw6B8h",
        "outputId": "0a8abd35-7865-4d66-f759-c8c4f38f3776"
      },
      "outputs": [
        {
          "name": "stdout",
          "output_type": "stream",
          "text": [
            "[4.84182210e+02 2.17719118e+06]\n"
          ]
        }
      ],
      "source": [
        "beta=np.dot(np.linalg.inv(np.dot(A.T,A)),np.dot(A.T,y.T))\n",
        "print(beta)"
      ]
    },
    {
      "cell_type": "code",
      "execution_count": 11,
      "metadata": {
        "colab": {
          "base_uri": "https://localhost:8080/",
          "height": 295
        },
        "id": "fF4YFNHf4hnR",
        "outputId": "d2f1ec9c-f672-47b5-fcb1-dff981725a76"
      },
      "outputs": [
        {
          "data": {
            "image/png": "[encoded data removed]",
            "text/plain": [
              "<Figure size 432x288 with 1 Axes>"
            ]
          },
          "metadata": {
            "needs_background": "light"
          },
          "output_type": "display_data"
        }
      ],
      "source": [
        "\n",
        "plt.plot(x, y,'b.')\n",
        "plt.plot(x, beta[0]*x+beta[1],'r')\n",
        "plt.xlabel('area')\n",
        "plt.ylabel('price')\n",
        "plt.title('plot of area v/s price')\n",
        "plt.show()"
      ]
    },
    {
      "cell_type": "code",
      "execution_count": 12,
      "metadata": {
        "colab": {
          "base_uri": "https://localhost:8080/"
        },
        "id": "l_P8BBS56txB",
        "outputId": "e46005aa-95fb-41a0-f291-7ed38e7a0060"
      },
      "outputs": [
        {
          "name": "stdout",
          "output_type": "stream",
          "text": [
            "predicted price :  3629737.808456244\n"
          ]
        }
      ],
      "source": [
        "print('predicted price : ',beta[0]*3000+beta[1])"
      ]
    },
    {
      "cell_type": "markdown",
      "metadata": {
        "id": "0z4dREdE7ZBw"
      },
      "source": [
        "<h2>Q2</h2>\n",
        "<h3>Using 2, 3, 4, 5, 6, 7 degree polynomial fitting curve find the price of a house with R-thousand square feet where R is the last\n",
        "digit of your roll no. If last digit of your roll no is 0, choose R = 2.5.</h3>"
      ]
    },
    {
      "cell_type": "code",
      "execution_count": 13,
      "metadata": {
        "colab": {
          "base_uri": "https://localhost:8080/"
        },
        "id": "0JgJttnt7YXB",
        "outputId": "9a9d684e-8b09-4df5-fd8c-2ae6b4a69024"
      },
      "outputs": [
        {
          "name": "stdout",
          "output_type": "stream",
          "text": [
            "The Predicted price is -->  3479531.327306171\n"
          ]
        }
      ],
      "source": [
        "# A = np.column_stack((x, np.ones((len(x),1), dtype=float)))\n",
        "#degree 2\n",
        "p = 2 \n",
        "A = np.column_stack((x**p, x, np.ones((len(x),1), dtype=float)))\n",
        "A\n",
        "beta = np.dot(np.linalg.inv(np.dot(A.T, A)), np.dot(A.T, y.T))\n",
        "beta\n",
        "print(\"The Predicted price is --> \", (beta[0]*(3000**2) + beta[1]*3000 + beta[2]))"
      ]
    },
    {
      "cell_type": "code",
      "execution_count": 14,
      "metadata": {
        "colab": {
          "base_uri": "https://localhost:8080/"
        },
        "id": "wBK4x9xeLBs2",
        "outputId": "4823596a-b9d3-4951-da20-eab8a3afcb9e"
      },
      "outputs": [
        {
          "name": "stdout",
          "output_type": "stream",
          "text": [
            "The Predicted price is -->  3528833.8592055845\n"
          ]
        }
      ],
      "source": [
        "#degree 3\n",
        "p = 3\n",
        "R = 3000\n",
        "A = np.column_stack((x**p, x**(p-1), x, np.ones((len(x),1), dtype=float)))\n",
        "A\n",
        "beta = np.dot(np.linalg.inv(np.dot(A.T, A)), np.dot(A.T, y.T))\n",
        "beta\n",
        "print(\"The Predicted price is --> \", (beta[0]*(R**3) + beta[1]*(R**2) + beta[2]*R + beta[3]))"
      ]
    },
    {
      "cell_type": "code",
      "execution_count": 15,
      "metadata": {
        "colab": {
          "base_uri": "https://localhost:8080/"
        },
        "id": "meLGeGPuLCf9",
        "outputId": "aa116134-b8c2-4e85-c60f-c158d749f480"
      },
      "outputs": [
        {
          "name": "stdout",
          "output_type": "stream",
          "text": [
            "The Predicted price is -->  3486712.508022111\n"
          ]
        }
      ],
      "source": [
        "#degree 4\n",
        "p = 4\n",
        "R = 3000\n",
        "A = np.column_stack((x**p, x**(p-1), x**(p-2), x, np.ones((len(x),1), dtype=float)))\n",
        "A\n",
        "beta = np.dot(np.linalg.inv(np.dot(A.T, A)), np.dot(A.T, y.T))\n",
        "beta\n",
        "print(\"The Predicted price is --> \", (beta[0]*(R**4) + beta[1]*(R**3) + beta[2]*(R**2) + beta[3]*R + beta[4]))"
      ]
    },
    {
      "cell_type": "code",
      "execution_count": 16,
      "metadata": {
        "colab": {
          "base_uri": "https://localhost:8080/"
        },
        "id": "zaBrq1BzLDLC",
        "outputId": "201d31e3-aa6a-43ea-f3a1-505064fd54a9"
      },
      "outputs": [
        {
          "name": "stdout",
          "output_type": "stream",
          "text": [
            "The Predicted price is -->  3476563.325492127\n"
          ]
        }
      ],
      "source": [
        "#degree 5\n",
        "p = 5\n",
        "R = 3000\n",
        "A = np.column_stack((x**p, x**(p-1), x**(p-2), x**(p-3), x, np.ones((len(x),1), dtype=float)))\n",
        "A\n",
        "beta = np.dot(np.linalg.inv(np.dot(A.T, A)), np.dot(A.T, y.T))\n",
        "beta\n",
        "print(\"The Predicted price is --> \", (beta[0]*(R**5) + beta[1]*(R**4) + beta[2]*(R**3) + beta[3]*(R**2) + beta[4]*R + beta[5]))"
      ]
    },
    {
      "cell_type": "code",
      "execution_count": 17,
      "metadata": {
        "colab": {
          "base_uri": "https://localhost:8080/"
        },
        "id": "u_vazAVVLDkm",
        "outputId": "a2bef5ea-0b0f-4421-8ad7-b1e7dede0229"
      },
      "outputs": [
        {
          "name": "stdout",
          "output_type": "stream",
          "text": [
            "The Predicted price is -->  -1851313.5742043946\n"
          ]
        }
      ],
      "source": [
        "#degree 6\n",
        "p = 6\n",
        "R = 3000\n",
        "A = np.column_stack((x**p, x**(p-1), x**(p-2), x**(p-3), x**(p-4), x, np.ones((len(x),1), dtype=float)))\n",
        "A\n",
        "beta = np.dot(np.linalg.inv(np.dot(A.T, A)), np.dot(A.T, y.T))\n",
        "beta\n",
        "print(\"The Predicted price is --> \", (beta[0]*(R**6) + beta[1]*(R**5) + beta[2]*(R**4) + beta[3]*(R**3) + beta[4]*(R**2) + beta[5]*R + beta[6]))"
      ]
    },
    {
      "cell_type": "code",
      "execution_count": 18,
      "metadata": {
        "colab": {
          "base_uri": "https://localhost:8080/"
        },
        "id": "COaRPWH5HjGU",
        "outputId": "161dd2fb-64eb-4f2a-99ae-ffbc33938773"
      },
      "outputs": [
        {
          "name": "stdout",
          "output_type": "stream",
          "text": [
            "The Predicted price is -->  -22271121839.317764\n"
          ]
        }
      ],
      "source": [
        "#degree 7\n",
        "p = 7\n",
        "R = 3000\n",
        "A = np.column_stack((x**p, x**(p-1), x**(p-2), x**(p-3), x**(p-4), x**(p-5), x, np.ones((len(x),1), dtype=float)))\n",
        "A\n",
        "beta = np.dot(np.linalg.inv(np.dot(A.T, A)), np.dot(A.T, y.T))\n",
        "beta\n",
        "print(\"The Predicted price is --> \", (beta[0]*(R**7) + beta[1]*(R**6) + beta[2]*(R**5) + beta[3]*(R**4) + beta[4]*(R**3) + beta[5]*(R**2) + beta[6]*R + beta[7]))"
      ]
    },
    {
      "cell_type": "markdown",
      "metadata": {
        "id": "tMaE9slx704Q"
      },
      "source": [
        "#Q3\n",
        "Price of house based on area and no of bedrooms are given in 3 column excel sheet. Find the best fitting plane z = a1x+a2y+a3.\n",
        "Using this find the price of a house with R-thousand square feet and R + 3 bedrooms where R is the last digit of your roll no.\n",
        "If last digit of your roll no is 0, choose R = 2.5 in house area.\n",
        "Hint: Use the least square problem mina∈R3\n",
        "1\n",
        "m ∥Aa − z∥\n",
        "2 where A(i, :) = (xi, yi, 1)."
      ]
    },
    {
      "cell_type": "code",
      "execution_count": 19,
      "metadata": {
        "colab": {
          "base_uri": "https://localhost:8080/",
          "height": 424
        },
        "id": "DHNL77J772Z_",
        "outputId": "e3a4c0b2-d40a-4ca5-dc20-fae367dd913a"
      },
      "outputs": [
        {
          "data": {
            "text/html": [
              "<div>\n",
              "<style scoped>\n",
              "    .dataframe tbody tr th:only-of-type {\n",
              "        vertical-align: middle;\n",
              "    }\n",
              "\n",
              "    .dataframe tbody tr th {\n",
              "        vertical-align: top;\n",
              "    }\n",
              "\n",
              "    .dataframe thead th {\n",
              "        text-align: right;\n",
              "    }\n",
              "</style>\n",
              "<table border=\"1\" class=\"dataframe\">\n",
              "  <thead>\n",
              "    <tr style=\"text-align: right;\">\n",
              "      <th></th>\n",
              "      <th>area</th>\n",
              "      <th>bedrooms</th>\n",
              "      <th>price</th>\n",
              "    </tr>\n",
              "  </thead>\n",
              "  <tbody>\n",
              "    <tr>\n",
              "      <th>0</th>\n",
              "      <td>3050</td>\n",
              "      <td>3</td>\n",
              "      <td>3920000</td>\n",
              "    </tr>\n",
              "    <tr>\n",
              "      <th>1</th>\n",
              "      <td>3100</td>\n",
              "      <td>2</td>\n",
              "      <td>2135000</td>\n",
              "    </tr>\n",
              "    <tr>\n",
              "      <th>2</th>\n",
              "      <td>4320</td>\n",
              "      <td>3</td>\n",
              "      <td>4690000</td>\n",
              "    </tr>\n",
              "    <tr>\n",
              "      <th>3</th>\n",
              "      <td>3060</td>\n",
              "      <td>3</td>\n",
              "      <td>3465000</td>\n",
              "    </tr>\n",
              "    <tr>\n",
              "      <th>4</th>\n",
              "      <td>2575</td>\n",
              "      <td>2</td>\n",
              "      <td>3290000</td>\n",
              "    </tr>\n",
              "    <tr>\n",
              "      <th>...</th>\n",
              "      <td>...</td>\n",
              "      <td>...</td>\n",
              "      <td>...</td>\n",
              "    </tr>\n",
              "    <tr>\n",
              "      <th>95</th>\n",
              "      <td>6600</td>\n",
              "      <td>4</td>\n",
              "      <td>9100000</td>\n",
              "    </tr>\n",
              "    <tr>\n",
              "      <th>96</th>\n",
              "      <td>2145</td>\n",
              "      <td>3</td>\n",
              "      <td>4200000</td>\n",
              "    </tr>\n",
              "    <tr>\n",
              "      <th>97</th>\n",
              "      <td>5200</td>\n",
              "      <td>4</td>\n",
              "      <td>2852500</td>\n",
              "    </tr>\n",
              "    <tr>\n",
              "      <th>98</th>\n",
              "      <td>4410</td>\n",
              "      <td>2</td>\n",
              "      <td>4200000</td>\n",
              "    </tr>\n",
              "    <tr>\n",
              "      <th>99</th>\n",
              "      <td>8400</td>\n",
              "      <td>3</td>\n",
              "      <td>5250000</td>\n",
              "    </tr>\n",
              "  </tbody>\n",
              "</table>\n",
              "<p>100 rows × 3 columns</p>\n",
              "</div>"
            ],
            "text/plain": [
              "    area  bedrooms    price\n",
              "0   3050         3  3920000\n",
              "1   3100         2  2135000\n",
              "2   4320         3  4690000\n",
              "3   3060         3  3465000\n",
              "4   2575         2  3290000\n",
              "..   ...       ...      ...\n",
              "95  6600         4  9100000\n",
              "96  2145         3  4200000\n",
              "97  5200         4  2852500\n",
              "98  4410         2  4200000\n",
              "99  8400         3  5250000\n",
              "\n",
              "[100 rows x 3 columns]"
            ]
          },
          "execution_count": 19,
          "metadata": {},
          "output_type": "execute_result"
        }
      ],
      "source": [
        "df3 = pd.read_excel('3 columns.xls')\n",
        "df3"
      ]
    },
    {
      "cell_type": "markdown",
      "metadata": {
        "id": "Y9bxkuPw_PWx"
      },
      "source": []
    },
    {
      "cell_type": "code",
      "execution_count": 20,
      "metadata": {
        "id": "n7-sI7Op7_8a"
      },
      "outputs": [],
      "source": [
        "x,y = df3.values[:,:2], df3.values[:,2]"
      ]
    },
    {
      "cell_type": "code",
      "execution_count": 21,
      "metadata": {
        "colab": {
          "base_uri": "https://localhost:8080/"
        },
        "id": "nFRcQw8y8TcJ",
        "outputId": "c8eba716-6985-4153-cee7-df9eeabbebe2"
      },
      "outputs": [
        {
          "data": {
            "text/plain": [
              "array([[ 3050,     3],\n",
              "       [ 3100,     2],\n",
              "       [ 4320,     3],\n",
              "       [ 3060,     3],\n",
              "       [ 2575,     2],\n",
              "       [ 8960,     4],\n",
              "       [ 6600,     3],\n",
              "       [ 3800,     2],\n",
              "       [ 4992,     3],\n",
              "       [ 2400,     3],\n",
              "       [ 3512,     2],\n",
              "       [ 4500,     3],\n",
              "       [ 5400,     3],\n",
              "       [ 3180,     2],\n",
              "       [ 4040,     2],\n",
              "       [ 3180,     4],\n",
              "       [ 2817,     4],\n",
              "       [ 6615,     3],\n",
              "       [ 6540,     3],\n",
              "       [ 3520,     2],\n",
              "       [ 4500,     2],\n",
              "       [ 5700,     3],\n",
              "       [ 4840,     2],\n",
              "       [ 7250,     3],\n",
              "       [ 3090,     3],\n",
              "       [ 3745,     3],\n",
              "       [ 3090,     2],\n",
              "       [ 9185,     4],\n",
              "       [ 8250,     3],\n",
              "       [ 6255,     3],\n",
              "       [ 5200,     3],\n",
              "       [ 4410,     4],\n",
              "       [ 6600,     4],\n",
              "       [12900,     3],\n",
              "       [ 4340,     3],\n",
              "       [ 5750,     3],\n",
              "       [ 4775,     4],\n",
              "       [ 6000,     4],\n",
              "       [ 2910,     3],\n",
              "       [ 3090,     2],\n",
              "       [ 7000,     3],\n",
              "       [ 2145,     3],\n",
              "       [ 3240,     2],\n",
              "       [ 5400,     4],\n",
              "       [ 6725,     3],\n",
              "       [ 5960,     3],\n",
              "       [ 3300,     3],\n",
              "       [ 3500,     4],\n",
              "       [ 4079,     3],\n",
              "       [ 4600,     3],\n",
              "       [ 4000,     3],\n",
              "       [ 7482,     3],\n",
              "       [ 2000,     2],\n",
              "       [ 3150,     3],\n",
              "       [ 2135,     3],\n",
              "       [ 4120,     2],\n",
              "       [ 3850,     3],\n",
              "       [ 2145,     4],\n",
              "       [ 4500,     3],\n",
              "       [ 4080,     2],\n",
              "       [ 6100,     3],\n",
              "       [ 4080,     3],\n",
              "       [ 6710,     3],\n",
              "       [ 5010,     3],\n",
              "       [ 3986,     2],\n",
              "       [ 7320,     4],\n",
              "       [ 8800,     3],\n",
              "       [ 3480,     3],\n",
              "       [10240,     2],\n",
              "       [ 6360,     4],\n",
              "       [ 3480,     2],\n",
              "       [ 4880,     4],\n",
              "       [ 3990,     3],\n",
              "       [ 8250,     3],\n",
              "       [ 8400,     4],\n",
              "       [ 6235,     3],\n",
              "       [ 4160,     3],\n",
              "       [ 5885,     2],\n",
              "       [ 5320,     3],\n",
              "       [ 9800,     4],\n",
              "       [ 3460,     3],\n",
              "       [ 6100,     3],\n",
              "       [ 4350,     3],\n",
              "       [ 3880,     3],\n",
              "       [ 5495,     3],\n",
              "       [ 3650,     3],\n",
              "       [ 6540,     4],\n",
              "       [ 6360,     2],\n",
              "       [ 3450,     1],\n",
              "       [ 9000,     3],\n",
              "       [11460,     3],\n",
              "       [ 3792,     4],\n",
              "       [ 3640,     3],\n",
              "       [ 3450,     3],\n",
              "       [ 3450,     2],\n",
              "       [ 6600,     4],\n",
              "       [ 2145,     3],\n",
              "       [ 5200,     4],\n",
              "       [ 4410,     2],\n",
              "       [ 8400,     3]], dtype=int64)"
            ]
          },
          "execution_count": 21,
          "metadata": {},
          "output_type": "execute_result"
        }
      ],
      "source": [
        "x"
      ]
    },
    {
      "cell_type": "code",
      "execution_count": 22,
      "metadata": {
        "colab": {
          "base_uri": "https://localhost:8080/"
        },
        "id": "sA6xDVZX8UFg",
        "outputId": "57efa34f-fada-4c20-a7f2-082f77fb6947"
      },
      "outputs": [
        {
          "data": {
            "text/plain": [
              "array([ 3920000,  2135000,  4690000,  3465000,  3290000, 12250000,\n",
              "        6090000,  3045000,  4060000,  1767150,  3500000,  3990000,\n",
              "        4025000,  2310000,  4095000,  3290000,  5495000,  2940000,\n",
              "        5950000,  4515000,  3080000,  6650000,  2450000,  4200000,\n",
              "        3010000,  4655000,  3080000,  7245000,  6510000,  5775000,\n",
              "        5810000,  4970000,  5600000,  4900000,  4060000,  9800000,\n",
              "        3325000,  7700000,  1750000,  2450000,  4795000,  3465000,\n",
              "        2450000,  2870000,  7580000,  8190000,  5530000,  4340000,\n",
              "        4200000,  8890000,  6790000,  8043000,  2660000,  2940000,\n",
              "        3500000,  4900000,  3115000,  3920000,  4007500,  3850000,\n",
              "        5110000,  4165000,  5390000,  4620000,  3150000,  5950000,\n",
              "        8575000,  2940000,  4760000,  7035000,  3745000,  8295000,\n",
              "        3500000,  3773000,  4550000,  7350000,  4830000,  4480000,\n",
              "        4550000,  5250000,  4025000,  5530000,  2835000,  4620000,\n",
              "        3129000,  3500000,  8540000,  4270000,  3150000,  6300000,\n",
              "        5873000,  3290000,  4200000,  3150000,  1820000,  9100000,\n",
              "        4200000,  2852500,  4200000,  5250000], dtype=int64)"
            ]
          },
          "execution_count": 22,
          "metadata": {},
          "output_type": "execute_result"
        }
      ],
      "source": [
        "y"
      ]
    },
    {
      "cell_type": "code",
      "execution_count": 23,
      "metadata": {
        "colab": {
          "base_uri": "https://localhost:8080/"
        },
        "id": "pNFfVVEQ8V6p",
        "outputId": "4e712189-ef0c-4810-e058-dd879387f0b5"
      },
      "outputs": [
        {
          "data": {
            "text/plain": [
              "array([[3.050e+03, 3.000e+00, 1.000e+00],\n",
              "       [3.100e+03, 2.000e+00, 1.000e+00],\n",
              "       [4.320e+03, 3.000e+00, 1.000e+00],\n",
              "       [3.060e+03, 3.000e+00, 1.000e+00],\n",
              "       [2.575e+03, 2.000e+00, 1.000e+00],\n",
              "       [8.960e+03, 4.000e+00, 1.000e+00],\n",
              "       [6.600e+03, 3.000e+00, 1.000e+00],\n",
              "       [3.800e+03, 2.000e+00, 1.000e+00],\n",
              "       [4.992e+03, 3.000e+00, 1.000e+00],\n",
              "       [2.400e+03, 3.000e+00, 1.000e+00],\n",
              "       [3.512e+03, 2.000e+00, 1.000e+00],\n",
              "       [4.500e+03, 3.000e+00, 1.000e+00],\n",
              "       [5.400e+03, 3.000e+00, 1.000e+00],\n",
              "       [3.180e+03, 2.000e+00, 1.000e+00],\n",
              "       [4.040e+03, 2.000e+00, 1.000e+00],\n",
              "       [3.180e+03, 4.000e+00, 1.000e+00],\n",
              "       [2.817e+03, 4.000e+00, 1.000e+00],\n",
              "       [6.615e+03, 3.000e+00, 1.000e+00],\n",
              "       [6.540e+03, 3.000e+00, 1.000e+00],\n",
              "       [3.520e+03, 2.000e+00, 1.000e+00],\n",
              "       [4.500e+03, 2.000e+00, 1.000e+00],\n",
              "       [5.700e+03, 3.000e+00, 1.000e+00],\n",
              "       [4.840e+03, 2.000e+00, 1.000e+00],\n",
              "       [7.250e+03, 3.000e+00, 1.000e+00],\n",
              "       [3.090e+03, 3.000e+00, 1.000e+00],\n",
              "       [3.745e+03, 3.000e+00, 1.000e+00],\n",
              "       [3.090e+03, 2.000e+00, 1.000e+00],\n",
              "       [9.185e+03, 4.000e+00, 1.000e+00],\n",
              "       [8.250e+03, 3.000e+00, 1.000e+00],\n",
              "       [6.255e+03, 3.000e+00, 1.000e+00],\n",
              "       [5.200e+03, 3.000e+00, 1.000e+00],\n",
              "       [4.410e+03, 4.000e+00, 1.000e+00],\n",
              "       [6.600e+03, 4.000e+00, 1.000e+00],\n",
              "       [1.290e+04, 3.000e+00, 1.000e+00],\n",
              "       [4.340e+03, 3.000e+00, 1.000e+00],\n",
              "       [5.750e+03, 3.000e+00, 1.000e+00],\n",
              "       [4.775e+03, 4.000e+00, 1.000e+00],\n",
              "       [6.000e+03, 4.000e+00, 1.000e+00],\n",
              "       [2.910e+03, 3.000e+00, 1.000e+00],\n",
              "       [3.090e+03, 2.000e+00, 1.000e+00],\n",
              "       [7.000e+03, 3.000e+00, 1.000e+00],\n",
              "       [2.145e+03, 3.000e+00, 1.000e+00],\n",
              "       [3.240e+03, 2.000e+00, 1.000e+00],\n",
              "       [5.400e+03, 4.000e+00, 1.000e+00],\n",
              "       [6.725e+03, 3.000e+00, 1.000e+00],\n",
              "       [5.960e+03, 3.000e+00, 1.000e+00],\n",
              "       [3.300e+03, 3.000e+00, 1.000e+00],\n",
              "       [3.500e+03, 4.000e+00, 1.000e+00],\n",
              "       [4.079e+03, 3.000e+00, 1.000e+00],\n",
              "       [4.600e+03, 3.000e+00, 1.000e+00],\n",
              "       [4.000e+03, 3.000e+00, 1.000e+00],\n",
              "       [7.482e+03, 3.000e+00, 1.000e+00],\n",
              "       [2.000e+03, 2.000e+00, 1.000e+00],\n",
              "       [3.150e+03, 3.000e+00, 1.000e+00],\n",
              "       [2.135e+03, 3.000e+00, 1.000e+00],\n",
              "       [4.120e+03, 2.000e+00, 1.000e+00],\n",
              "       [3.850e+03, 3.000e+00, 1.000e+00],\n",
              "       [2.145e+03, 4.000e+00, 1.000e+00],\n",
              "       [4.500e+03, 3.000e+00, 1.000e+00],\n",
              "       [4.080e+03, 2.000e+00, 1.000e+00],\n",
              "       [6.100e+03, 3.000e+00, 1.000e+00],\n",
              "       [4.080e+03, 3.000e+00, 1.000e+00],\n",
              "       [6.710e+03, 3.000e+00, 1.000e+00],\n",
              "       [5.010e+03, 3.000e+00, 1.000e+00],\n",
              "       [3.986e+03, 2.000e+00, 1.000e+00],\n",
              "       [7.320e+03, 4.000e+00, 1.000e+00],\n",
              "       [8.800e+03, 3.000e+00, 1.000e+00],\n",
              "       [3.480e+03, 3.000e+00, 1.000e+00],\n",
              "       [1.024e+04, 2.000e+00, 1.000e+00],\n",
              "       [6.360e+03, 4.000e+00, 1.000e+00],\n",
              "       [3.480e+03, 2.000e+00, 1.000e+00],\n",
              "       [4.880e+03, 4.000e+00, 1.000e+00],\n",
              "       [3.990e+03, 3.000e+00, 1.000e+00],\n",
              "       [8.250e+03, 3.000e+00, 1.000e+00],\n",
              "       [8.400e+03, 4.000e+00, 1.000e+00],\n",
              "       [6.235e+03, 3.000e+00, 1.000e+00],\n",
              "       [4.160e+03, 3.000e+00, 1.000e+00],\n",
              "       [5.885e+03, 2.000e+00, 1.000e+00],\n",
              "       [5.320e+03, 3.000e+00, 1.000e+00],\n",
              "       [9.800e+03, 4.000e+00, 1.000e+00],\n",
              "       [3.460e+03, 3.000e+00, 1.000e+00],\n",
              "       [6.100e+03, 3.000e+00, 1.000e+00],\n",
              "       [4.350e+03, 3.000e+00, 1.000e+00],\n",
              "       [3.880e+03, 3.000e+00, 1.000e+00],\n",
              "       [5.495e+03, 3.000e+00, 1.000e+00],\n",
              "       [3.650e+03, 3.000e+00, 1.000e+00],\n",
              "       [6.540e+03, 4.000e+00, 1.000e+00],\n",
              "       [6.360e+03, 2.000e+00, 1.000e+00],\n",
              "       [3.450e+03, 1.000e+00, 1.000e+00],\n",
              "       [9.000e+03, 3.000e+00, 1.000e+00],\n",
              "       [1.146e+04, 3.000e+00, 1.000e+00],\n",
              "       [3.792e+03, 4.000e+00, 1.000e+00],\n",
              "       [3.640e+03, 3.000e+00, 1.000e+00],\n",
              "       [3.450e+03, 3.000e+00, 1.000e+00],\n",
              "       [3.450e+03, 2.000e+00, 1.000e+00],\n",
              "       [6.600e+03, 4.000e+00, 1.000e+00],\n",
              "       [2.145e+03, 3.000e+00, 1.000e+00],\n",
              "       [5.200e+03, 4.000e+00, 1.000e+00],\n",
              "       [4.410e+03, 2.000e+00, 1.000e+00],\n",
              "       [8.400e+03, 3.000e+00, 1.000e+00]])"
            ]
          },
          "execution_count": 23,
          "metadata": {},
          "output_type": "execute_result"
        }
      ],
      "source": [
        "A=np.column_stack((x,np.ones((len(x),1),dtype=float)))\n",
        "A"
      ]
    },
    {
      "cell_type": "code",
      "execution_count": 24,
      "metadata": {
        "colab": {
          "base_uri": "https://localhost:8080/"
        },
        "id": "TsjtV8li8fSR",
        "outputId": "85f778a9-a9d9-4e31-bf4b-004527435adb"
      },
      "outputs": [
        {
          "name": "stdout",
          "output_type": "stream",
          "text": [
            "[4.11335474e+02 8.32351204e+05 1.40790447e+05]\n"
          ]
        }
      ],
      "source": [
        "beta=np.dot(np.linalg.inv(np.dot(A.T,A)),np.dot(A.T,y.T))\n",
        "print(beta)"
      ]
    },
    {
      "cell_type": "code",
      "execution_count": 25,
      "metadata": {
        "colab": {
          "base_uri": "https://localhost:8080/"
        },
        "id": "dpDiRXa88ge4",
        "outputId": "c9986582-26cc-45da-f097-8d385ccb48ba"
      },
      "outputs": [
        {
          "name": "stdout",
          "output_type": "stream",
          "text": [
            "predicted price is :  6368904.091597457\n"
          ]
        }
      ],
      "source": [
        "print('predicted price is : ',beta[0]*3000+beta[1]*6+beta[2])"
      ]
    },
    {
      "cell_type": "markdown",
      "metadata": {
        "id": "LNbbZErpMdZy"
      },
      "source": [
        "#Q4\n",
        "Find the best fitting surface z = a1x^2 + a2xy + a3y^2 + a4x + a5y + a6 of above data set. Using this find the price of a house\n",
        "with R-thousand square feet and R + 3 bedrooms where R is the last digit of your roll no. If last digit of your roll no is 0,\n",
        "choose R = 2.5 in house area.\n",
        "Hint: Use the least square problem mina∈R6\n",
        "1/m ∥Aa − z∥^2 where A(i, :) = (x2i, xiyi, y2i, xi, yi, 1)."
      ]
    },
    {
      "cell_type": "code",
      "execution_count": 26,
      "metadata": {
        "colab": {
          "base_uri": "https://localhost:8080/"
        },
        "id": "0p_n_nCGMfIy",
        "outputId": "0cd46177-2238-4884-e604-4393aab223c1"
      },
      "outputs": [
        {
          "data": {
            "text/plain": [
              "array([[9.3025000e+06, 9.1500000e+03, 9.0000000e+00, 3.0500000e+03,\n",
              "        3.0000000e+00, 1.0000000e+00],\n",
              "       [9.6100000e+06, 6.2000000e+03, 4.0000000e+00, 3.1000000e+03,\n",
              "        2.0000000e+00, 1.0000000e+00],\n",
              "       [1.8662400e+07, 1.2960000e+04, 9.0000000e+00, 4.3200000e+03,\n",
              "        3.0000000e+00, 1.0000000e+00],\n",
              "       [9.3636000e+06, 9.1800000e+03, 9.0000000e+00, 3.0600000e+03,\n",
              "        3.0000000e+00, 1.0000000e+00],\n",
              "       [6.6306250e+06, 5.1500000e+03, 4.0000000e+00, 2.5750000e+03,\n",
              "        2.0000000e+00, 1.0000000e+00],\n",
              "       [8.0281600e+07, 3.5840000e+04, 1.6000000e+01, 8.9600000e+03,\n",
              "        4.0000000e+00, 1.0000000e+00],\n",
              "       [4.3560000e+07, 1.9800000e+04, 9.0000000e+00, 6.6000000e+03,\n",
              "        3.0000000e+00, 1.0000000e+00],\n",
              "       [1.4440000e+07, 7.6000000e+03, 4.0000000e+00, 3.8000000e+03,\n",
              "        2.0000000e+00, 1.0000000e+00],\n",
              "       [2.4920064e+07, 1.4976000e+04, 9.0000000e+00, 4.9920000e+03,\n",
              "        3.0000000e+00, 1.0000000e+00],\n",
              "       [5.7600000e+06, 7.2000000e+03, 9.0000000e+00, 2.4000000e+03,\n",
              "        3.0000000e+00, 1.0000000e+00],\n",
              "       [1.2334144e+07, 7.0240000e+03, 4.0000000e+00, 3.5120000e+03,\n",
              "        2.0000000e+00, 1.0000000e+00],\n",
              "       [2.0250000e+07, 1.3500000e+04, 9.0000000e+00, 4.5000000e+03,\n",
              "        3.0000000e+00, 1.0000000e+00],\n",
              "       [2.9160000e+07, 1.6200000e+04, 9.0000000e+00, 5.4000000e+03,\n",
              "        3.0000000e+00, 1.0000000e+00],\n",
              "       [1.0112400e+07, 6.3600000e+03, 4.0000000e+00, 3.1800000e+03,\n",
              "        2.0000000e+00, 1.0000000e+00],\n",
              "       [1.6321600e+07, 8.0800000e+03, 4.0000000e+00, 4.0400000e+03,\n",
              "        2.0000000e+00, 1.0000000e+00],\n",
              "       [1.0112400e+07, 1.2720000e+04, 1.6000000e+01, 3.1800000e+03,\n",
              "        4.0000000e+00, 1.0000000e+00],\n",
              "       [7.9354890e+06, 1.1268000e+04, 1.6000000e+01, 2.8170000e+03,\n",
              "        4.0000000e+00, 1.0000000e+00],\n",
              "       [4.3758225e+07, 1.9845000e+04, 9.0000000e+00, 6.6150000e+03,\n",
              "        3.0000000e+00, 1.0000000e+00],\n",
              "       [4.2771600e+07, 1.9620000e+04, 9.0000000e+00, 6.5400000e+03,\n",
              "        3.0000000e+00, 1.0000000e+00],\n",
              "       [1.2390400e+07, 7.0400000e+03, 4.0000000e+00, 3.5200000e+03,\n",
              "        2.0000000e+00, 1.0000000e+00],\n",
              "       [2.0250000e+07, 9.0000000e+03, 4.0000000e+00, 4.5000000e+03,\n",
              "        2.0000000e+00, 1.0000000e+00],\n",
              "       [3.2490000e+07, 1.7100000e+04, 9.0000000e+00, 5.7000000e+03,\n",
              "        3.0000000e+00, 1.0000000e+00],\n",
              "       [2.3425600e+07, 9.6800000e+03, 4.0000000e+00, 4.8400000e+03,\n",
              "        2.0000000e+00, 1.0000000e+00],\n",
              "       [5.2562500e+07, 2.1750000e+04, 9.0000000e+00, 7.2500000e+03,\n",
              "        3.0000000e+00, 1.0000000e+00],\n",
              "       [9.5481000e+06, 9.2700000e+03, 9.0000000e+00, 3.0900000e+03,\n",
              "        3.0000000e+00, 1.0000000e+00],\n",
              "       [1.4025025e+07, 1.1235000e+04, 9.0000000e+00, 3.7450000e+03,\n",
              "        3.0000000e+00, 1.0000000e+00],\n",
              "       [9.5481000e+06, 6.1800000e+03, 4.0000000e+00, 3.0900000e+03,\n",
              "        2.0000000e+00, 1.0000000e+00],\n",
              "       [8.4364225e+07, 3.6740000e+04, 1.6000000e+01, 9.1850000e+03,\n",
              "        4.0000000e+00, 1.0000000e+00],\n",
              "       [6.8062500e+07, 2.4750000e+04, 9.0000000e+00, 8.2500000e+03,\n",
              "        3.0000000e+00, 1.0000000e+00],\n",
              "       [3.9125025e+07, 1.8765000e+04, 9.0000000e+00, 6.2550000e+03,\n",
              "        3.0000000e+00, 1.0000000e+00],\n",
              "       [2.7040000e+07, 1.5600000e+04, 9.0000000e+00, 5.2000000e+03,\n",
              "        3.0000000e+00, 1.0000000e+00],\n",
              "       [1.9448100e+07, 1.7640000e+04, 1.6000000e+01, 4.4100000e+03,\n",
              "        4.0000000e+00, 1.0000000e+00],\n",
              "       [4.3560000e+07, 2.6400000e+04, 1.6000000e+01, 6.6000000e+03,\n",
              "        4.0000000e+00, 1.0000000e+00],\n",
              "       [1.6641000e+08, 3.8700000e+04, 9.0000000e+00, 1.2900000e+04,\n",
              "        3.0000000e+00, 1.0000000e+00],\n",
              "       [1.8835600e+07, 1.3020000e+04, 9.0000000e+00, 4.3400000e+03,\n",
              "        3.0000000e+00, 1.0000000e+00],\n",
              "       [3.3062500e+07, 1.7250000e+04, 9.0000000e+00, 5.7500000e+03,\n",
              "        3.0000000e+00, 1.0000000e+00],\n",
              "       [2.2800625e+07, 1.9100000e+04, 1.6000000e+01, 4.7750000e+03,\n",
              "        4.0000000e+00, 1.0000000e+00],\n",
              "       [3.6000000e+07, 2.4000000e+04, 1.6000000e+01, 6.0000000e+03,\n",
              "        4.0000000e+00, 1.0000000e+00],\n",
              "       [8.4681000e+06, 8.7300000e+03, 9.0000000e+00, 2.9100000e+03,\n",
              "        3.0000000e+00, 1.0000000e+00],\n",
              "       [9.5481000e+06, 6.1800000e+03, 4.0000000e+00, 3.0900000e+03,\n",
              "        2.0000000e+00, 1.0000000e+00],\n",
              "       [4.9000000e+07, 2.1000000e+04, 9.0000000e+00, 7.0000000e+03,\n",
              "        3.0000000e+00, 1.0000000e+00],\n",
              "       [4.6010250e+06, 6.4350000e+03, 9.0000000e+00, 2.1450000e+03,\n",
              "        3.0000000e+00, 1.0000000e+00],\n",
              "       [1.0497600e+07, 6.4800000e+03, 4.0000000e+00, 3.2400000e+03,\n",
              "        2.0000000e+00, 1.0000000e+00],\n",
              "       [2.9160000e+07, 2.1600000e+04, 1.6000000e+01, 5.4000000e+03,\n",
              "        4.0000000e+00, 1.0000000e+00],\n",
              "       [4.5225625e+07, 2.0175000e+04, 9.0000000e+00, 6.7250000e+03,\n",
              "        3.0000000e+00, 1.0000000e+00],\n",
              "       [3.5521600e+07, 1.7880000e+04, 9.0000000e+00, 5.9600000e+03,\n",
              "        3.0000000e+00, 1.0000000e+00],\n",
              "       [1.0890000e+07, 9.9000000e+03, 9.0000000e+00, 3.3000000e+03,\n",
              "        3.0000000e+00, 1.0000000e+00],\n",
              "       [1.2250000e+07, 1.4000000e+04, 1.6000000e+01, 3.5000000e+03,\n",
              "        4.0000000e+00, 1.0000000e+00],\n",
              "       [1.6638241e+07, 1.2237000e+04, 9.0000000e+00, 4.0790000e+03,\n",
              "        3.0000000e+00, 1.0000000e+00],\n",
              "       [2.1160000e+07, 1.3800000e+04, 9.0000000e+00, 4.6000000e+03,\n",
              "        3.0000000e+00, 1.0000000e+00],\n",
              "       [1.6000000e+07, 1.2000000e+04, 9.0000000e+00, 4.0000000e+03,\n",
              "        3.0000000e+00, 1.0000000e+00],\n",
              "       [5.5980324e+07, 2.2446000e+04, 9.0000000e+00, 7.4820000e+03,\n",
              "        3.0000000e+00, 1.0000000e+00],\n",
              "       [4.0000000e+06, 4.0000000e+03, 4.0000000e+00, 2.0000000e+03,\n",
              "        2.0000000e+00, 1.0000000e+00],\n",
              "       [9.9225000e+06, 9.4500000e+03, 9.0000000e+00, 3.1500000e+03,\n",
              "        3.0000000e+00, 1.0000000e+00],\n",
              "       [4.5582250e+06, 6.4050000e+03, 9.0000000e+00, 2.1350000e+03,\n",
              "        3.0000000e+00, 1.0000000e+00],\n",
              "       [1.6974400e+07, 8.2400000e+03, 4.0000000e+00, 4.1200000e+03,\n",
              "        2.0000000e+00, 1.0000000e+00],\n",
              "       [1.4822500e+07, 1.1550000e+04, 9.0000000e+00, 3.8500000e+03,\n",
              "        3.0000000e+00, 1.0000000e+00],\n",
              "       [4.6010250e+06, 8.5800000e+03, 1.6000000e+01, 2.1450000e+03,\n",
              "        4.0000000e+00, 1.0000000e+00],\n",
              "       [2.0250000e+07, 1.3500000e+04, 9.0000000e+00, 4.5000000e+03,\n",
              "        3.0000000e+00, 1.0000000e+00],\n",
              "       [1.6646400e+07, 8.1600000e+03, 4.0000000e+00, 4.0800000e+03,\n",
              "        2.0000000e+00, 1.0000000e+00],\n",
              "       [3.7210000e+07, 1.8300000e+04, 9.0000000e+00, 6.1000000e+03,\n",
              "        3.0000000e+00, 1.0000000e+00],\n",
              "       [1.6646400e+07, 1.2240000e+04, 9.0000000e+00, 4.0800000e+03,\n",
              "        3.0000000e+00, 1.0000000e+00],\n",
              "       [4.5024100e+07, 2.0130000e+04, 9.0000000e+00, 6.7100000e+03,\n",
              "        3.0000000e+00, 1.0000000e+00],\n",
              "       [2.5100100e+07, 1.5030000e+04, 9.0000000e+00, 5.0100000e+03,\n",
              "        3.0000000e+00, 1.0000000e+00],\n",
              "       [1.5888196e+07, 7.9720000e+03, 4.0000000e+00, 3.9860000e+03,\n",
              "        2.0000000e+00, 1.0000000e+00],\n",
              "       [5.3582400e+07, 2.9280000e+04, 1.6000000e+01, 7.3200000e+03,\n",
              "        4.0000000e+00, 1.0000000e+00],\n",
              "       [7.7440000e+07, 2.6400000e+04, 9.0000000e+00, 8.8000000e+03,\n",
              "        3.0000000e+00, 1.0000000e+00],\n",
              "       [1.2110400e+07, 1.0440000e+04, 9.0000000e+00, 3.4800000e+03,\n",
              "        3.0000000e+00, 1.0000000e+00],\n",
              "       [1.0485760e+08, 2.0480000e+04, 4.0000000e+00, 1.0240000e+04,\n",
              "        2.0000000e+00, 1.0000000e+00],\n",
              "       [4.0449600e+07, 2.5440000e+04, 1.6000000e+01, 6.3600000e+03,\n",
              "        4.0000000e+00, 1.0000000e+00],\n",
              "       [1.2110400e+07, 6.9600000e+03, 4.0000000e+00, 3.4800000e+03,\n",
              "        2.0000000e+00, 1.0000000e+00],\n",
              "       [2.3814400e+07, 1.9520000e+04, 1.6000000e+01, 4.8800000e+03,\n",
              "        4.0000000e+00, 1.0000000e+00],\n",
              "       [1.5920100e+07, 1.1970000e+04, 9.0000000e+00, 3.9900000e+03,\n",
              "        3.0000000e+00, 1.0000000e+00],\n",
              "       [6.8062500e+07, 2.4750000e+04, 9.0000000e+00, 8.2500000e+03,\n",
              "        3.0000000e+00, 1.0000000e+00],\n",
              "       [7.0560000e+07, 3.3600000e+04, 1.6000000e+01, 8.4000000e+03,\n",
              "        4.0000000e+00, 1.0000000e+00],\n",
              "       [3.8875225e+07, 1.8705000e+04, 9.0000000e+00, 6.2350000e+03,\n",
              "        3.0000000e+00, 1.0000000e+00],\n",
              "       [1.7305600e+07, 1.2480000e+04, 9.0000000e+00, 4.1600000e+03,\n",
              "        3.0000000e+00, 1.0000000e+00],\n",
              "       [3.4633225e+07, 1.1770000e+04, 4.0000000e+00, 5.8850000e+03,\n",
              "        2.0000000e+00, 1.0000000e+00],\n",
              "       [2.8302400e+07, 1.5960000e+04, 9.0000000e+00, 5.3200000e+03,\n",
              "        3.0000000e+00, 1.0000000e+00],\n",
              "       [9.6040000e+07, 3.9200000e+04, 1.6000000e+01, 9.8000000e+03,\n",
              "        4.0000000e+00, 1.0000000e+00],\n",
              "       [1.1971600e+07, 1.0380000e+04, 9.0000000e+00, 3.4600000e+03,\n",
              "        3.0000000e+00, 1.0000000e+00],\n",
              "       [3.7210000e+07, 1.8300000e+04, 9.0000000e+00, 6.1000000e+03,\n",
              "        3.0000000e+00, 1.0000000e+00],\n",
              "       [1.8922500e+07, 1.3050000e+04, 9.0000000e+00, 4.3500000e+03,\n",
              "        3.0000000e+00, 1.0000000e+00],\n",
              "       [1.5054400e+07, 1.1640000e+04, 9.0000000e+00, 3.8800000e+03,\n",
              "        3.0000000e+00, 1.0000000e+00],\n",
              "       [3.0195025e+07, 1.6485000e+04, 9.0000000e+00, 5.4950000e+03,\n",
              "        3.0000000e+00, 1.0000000e+00],\n",
              "       [1.3322500e+07, 1.0950000e+04, 9.0000000e+00, 3.6500000e+03,\n",
              "        3.0000000e+00, 1.0000000e+00],\n",
              "       [4.2771600e+07, 2.6160000e+04, 1.6000000e+01, 6.5400000e+03,\n",
              "        4.0000000e+00, 1.0000000e+00],\n",
              "       [4.0449600e+07, 1.2720000e+04, 4.0000000e+00, 6.3600000e+03,\n",
              "        2.0000000e+00, 1.0000000e+00],\n",
              "       [1.1902500e+07, 3.4500000e+03, 1.0000000e+00, 3.4500000e+03,\n",
              "        1.0000000e+00, 1.0000000e+00],\n",
              "       [8.1000000e+07, 2.7000000e+04, 9.0000000e+00, 9.0000000e+03,\n",
              "        3.0000000e+00, 1.0000000e+00],\n",
              "       [1.3133160e+08, 3.4380000e+04, 9.0000000e+00, 1.1460000e+04,\n",
              "        3.0000000e+00, 1.0000000e+00],\n",
              "       [1.4379264e+07, 1.5168000e+04, 1.6000000e+01, 3.7920000e+03,\n",
              "        4.0000000e+00, 1.0000000e+00],\n",
              "       [1.3249600e+07, 1.0920000e+04, 9.0000000e+00, 3.6400000e+03,\n",
              "        3.0000000e+00, 1.0000000e+00],\n",
              "       [1.1902500e+07, 1.0350000e+04, 9.0000000e+00, 3.4500000e+03,\n",
              "        3.0000000e+00, 1.0000000e+00],\n",
              "       [1.1902500e+07, 6.9000000e+03, 4.0000000e+00, 3.4500000e+03,\n",
              "        2.0000000e+00, 1.0000000e+00],\n",
              "       [4.3560000e+07, 2.6400000e+04, 1.6000000e+01, 6.6000000e+03,\n",
              "        4.0000000e+00, 1.0000000e+00],\n",
              "       [4.6010250e+06, 6.4350000e+03, 9.0000000e+00, 2.1450000e+03,\n",
              "        3.0000000e+00, 1.0000000e+00],\n",
              "       [2.7040000e+07, 2.0800000e+04, 1.6000000e+01, 5.2000000e+03,\n",
              "        4.0000000e+00, 1.0000000e+00],\n",
              "       [1.9448100e+07, 8.8200000e+03, 4.0000000e+00, 4.4100000e+03,\n",
              "        2.0000000e+00, 1.0000000e+00],\n",
              "       [7.0560000e+07, 2.5200000e+04, 9.0000000e+00, 8.4000000e+03,\n",
              "        3.0000000e+00, 1.0000000e+00]])"
            ]
          },
          "execution_count": 26,
          "metadata": {},
          "output_type": "execute_result"
        }
      ],
      "source": [
        "dt=pd.read_excel(\"3 columns.xls\")\n",
        "B=dt.values\n",
        "area, bedroom, price = B[:,0],B[:,1], B[:,2]\n",
        "R = 3\n",
        "bedrooms = R+3\n",
        "R = R*1000\n",
        "A = np.column_stack((area**2, area*bedroom, bedroom**2, area, bedroom, np.ones((len(x),1), dtype=float)))\n",
        "A"
      ]
    },
    {
      "cell_type": "code",
      "execution_count": 27,
      "metadata": {
        "colab": {
          "base_uri": "https://localhost:8080/"
        },
        "id": "_6_Cjf1JOGKF",
        "outputId": "7bff99ab-1be4-4767-8200-f0f922cc9d92"
      },
      "outputs": [
        {
          "data": {
            "text/plain": [
              "array([-7.02023865e-02,  1.33569743e+02, -1.26645006e+05,  8.89790504e+02,\n",
              "        8.38349133e+05, -1.06595307e+06])"
            ]
          },
          "execution_count": 27,
          "metadata": {},
          "output_type": "execute_result"
        }
      ],
      "source": [
        "beta = np.dot(np.linalg.inv(np.dot(A.T, A)), np.dot(A.T, price.T))\n",
        "beta"
      ]
    },
    {
      "cell_type": "code",
      "execution_count": 28,
      "metadata": {
        "colab": {
          "base_uri": "https://localhost:8080/"
        },
        "id": "9AprUlT8OINT",
        "outputId": "7bce802d-463f-4bb4-9186-80bbeb8baa5c"
      },
      "outputs": [
        {
          "name": "stdout",
          "output_type": "stream",
          "text": [
            "The required price is -->  3846726.937310241\n"
          ]
        }
      ],
      "source": [
        "print(\"The required price is --> \", (beta[0]*(R**2) + beta[1]*(R*bedrooms) + beta[2]*(bedrooms**2) + beta[3]*R + beta[4]*bedrooms + beta[5]))"
      ]
    },
    {
      "cell_type": "markdown",
      "metadata": {
        "id": "KR0kO0igGAKc"
      },
      "source": [
        "#Q5\n",
        "Price of house based on area, bedrooms, and bathrooms are given in four column data. Find the best fitting hyperplane\n",
        "y = aT x + β. Using this find the price of a house with with R-thousand square feet and R + 3 bedrooms where R is the last\n",
        "digit of your roll no and no.of bathrooms is 2 if R is odd and no. of bathrooms is 1 if R is even. If last digit of your roll no is\n",
        "0, choose R = 2.5 in house area.Hint: Use the least square problem minx∈R4 1/m ∥A(xT, β)T −z∥2 where A(i, :) = (aTi, 1) where aTi = (area, bedrrom,bathroom).\n",
        "Then use z = aT x + β."
      ]
    },
    {
      "cell_type": "code",
      "execution_count": 29,
      "metadata": {
        "colab": {
          "base_uri": "https://localhost:8080/",
          "height": 424
        },
        "id": "2_PH9gYOG13j",
        "outputId": "36320858-ebb2-425b-c7a7-82ff856144d8"
      },
      "outputs": [
        {
          "data": {
            "text/html": [
              "<div>\n",
              "<style scoped>\n",
              "    .dataframe tbody tr th:only-of-type {\n",
              "        vertical-align: middle;\n",
              "    }\n",
              "\n",
              "    .dataframe tbody tr th {\n",
              "        vertical-align: top;\n",
              "    }\n",
              "\n",
              "    .dataframe thead th {\n",
              "        text-align: right;\n",
              "    }\n",
              "</style>\n",
              "<table border=\"1\" class=\"dataframe\">\n",
              "  <thead>\n",
              "    <tr style=\"text-align: right;\">\n",
              "      <th></th>\n",
              "      <th>area</th>\n",
              "      <th>bedrooms</th>\n",
              "      <th>bathrooms</th>\n",
              "      <th>price</th>\n",
              "    </tr>\n",
              "  </thead>\n",
              "  <tbody>\n",
              "    <tr>\n",
              "      <th>0</th>\n",
              "      <td>2800</td>\n",
              "      <td>3</td>\n",
              "      <td>1</td>\n",
              "      <td>2660000</td>\n",
              "    </tr>\n",
              "    <tr>\n",
              "      <th>1</th>\n",
              "      <td>4120</td>\n",
              "      <td>2</td>\n",
              "      <td>1</td>\n",
              "      <td>3360000</td>\n",
              "    </tr>\n",
              "    <tr>\n",
              "      <th>2</th>\n",
              "      <td>4990</td>\n",
              "      <td>4</td>\n",
              "      <td>2</td>\n",
              "      <td>4543000</td>\n",
              "    </tr>\n",
              "    <tr>\n",
              "      <th>3</th>\n",
              "      <td>7440</td>\n",
              "      <td>3</td>\n",
              "      <td>2</td>\n",
              "      <td>7420000</td>\n",
              "    </tr>\n",
              "    <tr>\n",
              "      <th>4</th>\n",
              "      <td>3035</td>\n",
              "      <td>3</td>\n",
              "      <td>1</td>\n",
              "      <td>2485000</td>\n",
              "    </tr>\n",
              "    <tr>\n",
              "      <th>...</th>\n",
              "      <td>...</td>\n",
              "      <td>...</td>\n",
              "      <td>...</td>\n",
              "      <td>...</td>\n",
              "    </tr>\n",
              "    <tr>\n",
              "      <th>95</th>\n",
              "      <td>3150</td>\n",
              "      <td>2</td>\n",
              "      <td>2</td>\n",
              "      <td>3815000</td>\n",
              "    </tr>\n",
              "    <tr>\n",
              "      <th>96</th>\n",
              "      <td>6600</td>\n",
              "      <td>3</td>\n",
              "      <td>1</td>\n",
              "      <td>5040000</td>\n",
              "    </tr>\n",
              "    <tr>\n",
              "      <th>97</th>\n",
              "      <td>11175</td>\n",
              "      <td>3</td>\n",
              "      <td>1</td>\n",
              "      <td>7000000</td>\n",
              "    </tr>\n",
              "    <tr>\n",
              "      <th>98</th>\n",
              "      <td>6550</td>\n",
              "      <td>4</td>\n",
              "      <td>2</td>\n",
              "      <td>9310000</td>\n",
              "    </tr>\n",
              "    <tr>\n",
              "      <th>99</th>\n",
              "      <td>5500</td>\n",
              "      <td>4</td>\n",
              "      <td>2</td>\n",
              "      <td>8400000</td>\n",
              "    </tr>\n",
              "  </tbody>\n",
              "</table>\n",
              "<p>100 rows × 4 columns</p>\n",
              "</div>"
            ],
            "text/plain": [
              "     area  bedrooms  bathrooms    price\n",
              "0    2800         3          1  2660000\n",
              "1    4120         2          1  3360000\n",
              "2    4990         4          2  4543000\n",
              "3    7440         3          2  7420000\n",
              "4    3035         3          1  2485000\n",
              "..    ...       ...        ...      ...\n",
              "95   3150         2          2  3815000\n",
              "96   6600         3          1  5040000\n",
              "97  11175         3          1  7000000\n",
              "98   6550         4          2  9310000\n",
              "99   5500         4          2  8400000\n",
              "\n",
              "[100 rows x 4 columns]"
            ]
          },
          "execution_count": 29,
          "metadata": {},
          "output_type": "execute_result"
        }
      ],
      "source": [
        "df5 = pd.read_excel('4 columns.xls')\n",
        "df5"
      ]
    },
    {
      "cell_type": "code",
      "execution_count": 30,
      "metadata": {
        "colab": {
          "base_uri": "https://localhost:8080/"
        },
        "id": "JeOYlYpxGBVm",
        "outputId": "46dc162e-2814-488a-bc4a-b03b16a1ac64"
      },
      "outputs": [
        {
          "name": "stdout",
          "output_type": "stream",
          "text": [
            "[ 4.52672887e+02  3.65826556e+05  2.01906985e+06 -9.52673948e+05]\n"
          ]
        }
      ],
      "source": [
        "\n",
        "\n",
        "X4, y4= df5.iloc[:, :3], df5.iloc[:,3]\n",
        "A4 = np.column_stack((X4, np.ones((len(X4), 1), dtype=float)))\n",
        "beta = np.dot(np.linalg.inv(np.dot(A4.T, A4)),np.dot(A4.T, y4.T))\n",
        "\n",
        "print(beta)\n"
      ]
    },
    {
      "cell_type": "code",
      "execution_count": 31,
      "metadata": {
        "colab": {
          "base_uri": "https://localhost:8080/"
        },
        "id": "XBmyo4CqHSSr",
        "outputId": "379caca1-bd45-466d-c40c-71057062bfac"
      },
      "outputs": [
        {
          "name": "stdout",
          "output_type": "stream",
          "text": [
            "Predicted price is : 6638443.754200091\n"
          ]
        }
      ],
      "source": [
        "# Roll No - B20AI023\n",
        "area = 3 * 1000\n",
        "bedrooms = 6\n",
        "bathrooms = 2\n",
        "predicted_price = beta[0]*(area) + beta[1]*(bedrooms) + beta[2]*(bathrooms) + beta[3]\n",
        "\n",
        "print(f\"Predicted price is : {predicted_price}\") "
      ]
    },
    {
      "cell_type": "markdown",
      "metadata": {
        "id": "GzgT71gH-sQ5"
      },
      "source": [
        "#Q6\n",
        "From five and six column data find least square solution with ‘price’ as y."
      ]
    },
    {
      "cell_type": "markdown",
      "metadata": {
        "id": "qun58mEM_Kyb"
      },
      "source": [
        "###column5"
      ]
    },
    {
      "cell_type": "code",
      "execution_count": 32,
      "metadata": {
        "id": "yo5yd_mZ-uPJ"
      },
      "outputs": [],
      "source": [
        "df6 = pd.read_excel('5 columns.xls')"
      ]
    },
    {
      "cell_type": "code",
      "execution_count": 33,
      "metadata": {
        "id": "u_GFlsVj_UEZ"
      },
      "outputs": [],
      "source": [
        "x,y = df6.values[:,:4], df6.values[:,4]"
      ]
    },
    {
      "cell_type": "code",
      "execution_count": 34,
      "metadata": {
        "colab": {
          "base_uri": "https://localhost:8080/"
        },
        "id": "p_dDdjWg_UEZ",
        "outputId": "11eb767a-c9fd-403f-b46d-4a048514a059"
      },
      "outputs": [
        {
          "data": {
            "text/plain": [
              "array([[10500,     4,     2,     2],\n",
              "       [ 7424,     3,     1,     1],\n",
              "       [ 6600,     2,     2,     4],\n",
              "       [ 7686,     3,     1,     1],\n",
              "       [ 6420,     3,     2,     3],\n",
              "       [ 3180,     4,     1,     2],\n",
              "       [ 3570,     3,     1,     2],\n",
              "       [ 3000,     3,     1,     2],\n",
              "       [ 8100,     2,     1,     1],\n",
              "       [ 3630,     3,     1,     2],\n",
              "       [ 5885,     2,     1,     1],\n",
              "       [ 7260,     3,     2,     1],\n",
              "       [ 8400,     3,     1,     2],\n",
              "       [ 5170,     3,     1,     4],\n",
              "       [ 5000,     3,     1,     4],\n",
              "       [ 4880,     3,     1,     1],\n",
              "       [ 3000,     3,     1,     2],\n",
              "       [ 6000,     3,     2,     3],\n",
              "       [ 6000,     3,     1,     1],\n",
              "       [ 6000,     3,     2,     4],\n",
              "       [ 2880,     3,     1,     2],\n",
              "       [ 3500,     4,     2,     2],\n",
              "       [ 4992,     3,     2,     2],\n",
              "       [ 3350,     3,     1,     2],\n",
              "       [ 3649,     2,     1,     1],\n",
              "       [ 4500,     3,     2,     2],\n",
              "       [ 4000,     3,     1,     1],\n",
              "       [ 3400,     3,     1,     2],\n",
              "       [ 6660,     4,     2,     2],\n",
              "       [ 3600,     3,     1,     1],\n",
              "       [ 3180,     3,     2,     2],\n",
              "       [ 2610,     4,     3,     2],\n",
              "       [ 6480,     3,     1,     2],\n",
              "       [ 3600,     2,     1,     1],\n",
              "       [ 9860,     3,     1,     1],\n",
              "       [ 3640,     4,     1,     2],\n",
              "       [ 6000,     3,     2,     2],\n",
              "       [ 3420,     5,     1,     2],\n",
              "       [ 3500,     2,     1,     1],\n",
              "       [ 4520,     3,     1,     2],\n",
              "       [ 4352,     4,     1,     2],\n",
              "       [ 8250,     3,     2,     3],\n",
              "       [ 4500,     3,     1,     2],\n",
              "       [ 6400,     3,     1,     1],\n",
              "       [ 4750,     2,     1,     1],\n",
              "       [ 8580,     5,     3,     2],\n",
              "       [ 6040,     3,     1,     1],\n",
              "       [ 4990,     4,     2,     2],\n",
              "       [ 3185,     2,     1,     1],\n",
              "       [ 7000,     3,     1,     1],\n",
              "       [ 5880,     2,     1,     1],\n",
              "       [ 6350,     3,     2,     3],\n",
              "       [ 4400,     2,     1,     1],\n",
              "       [ 9000,     3,     1,     1],\n",
              "       [ 6480,     3,     2,     4],\n",
              "       [ 6550,     4,     2,     2],\n",
              "       [ 3480,     4,     1,     2],\n",
              "       [ 6325,     3,     1,     4],\n",
              "       [ 6900,     3,     1,     1],\n",
              "       [ 6060,     2,     1,     1],\n",
              "       [ 3500,     4,     1,     2],\n",
              "       [ 6100,     3,     1,     3],\n",
              "       [ 4050,     2,     1,     2],\n",
              "       [ 4500,     3,     1,     4],\n",
              "       [ 3210,     3,     1,     2],\n",
              "       [ 5880,     3,     1,     1],\n",
              "       [ 3640,     3,     2,     2],\n",
              "       [ 7600,     4,     1,     2],\n",
              "       [ 9960,     3,     2,     2],\n",
              "       [ 4095,     3,     1,     2],\n",
              "       [ 4100,     3,     2,     3],\n",
              "       [ 3410,     3,     1,     2],\n",
              "       [ 3090,     2,     1,     1],\n",
              "       [ 1650,     3,     1,     2],\n",
              "       [ 2747,     4,     2,     2],\n",
              "       [ 3510,     3,     1,     2],\n",
              "       [ 2610,     3,     1,     2],\n",
              "       [ 6050,     3,     1,     1],\n",
              "       [ 5800,     3,     1,     1],\n",
              "       [ 7980,     3,     1,     1],\n",
              "       [ 3162,     3,     1,     2],\n",
              "       [ 5320,     3,     1,     2],\n",
              "       [ 4320,     3,     1,     2],\n",
              "       [ 5400,     4,     1,     2],\n",
              "       [ 3600,     3,     1,     2],\n",
              "       [ 6720,     3,     1,     1],\n",
              "       [ 3760,     3,     1,     2],\n",
              "       [ 4600,     2,     2,     1],\n",
              "       [ 3000,     3,     2,     2],\n",
              "       [ 5000,     3,     1,     3],\n",
              "       [ 5960,     3,     1,     2],\n",
              "       [ 6450,     4,     1,     2],\n",
              "       [ 3264,     2,     1,     1],\n",
              "       [ 4646,     3,     1,     2],\n",
              "       [ 5900,     2,     1,     1],\n",
              "       [ 4240,     3,     1,     2],\n",
              "       [ 4130,     3,     2,     2],\n",
              "       [ 5985,     3,     1,     1],\n",
              "       [ 4840,     2,     1,     2],\n",
              "       [ 7700,     3,     2,     1]], dtype=int64)"
            ]
          },
          "execution_count": 34,
          "metadata": {},
          "output_type": "execute_result"
        }
      ],
      "source": [
        "x"
      ]
    },
    {
      "cell_type": "code",
      "execution_count": 35,
      "metadata": {
        "colab": {
          "base_uri": "https://localhost:8080/"
        },
        "id": "1rTHUmBw_UEa",
        "outputId": "616c1704-d1e4-4933-8741-80d5db31ab10"
      },
      "outputs": [
        {
          "data": {
            "text/plain": [
              "array([ 5600000,  3500000,  6685000,  4970000,  6650000,  3290000,\n",
              "        3640000,  2485000,  3087000,  4690000,  4480000,  3920000,\n",
              "        5250000,  4690000,  5600000,  4403000,  4900000,  7560000,\n",
              "        6860000,  5775000,  4403000,  9240000,  4060000,  3836000,\n",
              "        1890000,  3990000,  2660000,  4277000,  5652500,  3710000,\n",
              "        5215000,  4200000,  3990000,  3675000,  4515000,  3234000,\n",
              "        7140000,  1960000,  3115000,  4900000,  2975000,  6510000,\n",
              "        3143000,  6300000,  3360000,  6440000,  4830000,  4543000,\n",
              "        2653000,  5803000,  3500000,  6195000,  2590000,  6300000,\n",
              "        7700000,  9310000,  3290000,  7420000,  5523000,  4123000,\n",
              "        4340000,  5460000,  3990000,  6160000,  2450000,  3290000,\n",
              "        4200000,  5040000, 12250000,  4900000,  6300000,  5145000,\n",
              "        3080000,  3150000,  4200000,  4473000,  3430000,  5243000,\n",
              "        4200000,  5495000,  4473000,  4550000,  8750000,  4900000,\n",
              "        2940000,  4900000,  6510000,  5285000,  5110000,  5740000,\n",
              "        3640000,  4340000,  2380000,  4900000,  3500000,  3500000,\n",
              "        3640000,  4130000,  2450000,  6895000], dtype=int64)"
            ]
          },
          "execution_count": 35,
          "metadata": {},
          "output_type": "execute_result"
        }
      ],
      "source": [
        "y"
      ]
    },
    {
      "cell_type": "code",
      "execution_count": 36,
      "metadata": {
        "colab": {
          "base_uri": "https://localhost:8080/"
        },
        "id": "ksN22c0g_UEb",
        "outputId": "586444c2-021e-45e9-81b8-54829bae4fc8"
      },
      "outputs": [
        {
          "data": {
            "text/plain": [
              "array([[1.050e+04, 4.000e+00, 2.000e+00, 2.000e+00, 1.000e+00],\n",
              "       [7.424e+03, 3.000e+00, 1.000e+00, 1.000e+00, 1.000e+00],\n",
              "       [6.600e+03, 2.000e+00, 2.000e+00, 4.000e+00, 1.000e+00],\n",
              "       [7.686e+03, 3.000e+00, 1.000e+00, 1.000e+00, 1.000e+00],\n",
              "       [6.420e+03, 3.000e+00, 2.000e+00, 3.000e+00, 1.000e+00],\n",
              "       [3.180e+03, 4.000e+00, 1.000e+00, 2.000e+00, 1.000e+00],\n",
              "       [3.570e+03, 3.000e+00, 1.000e+00, 2.000e+00, 1.000e+00],\n",
              "       [3.000e+03, 3.000e+00, 1.000e+00, 2.000e+00, 1.000e+00],\n",
              "       [8.100e+03, 2.000e+00, 1.000e+00, 1.000e+00, 1.000e+00],\n",
              "       [3.630e+03, 3.000e+00, 1.000e+00, 2.000e+00, 1.000e+00],\n",
              "       [5.885e+03, 2.000e+00, 1.000e+00, 1.000e+00, 1.000e+00],\n",
              "       [7.260e+03, 3.000e+00, 2.000e+00, 1.000e+00, 1.000e+00],\n",
              "       [8.400e+03, 3.000e+00, 1.000e+00, 2.000e+00, 1.000e+00],\n",
              "       [5.170e+03, 3.000e+00, 1.000e+00, 4.000e+00, 1.000e+00],\n",
              "       [5.000e+03, 3.000e+00, 1.000e+00, 4.000e+00, 1.000e+00],\n",
              "       [4.880e+03, 3.000e+00, 1.000e+00, 1.000e+00, 1.000e+00],\n",
              "       [3.000e+03, 3.000e+00, 1.000e+00, 2.000e+00, 1.000e+00],\n",
              "       [6.000e+03, 3.000e+00, 2.000e+00, 3.000e+00, 1.000e+00],\n",
              "       [6.000e+03, 3.000e+00, 1.000e+00, 1.000e+00, 1.000e+00],\n",
              "       [6.000e+03, 3.000e+00, 2.000e+00, 4.000e+00, 1.000e+00],\n",
              "       [2.880e+03, 3.000e+00, 1.000e+00, 2.000e+00, 1.000e+00],\n",
              "       [3.500e+03, 4.000e+00, 2.000e+00, 2.000e+00, 1.000e+00],\n",
              "       [4.992e+03, 3.000e+00, 2.000e+00, 2.000e+00, 1.000e+00],\n",
              "       [3.350e+03, 3.000e+00, 1.000e+00, 2.000e+00, 1.000e+00],\n",
              "       [3.649e+03, 2.000e+00, 1.000e+00, 1.000e+00, 1.000e+00],\n",
              "       [4.500e+03, 3.000e+00, 2.000e+00, 2.000e+00, 1.000e+00],\n",
              "       [4.000e+03, 3.000e+00, 1.000e+00, 1.000e+00, 1.000e+00],\n",
              "       [3.400e+03, 3.000e+00, 1.000e+00, 2.000e+00, 1.000e+00],\n",
              "       [6.660e+03, 4.000e+00, 2.000e+00, 2.000e+00, 1.000e+00],\n",
              "       [3.600e+03, 3.000e+00, 1.000e+00, 1.000e+00, 1.000e+00],\n",
              "       [3.180e+03, 3.000e+00, 2.000e+00, 2.000e+00, 1.000e+00],\n",
              "       [2.610e+03, 4.000e+00, 3.000e+00, 2.000e+00, 1.000e+00],\n",
              "       [6.480e+03, 3.000e+00, 1.000e+00, 2.000e+00, 1.000e+00],\n",
              "       [3.600e+03, 2.000e+00, 1.000e+00, 1.000e+00, 1.000e+00],\n",
              "       [9.860e+03, 3.000e+00, 1.000e+00, 1.000e+00, 1.000e+00],\n",
              "       [3.640e+03, 4.000e+00, 1.000e+00, 2.000e+00, 1.000e+00],\n",
              "       [6.000e+03, 3.000e+00, 2.000e+00, 2.000e+00, 1.000e+00],\n",
              "       [3.420e+03, 5.000e+00, 1.000e+00, 2.000e+00, 1.000e+00],\n",
              "       [3.500e+03, 2.000e+00, 1.000e+00, 1.000e+00, 1.000e+00],\n",
              "       [4.520e+03, 3.000e+00, 1.000e+00, 2.000e+00, 1.000e+00],\n",
              "       [4.352e+03, 4.000e+00, 1.000e+00, 2.000e+00, 1.000e+00],\n",
              "       [8.250e+03, 3.000e+00, 2.000e+00, 3.000e+00, 1.000e+00],\n",
              "       [4.500e+03, 3.000e+00, 1.000e+00, 2.000e+00, 1.000e+00],\n",
              "       [6.400e+03, 3.000e+00, 1.000e+00, 1.000e+00, 1.000e+00],\n",
              "       [4.750e+03, 2.000e+00, 1.000e+00, 1.000e+00, 1.000e+00],\n",
              "       [8.580e+03, 5.000e+00, 3.000e+00, 2.000e+00, 1.000e+00],\n",
              "       [6.040e+03, 3.000e+00, 1.000e+00, 1.000e+00, 1.000e+00],\n",
              "       [4.990e+03, 4.000e+00, 2.000e+00, 2.000e+00, 1.000e+00],\n",
              "       [3.185e+03, 2.000e+00, 1.000e+00, 1.000e+00, 1.000e+00],\n",
              "       [7.000e+03, 3.000e+00, 1.000e+00, 1.000e+00, 1.000e+00],\n",
              "       [5.880e+03, 2.000e+00, 1.000e+00, 1.000e+00, 1.000e+00],\n",
              "       [6.350e+03, 3.000e+00, 2.000e+00, 3.000e+00, 1.000e+00],\n",
              "       [4.400e+03, 2.000e+00, 1.000e+00, 1.000e+00, 1.000e+00],\n",
              "       [9.000e+03, 3.000e+00, 1.000e+00, 1.000e+00, 1.000e+00],\n",
              "       [6.480e+03, 3.000e+00, 2.000e+00, 4.000e+00, 1.000e+00],\n",
              "       [6.550e+03, 4.000e+00, 2.000e+00, 2.000e+00, 1.000e+00],\n",
              "       [3.480e+03, 4.000e+00, 1.000e+00, 2.000e+00, 1.000e+00],\n",
              "       [6.325e+03, 3.000e+00, 1.000e+00, 4.000e+00, 1.000e+00],\n",
              "       [6.900e+03, 3.000e+00, 1.000e+00, 1.000e+00, 1.000e+00],\n",
              "       [6.060e+03, 2.000e+00, 1.000e+00, 1.000e+00, 1.000e+00],\n",
              "       [3.500e+03, 4.000e+00, 1.000e+00, 2.000e+00, 1.000e+00],\n",
              "       [6.100e+03, 3.000e+00, 1.000e+00, 3.000e+00, 1.000e+00],\n",
              "       [4.050e+03, 2.000e+00, 1.000e+00, 2.000e+00, 1.000e+00],\n",
              "       [4.500e+03, 3.000e+00, 1.000e+00, 4.000e+00, 1.000e+00],\n",
              "       [3.210e+03, 3.000e+00, 1.000e+00, 2.000e+00, 1.000e+00],\n",
              "       [5.880e+03, 3.000e+00, 1.000e+00, 1.000e+00, 1.000e+00],\n",
              "       [3.640e+03, 3.000e+00, 2.000e+00, 2.000e+00, 1.000e+00],\n",
              "       [7.600e+03, 4.000e+00, 1.000e+00, 2.000e+00, 1.000e+00],\n",
              "       [9.960e+03, 3.000e+00, 2.000e+00, 2.000e+00, 1.000e+00],\n",
              "       [4.095e+03, 3.000e+00, 1.000e+00, 2.000e+00, 1.000e+00],\n",
              "       [4.100e+03, 3.000e+00, 2.000e+00, 3.000e+00, 1.000e+00],\n",
              "       [3.410e+03, 3.000e+00, 1.000e+00, 2.000e+00, 1.000e+00],\n",
              "       [3.090e+03, 2.000e+00, 1.000e+00, 1.000e+00, 1.000e+00],\n",
              "       [1.650e+03, 3.000e+00, 1.000e+00, 2.000e+00, 1.000e+00],\n",
              "       [2.747e+03, 4.000e+00, 2.000e+00, 2.000e+00, 1.000e+00],\n",
              "       [3.510e+03, 3.000e+00, 1.000e+00, 2.000e+00, 1.000e+00],\n",
              "       [2.610e+03, 3.000e+00, 1.000e+00, 2.000e+00, 1.000e+00],\n",
              "       [6.050e+03, 3.000e+00, 1.000e+00, 1.000e+00, 1.000e+00],\n",
              "       [5.800e+03, 3.000e+00, 1.000e+00, 1.000e+00, 1.000e+00],\n",
              "       [7.980e+03, 3.000e+00, 1.000e+00, 1.000e+00, 1.000e+00],\n",
              "       [3.162e+03, 3.000e+00, 1.000e+00, 2.000e+00, 1.000e+00],\n",
              "       [5.320e+03, 3.000e+00, 1.000e+00, 2.000e+00, 1.000e+00],\n",
              "       [4.320e+03, 3.000e+00, 1.000e+00, 2.000e+00, 1.000e+00],\n",
              "       [5.400e+03, 4.000e+00, 1.000e+00, 2.000e+00, 1.000e+00],\n",
              "       [3.600e+03, 3.000e+00, 1.000e+00, 2.000e+00, 1.000e+00],\n",
              "       [6.720e+03, 3.000e+00, 1.000e+00, 1.000e+00, 1.000e+00],\n",
              "       [3.760e+03, 3.000e+00, 1.000e+00, 2.000e+00, 1.000e+00],\n",
              "       [4.600e+03, 2.000e+00, 2.000e+00, 1.000e+00, 1.000e+00],\n",
              "       [3.000e+03, 3.000e+00, 2.000e+00, 2.000e+00, 1.000e+00],\n",
              "       [5.000e+03, 3.000e+00, 1.000e+00, 3.000e+00, 1.000e+00],\n",
              "       [5.960e+03, 3.000e+00, 1.000e+00, 2.000e+00, 1.000e+00],\n",
              "       [6.450e+03, 4.000e+00, 1.000e+00, 2.000e+00, 1.000e+00],\n",
              "       [3.264e+03, 2.000e+00, 1.000e+00, 1.000e+00, 1.000e+00],\n",
              "       [4.646e+03, 3.000e+00, 1.000e+00, 2.000e+00, 1.000e+00],\n",
              "       [5.900e+03, 2.000e+00, 1.000e+00, 1.000e+00, 1.000e+00],\n",
              "       [4.240e+03, 3.000e+00, 1.000e+00, 2.000e+00, 1.000e+00],\n",
              "       [4.130e+03, 3.000e+00, 2.000e+00, 2.000e+00, 1.000e+00],\n",
              "       [5.985e+03, 3.000e+00, 1.000e+00, 1.000e+00, 1.000e+00],\n",
              "       [4.840e+03, 2.000e+00, 1.000e+00, 2.000e+00, 1.000e+00],\n",
              "       [7.700e+03, 3.000e+00, 2.000e+00, 1.000e+00, 1.000e+00]])"
            ]
          },
          "execution_count": 36,
          "metadata": {},
          "output_type": "execute_result"
        }
      ],
      "source": [
        "A=np.column_stack((x,np.ones((len(x),1),dtype=float)))\n",
        "A"
      ]
    },
    {
      "cell_type": "code",
      "execution_count": 37,
      "metadata": {
        "colab": {
          "base_uri": "https://localhost:8080/"
        },
        "id": "uNGR_gW__UEb",
        "outputId": "40e67266-e3d9-497b-fef2-1d8ac15cfc75"
      },
      "outputs": [
        {
          "name": "stdout",
          "output_type": "stream",
          "text": [
            "[3.97447261e+02 5.96752351e+04 9.10150695e+05 6.25387766e+05\n",
            " 1.80740327e+05]\n"
          ]
        }
      ],
      "source": [
        "beta=np.dot(np.linalg.inv(np.dot(A.T,A)),np.dot(A.T,y.T))\n",
        "print(beta)"
      ]
    },
    {
      "cell_type": "markdown",
      "metadata": {
        "id": "njg4ubC3_5JL"
      },
      "source": [
        "###column6"
      ]
    },
    {
      "cell_type": "code",
      "execution_count": 38,
      "metadata": {
        "id": "VgLQ5kUf__pp"
      },
      "outputs": [],
      "source": [
        "df7 = pd.read_excel('6 columns.xls')"
      ]
    },
    {
      "cell_type": "code",
      "execution_count": 39,
      "metadata": {
        "id": "LGS0tI3D__pp"
      },
      "outputs": [],
      "source": [
        "x,y = df7.values[:,:5], df7.values[:,5]"
      ]
    },
    {
      "cell_type": "code",
      "execution_count": 40,
      "metadata": {
        "colab": {
          "base_uri": "https://localhost:8080/"
        },
        "id": "TVsA9kSH__pp",
        "outputId": "772d2d56-532e-4e94-ba0b-df5a754c9766"
      },
      "outputs": [
        {
          "data": {
            "text/plain": [
              "array([[ 3180,     2,     1,     1,     0],\n",
              "       [ 3968,     3,     1,     2,     0],\n",
              "       [ 7000,     3,     2,     4,     1],\n",
              "       [ 4300,     3,     2,     2,     0],\n",
              "       [ 4400,     4,     1,     2,     1],\n",
              "       [ 4046,     3,     1,     2,     0],\n",
              "       [ 7200,     3,     2,     1,     1],\n",
              "       [ 4646,     3,     1,     2,     0],\n",
              "       [ 3000,     3,     2,     2,     0],\n",
              "       [ 3850,     2,     1,     1,     0],\n",
              "       [ 5400,     4,     1,     2,     0],\n",
              "       [ 2400,     3,     1,     2,     0],\n",
              "       [ 2175,     3,     1,     2,     1],\n",
              "       [ 3970,     1,     1,     1,     0],\n",
              "       [ 3680,     3,     2,     2,     0],\n",
              "       [ 5500,     3,     2,     4,     1],\n",
              "       [ 6000,     4,     3,     2,     0],\n",
              "       [ 4260,     4,     2,     2,     0],\n",
              "       [ 5500,     3,     1,     2,     1],\n",
              "       [10500,     3,     2,     1,     1],\n",
              "       [ 3500,     4,     2,     2,     0],\n",
              "       [ 2500,     2,     1,     1,     1],\n",
              "       [ 7500,     3,     3,     1,     1],\n",
              "       [ 3162,     3,     1,     2,     1],\n",
              "       [ 6600,     4,     2,     2,     0],\n",
              "       [ 5200,     3,     1,     3,     1],\n",
              "       [ 3264,     2,     1,     1,     0],\n",
              "       [ 9000,     4,     2,     4,     1],\n",
              "       [ 7000,     3,     1,     1,     0],\n",
              "       [ 3180,     3,     2,     2,     0],\n",
              "       [ 5000,     3,     1,     3,     1],\n",
              "       [ 8250,     3,     2,     3,     1],\n",
              "       [ 4280,     2,     1,     1,     1],\n",
              "       [ 8050,     2,     1,     1,     0],\n",
              "       [ 3000,     3,     1,     2,     0],\n",
              "       [ 5880,     2,     1,     1,     0],\n",
              "       [ 5500,     3,     2,     1,     0],\n",
              "       [ 6900,     3,     1,     1,     0],\n",
              "       [ 2787,     3,     1,     1,     0],\n",
              "       [ 2398,     3,     1,     1,     0],\n",
              "       [ 3180,     4,     1,     2,     1],\n",
              "       [ 5750,     3,     2,     4,     1],\n",
              "       [ 3150,     3,     2,     1,     1],\n",
              "       [ 3640,     3,     2,     2,     0],\n",
              "       [ 4075,     3,     1,     1,     0],\n",
              "       [ 7482,     3,     2,     3,     0],\n",
              "       [10360,     2,     1,     1,     0],\n",
              "       [ 3600,     2,     1,     1,     0],\n",
              "       [ 3600,     2,     1,     1,     0],\n",
              "       [ 8400,     3,     1,     2,     1],\n",
              "       [ 6100,     3,     2,     1,     0],\n",
              "       [ 3350,     3,     1,     2,     0],\n",
              "       [ 5900,     4,     2,     2,     0],\n",
              "       [ 5010,     3,     1,     2,     0],\n",
              "       [ 5828,     4,     1,     4,     0],\n",
              "       [ 9860,     3,     1,     1,     0],\n",
              "       [ 3000,     3,     1,     2,     0],\n",
              "       [ 6840,     5,     1,     2,     1],\n",
              "       [ 2325,     3,     1,     2,     0],\n",
              "       [ 5960,     3,     3,     2,     0],\n",
              "       [10269,     3,     1,     1,     0],\n",
              "       [ 4200,     3,     1,     2,     0],\n",
              "       [ 6321,     3,     1,     2,     1],\n",
              "       [ 6000,     3,     2,     2,     1],\n",
              "       [ 6000,     4,     1,     2,     0],\n",
              "       [ 7350,     2,     1,     1,     0],\n",
              "       [ 3180,     3,     1,     1,     0],\n",
              "       [ 7424,     3,     1,     1,     0],\n",
              "       [ 3750,     3,     1,     2,     0],\n",
              "       [ 3720,     2,     1,     1,     1],\n",
              "       [ 3660,     4,     1,     2,     0],\n",
              "       [ 2145,     4,     2,     1,     0],\n",
              "       [ 3500,     4,     1,     2,     0],\n",
              "       [ 3930,     2,     1,     1,     0],\n",
              "       [13200,     2,     1,     1,     0],\n",
              "       [ 6862,     3,     1,     2,     1],\n",
              "       [ 7800,     3,     1,     1,     1],\n",
              "       [ 4900,     2,     1,     2,     0],\n",
              "       [ 3760,     3,     1,     1,     0],\n",
              "       [ 6000,     3,     2,     4,     1],\n",
              "       [ 8080,     3,     1,     1,     1],\n",
              "       [ 3000,     2,     1,     2,     0],\n",
              "       [ 5900,     2,     1,     1,     0],\n",
              "       [ 3520,     2,     2,     1,     0],\n",
              "       [ 6710,     3,     2,     2,     0],\n",
              "       [ 2700,     3,     1,     1,     0],\n",
              "       [ 5020,     3,     1,     4,     1],\n",
              "       [ 3000,     3,     1,     2,     0],\n",
              "       [ 2520,     5,     2,     1,     1],\n",
              "       [ 4320,     3,     1,     1,     0],\n",
              "       [ 6420,     3,     1,     3,     0],\n",
              "       [ 6000,     2,     1,     1,     0],\n",
              "       [ 3120,     3,     1,     2,     0],\n",
              "       [ 2275,     3,     1,     3,     1],\n",
              "       [ 6000,     2,     1,     1,     1],\n",
              "       [ 5000,     3,     1,     4,     0],\n",
              "       [ 6040,     3,     1,     1,     0],\n",
              "       [ 4040,     3,     1,     2,     0],\n",
              "       [ 1950,     3,     2,     2,     0],\n",
              "       [ 6480,     3,     1,     2,     1]], dtype=int64)"
            ]
          },
          "execution_count": 40,
          "metadata": {},
          "output_type": "execute_result"
        }
      ],
      "source": [
        "x"
      ]
    },
    {
      "cell_type": "code",
      "execution_count": 41,
      "metadata": {
        "colab": {
          "base_uri": "https://localhost:8080/"
        },
        "id": "9DQJO5rk__pp",
        "outputId": "7bee00c5-d9ed-4601-ee03-cff0694fb36e"
      },
      "outputs": [
        {
          "data": {
            "text/plain": [
              "array([ 2310000,  4410000,  8080940,  7455000,  5565000,  4165000,\n",
              "        6300000,  4900000,  5110000,  3850000,  4900000,  2100000,\n",
              "        4270000,  2275000,  4095000,  6195000,  9681000,  6650000,\n",
              "        4200000,  6615000,  9240000,  3290000, 10850000,  4473000,\n",
              "        5460000,  5810000,  2380000,  7245000,  5803000,  5215000,\n",
              "        5740000,  6510000,  3640000,  3003000,  3920000,  3500000,\n",
              "        5250000,  5523000,  4235000,  3118850,  3290000,  9800000,\n",
              "        5460000,  4200000,  4340000,  8043000,  4305000,  3780000,\n",
              "        3675000,  5250000,  5530000,  3836000,  4060000,  4620000,\n",
              "        5810000,  4515000,  2485000,  8120000,  4200000,  8190000,\n",
              "        5250000,  4907000,  4760000,  7350000,  9100000,  3500000,\n",
              "        2520000,  3500000,  3010000,  3360000,  2940000,  3920000,\n",
              "        4340000,  3255000,  6930000,  4830000,  5320000,  4410000,\n",
              "        4550000,  7210000,  3920000,  2520000,  3500000,  3640000,\n",
              "        5390000,  3353000,  6720000,  5110000,  3773000,  3220000,\n",
              "        6125000,  2870000,  3500000,  3640000,  4690000,  5600000,\n",
              "        4830000,  6650000,  3430000,  3990000], dtype=int64)"
            ]
          },
          "execution_count": 41,
          "metadata": {},
          "output_type": "execute_result"
        }
      ],
      "source": [
        "y"
      ]
    },
    {
      "cell_type": "code",
      "execution_count": 42,
      "metadata": {
        "colab": {
          "base_uri": "https://localhost:8080/"
        },
        "id": "1BmvS2Fz__pp",
        "outputId": "19c9aa51-af23-40cb-bac0-66db9dc940df"
      },
      "outputs": [
        {
          "data": {
            "text/plain": [
              "array([[3.1800e+03, 2.0000e+00, 1.0000e+00, 1.0000e+00, 0.0000e+00,\n",
              "        1.0000e+00],\n",
              "       [3.9680e+03, 3.0000e+00, 1.0000e+00, 2.0000e+00, 0.0000e+00,\n",
              "        1.0000e+00],\n",
              "       [7.0000e+03, 3.0000e+00, 2.0000e+00, 4.0000e+00, 1.0000e+00,\n",
              "        1.0000e+00],\n",
              "       [4.3000e+03, 3.0000e+00, 2.0000e+00, 2.0000e+00, 0.0000e+00,\n",
              "        1.0000e+00],\n",
              "       [4.4000e+03, 4.0000e+00, 1.0000e+00, 2.0000e+00, 1.0000e+00,\n",
              "        1.0000e+00],\n",
              "       [4.0460e+03, 3.0000e+00, 1.0000e+00, 2.0000e+00, 0.0000e+00,\n",
              "        1.0000e+00],\n",
              "       [7.2000e+03, 3.0000e+00, 2.0000e+00, 1.0000e+00, 1.0000e+00,\n",
              "        1.0000e+00],\n",
              "       [4.6460e+03, 3.0000e+00, 1.0000e+00, 2.0000e+00, 0.0000e+00,\n",
              "        1.0000e+00],\n",
              "       [3.0000e+03, 3.0000e+00, 2.0000e+00, 2.0000e+00, 0.0000e+00,\n",
              "        1.0000e+00],\n",
              "       [3.8500e+03, 2.0000e+00, 1.0000e+00, 1.0000e+00, 0.0000e+00,\n",
              "        1.0000e+00],\n",
              "       [5.4000e+03, 4.0000e+00, 1.0000e+00, 2.0000e+00, 0.0000e+00,\n",
              "        1.0000e+00],\n",
              "       [2.4000e+03, 3.0000e+00, 1.0000e+00, 2.0000e+00, 0.0000e+00,\n",
              "        1.0000e+00],\n",
              "       [2.1750e+03, 3.0000e+00, 1.0000e+00, 2.0000e+00, 1.0000e+00,\n",
              "        1.0000e+00],\n",
              "       [3.9700e+03, 1.0000e+00, 1.0000e+00, 1.0000e+00, 0.0000e+00,\n",
              "        1.0000e+00],\n",
              "       [3.6800e+03, 3.0000e+00, 2.0000e+00, 2.0000e+00, 0.0000e+00,\n",
              "        1.0000e+00],\n",
              "       [5.5000e+03, 3.0000e+00, 2.0000e+00, 4.0000e+00, 1.0000e+00,\n",
              "        1.0000e+00],\n",
              "       [6.0000e+03, 4.0000e+00, 3.0000e+00, 2.0000e+00, 0.0000e+00,\n",
              "        1.0000e+00],\n",
              "       [4.2600e+03, 4.0000e+00, 2.0000e+00, 2.0000e+00, 0.0000e+00,\n",
              "        1.0000e+00],\n",
              "       [5.5000e+03, 3.0000e+00, 1.0000e+00, 2.0000e+00, 1.0000e+00,\n",
              "        1.0000e+00],\n",
              "       [1.0500e+04, 3.0000e+00, 2.0000e+00, 1.0000e+00, 1.0000e+00,\n",
              "        1.0000e+00],\n",
              "       [3.5000e+03, 4.0000e+00, 2.0000e+00, 2.0000e+00, 0.0000e+00,\n",
              "        1.0000e+00],\n",
              "       [2.5000e+03, 2.0000e+00, 1.0000e+00, 1.0000e+00, 1.0000e+00,\n",
              "        1.0000e+00],\n",
              "       [7.5000e+03, 3.0000e+00, 3.0000e+00, 1.0000e+00, 1.0000e+00,\n",
              "        1.0000e+00],\n",
              "       [3.1620e+03, 3.0000e+00, 1.0000e+00, 2.0000e+00, 1.0000e+00,\n",
              "        1.0000e+00],\n",
              "       [6.6000e+03, 4.0000e+00, 2.0000e+00, 2.0000e+00, 0.0000e+00,\n",
              "        1.0000e+00],\n",
              "       [5.2000e+03, 3.0000e+00, 1.0000e+00, 3.0000e+00, 1.0000e+00,\n",
              "        1.0000e+00],\n",
              "       [3.2640e+03, 2.0000e+00, 1.0000e+00, 1.0000e+00, 0.0000e+00,\n",
              "        1.0000e+00],\n",
              "       [9.0000e+03, 4.0000e+00, 2.0000e+00, 4.0000e+00, 1.0000e+00,\n",
              "        1.0000e+00],\n",
              "       [7.0000e+03, 3.0000e+00, 1.0000e+00, 1.0000e+00, 0.0000e+00,\n",
              "        1.0000e+00],\n",
              "       [3.1800e+03, 3.0000e+00, 2.0000e+00, 2.0000e+00, 0.0000e+00,\n",
              "        1.0000e+00],\n",
              "       [5.0000e+03, 3.0000e+00, 1.0000e+00, 3.0000e+00, 1.0000e+00,\n",
              "        1.0000e+00],\n",
              "       [8.2500e+03, 3.0000e+00, 2.0000e+00, 3.0000e+00, 1.0000e+00,\n",
              "        1.0000e+00],\n",
              "       [4.2800e+03, 2.0000e+00, 1.0000e+00, 1.0000e+00, 1.0000e+00,\n",
              "        1.0000e+00],\n",
              "       [8.0500e+03, 2.0000e+00, 1.0000e+00, 1.0000e+00, 0.0000e+00,\n",
              "        1.0000e+00],\n",
              "       [3.0000e+03, 3.0000e+00, 1.0000e+00, 2.0000e+00, 0.0000e+00,\n",
              "        1.0000e+00],\n",
              "       [5.8800e+03, 2.0000e+00, 1.0000e+00, 1.0000e+00, 0.0000e+00,\n",
              "        1.0000e+00],\n",
              "       [5.5000e+03, 3.0000e+00, 2.0000e+00, 1.0000e+00, 0.0000e+00,\n",
              "        1.0000e+00],\n",
              "       [6.9000e+03, 3.0000e+00, 1.0000e+00, 1.0000e+00, 0.0000e+00,\n",
              "        1.0000e+00],\n",
              "       [2.7870e+03, 3.0000e+00, 1.0000e+00, 1.0000e+00, 0.0000e+00,\n",
              "        1.0000e+00],\n",
              "       [2.3980e+03, 3.0000e+00, 1.0000e+00, 1.0000e+00, 0.0000e+00,\n",
              "        1.0000e+00],\n",
              "       [3.1800e+03, 4.0000e+00, 1.0000e+00, 2.0000e+00, 1.0000e+00,\n",
              "        1.0000e+00],\n",
              "       [5.7500e+03, 3.0000e+00, 2.0000e+00, 4.0000e+00, 1.0000e+00,\n",
              "        1.0000e+00],\n",
              "       [3.1500e+03, 3.0000e+00, 2.0000e+00, 1.0000e+00, 1.0000e+00,\n",
              "        1.0000e+00],\n",
              "       [3.6400e+03, 3.0000e+00, 2.0000e+00, 2.0000e+00, 0.0000e+00,\n",
              "        1.0000e+00],\n",
              "       [4.0750e+03, 3.0000e+00, 1.0000e+00, 1.0000e+00, 0.0000e+00,\n",
              "        1.0000e+00],\n",
              "       [7.4820e+03, 3.0000e+00, 2.0000e+00, 3.0000e+00, 0.0000e+00,\n",
              "        1.0000e+00],\n",
              "       [1.0360e+04, 2.0000e+00, 1.0000e+00, 1.0000e+00, 0.0000e+00,\n",
              "        1.0000e+00],\n",
              "       [3.6000e+03, 2.0000e+00, 1.0000e+00, 1.0000e+00, 0.0000e+00,\n",
              "        1.0000e+00],\n",
              "       [3.6000e+03, 2.0000e+00, 1.0000e+00, 1.0000e+00, 0.0000e+00,\n",
              "        1.0000e+00],\n",
              "       [8.4000e+03, 3.0000e+00, 1.0000e+00, 2.0000e+00, 1.0000e+00,\n",
              "        1.0000e+00],\n",
              "       [6.1000e+03, 3.0000e+00, 2.0000e+00, 1.0000e+00, 0.0000e+00,\n",
              "        1.0000e+00],\n",
              "       [3.3500e+03, 3.0000e+00, 1.0000e+00, 2.0000e+00, 0.0000e+00,\n",
              "        1.0000e+00],\n",
              "       [5.9000e+03, 4.0000e+00, 2.0000e+00, 2.0000e+00, 0.0000e+00,\n",
              "        1.0000e+00],\n",
              "       [5.0100e+03, 3.0000e+00, 1.0000e+00, 2.0000e+00, 0.0000e+00,\n",
              "        1.0000e+00],\n",
              "       [5.8280e+03, 4.0000e+00, 1.0000e+00, 4.0000e+00, 0.0000e+00,\n",
              "        1.0000e+00],\n",
              "       [9.8600e+03, 3.0000e+00, 1.0000e+00, 1.0000e+00, 0.0000e+00,\n",
              "        1.0000e+00],\n",
              "       [3.0000e+03, 3.0000e+00, 1.0000e+00, 2.0000e+00, 0.0000e+00,\n",
              "        1.0000e+00],\n",
              "       [6.8400e+03, 5.0000e+00, 1.0000e+00, 2.0000e+00, 1.0000e+00,\n",
              "        1.0000e+00],\n",
              "       [2.3250e+03, 3.0000e+00, 1.0000e+00, 2.0000e+00, 0.0000e+00,\n",
              "        1.0000e+00],\n",
              "       [5.9600e+03, 3.0000e+00, 3.0000e+00, 2.0000e+00, 0.0000e+00,\n",
              "        1.0000e+00],\n",
              "       [1.0269e+04, 3.0000e+00, 1.0000e+00, 1.0000e+00, 0.0000e+00,\n",
              "        1.0000e+00],\n",
              "       [4.2000e+03, 3.0000e+00, 1.0000e+00, 2.0000e+00, 0.0000e+00,\n",
              "        1.0000e+00],\n",
              "       [6.3210e+03, 3.0000e+00, 1.0000e+00, 2.0000e+00, 1.0000e+00,\n",
              "        1.0000e+00],\n",
              "       [6.0000e+03, 3.0000e+00, 2.0000e+00, 2.0000e+00, 1.0000e+00,\n",
              "        1.0000e+00],\n",
              "       [6.0000e+03, 4.0000e+00, 1.0000e+00, 2.0000e+00, 0.0000e+00,\n",
              "        1.0000e+00],\n",
              "       [7.3500e+03, 2.0000e+00, 1.0000e+00, 1.0000e+00, 0.0000e+00,\n",
              "        1.0000e+00],\n",
              "       [3.1800e+03, 3.0000e+00, 1.0000e+00, 1.0000e+00, 0.0000e+00,\n",
              "        1.0000e+00],\n",
              "       [7.4240e+03, 3.0000e+00, 1.0000e+00, 1.0000e+00, 0.0000e+00,\n",
              "        1.0000e+00],\n",
              "       [3.7500e+03, 3.0000e+00, 1.0000e+00, 2.0000e+00, 0.0000e+00,\n",
              "        1.0000e+00],\n",
              "       [3.7200e+03, 2.0000e+00, 1.0000e+00, 1.0000e+00, 1.0000e+00,\n",
              "        1.0000e+00],\n",
              "       [3.6600e+03, 4.0000e+00, 1.0000e+00, 2.0000e+00, 0.0000e+00,\n",
              "        1.0000e+00],\n",
              "       [2.1450e+03, 4.0000e+00, 2.0000e+00, 1.0000e+00, 0.0000e+00,\n",
              "        1.0000e+00],\n",
              "       [3.5000e+03, 4.0000e+00, 1.0000e+00, 2.0000e+00, 0.0000e+00,\n",
              "        1.0000e+00],\n",
              "       [3.9300e+03, 2.0000e+00, 1.0000e+00, 1.0000e+00, 0.0000e+00,\n",
              "        1.0000e+00],\n",
              "       [1.3200e+04, 2.0000e+00, 1.0000e+00, 1.0000e+00, 0.0000e+00,\n",
              "        1.0000e+00],\n",
              "       [6.8620e+03, 3.0000e+00, 1.0000e+00, 2.0000e+00, 1.0000e+00,\n",
              "        1.0000e+00],\n",
              "       [7.8000e+03, 3.0000e+00, 1.0000e+00, 1.0000e+00, 1.0000e+00,\n",
              "        1.0000e+00],\n",
              "       [4.9000e+03, 2.0000e+00, 1.0000e+00, 2.0000e+00, 0.0000e+00,\n",
              "        1.0000e+00],\n",
              "       [3.7600e+03, 3.0000e+00, 1.0000e+00, 1.0000e+00, 0.0000e+00,\n",
              "        1.0000e+00],\n",
              "       [6.0000e+03, 3.0000e+00, 2.0000e+00, 4.0000e+00, 1.0000e+00,\n",
              "        1.0000e+00],\n",
              "       [8.0800e+03, 3.0000e+00, 1.0000e+00, 1.0000e+00, 1.0000e+00,\n",
              "        1.0000e+00],\n",
              "       [3.0000e+03, 2.0000e+00, 1.0000e+00, 2.0000e+00, 0.0000e+00,\n",
              "        1.0000e+00],\n",
              "       [5.9000e+03, 2.0000e+00, 1.0000e+00, 1.0000e+00, 0.0000e+00,\n",
              "        1.0000e+00],\n",
              "       [3.5200e+03, 2.0000e+00, 2.0000e+00, 1.0000e+00, 0.0000e+00,\n",
              "        1.0000e+00],\n",
              "       [6.7100e+03, 3.0000e+00, 2.0000e+00, 2.0000e+00, 0.0000e+00,\n",
              "        1.0000e+00],\n",
              "       [2.7000e+03, 3.0000e+00, 1.0000e+00, 1.0000e+00, 0.0000e+00,\n",
              "        1.0000e+00],\n",
              "       [5.0200e+03, 3.0000e+00, 1.0000e+00, 4.0000e+00, 1.0000e+00,\n",
              "        1.0000e+00],\n",
              "       [3.0000e+03, 3.0000e+00, 1.0000e+00, 2.0000e+00, 0.0000e+00,\n",
              "        1.0000e+00],\n",
              "       [2.5200e+03, 5.0000e+00, 2.0000e+00, 1.0000e+00, 1.0000e+00,\n",
              "        1.0000e+00],\n",
              "       [4.3200e+03, 3.0000e+00, 1.0000e+00, 1.0000e+00, 0.0000e+00,\n",
              "        1.0000e+00],\n",
              "       [6.4200e+03, 3.0000e+00, 1.0000e+00, 3.0000e+00, 0.0000e+00,\n",
              "        1.0000e+00],\n",
              "       [6.0000e+03, 2.0000e+00, 1.0000e+00, 1.0000e+00, 0.0000e+00,\n",
              "        1.0000e+00],\n",
              "       [3.1200e+03, 3.0000e+00, 1.0000e+00, 2.0000e+00, 0.0000e+00,\n",
              "        1.0000e+00],\n",
              "       [2.2750e+03, 3.0000e+00, 1.0000e+00, 3.0000e+00, 1.0000e+00,\n",
              "        1.0000e+00],\n",
              "       [6.0000e+03, 2.0000e+00, 1.0000e+00, 1.0000e+00, 1.0000e+00,\n",
              "        1.0000e+00],\n",
              "       [5.0000e+03, 3.0000e+00, 1.0000e+00, 4.0000e+00, 0.0000e+00,\n",
              "        1.0000e+00],\n",
              "       [6.0400e+03, 3.0000e+00, 1.0000e+00, 1.0000e+00, 0.0000e+00,\n",
              "        1.0000e+00],\n",
              "       [4.0400e+03, 3.0000e+00, 1.0000e+00, 2.0000e+00, 0.0000e+00,\n",
              "        1.0000e+00],\n",
              "       [1.9500e+03, 3.0000e+00, 2.0000e+00, 2.0000e+00, 0.0000e+00,\n",
              "        1.0000e+00],\n",
              "       [6.4800e+03, 3.0000e+00, 1.0000e+00, 2.0000e+00, 1.0000e+00,\n",
              "        1.0000e+00]])"
            ]
          },
          "execution_count": 42,
          "metadata": {},
          "output_type": "execute_result"
        }
      ],
      "source": [
        "A=np.column_stack((x,np.ones((len(x),1),dtype=float)))\n",
        "A"
      ]
    },
    {
      "cell_type": "code",
      "execution_count": 43,
      "metadata": {
        "colab": {
          "base_uri": "https://localhost:8080/"
        },
        "id": "9pwm9P5o__pp",
        "outputId": "19e84285-de1d-4053-e8e6-ec58cc826be6"
      },
      "outputs": [
        {
          "name": "stdout",
          "output_type": "stream",
          "text": [
            "[ 3.08435027e+02  4.98121462e+05  1.49004957e+06  5.53871024e+05\n",
            "  2.35807157e+05 -1.18322658e+06]\n"
          ]
        }
      ],
      "source": [
        "beta=np.dot(np.linalg.inv(np.dot(A.T,A)),np.dot(A.T,y.T))\n",
        "print(beta)"
      ]
    },
    {
      "cell_type": "markdown",
      "metadata": {
        "id": "l5vjjIo2A1W6"
      },
      "source": [
        "#Q7\n",
        "Using the census data of Chandigarh predict the population of chandigarh in 2021. (Use exponential fitting)."
      ]
    },
    {
      "cell_type": "code",
      "execution_count": 44,
      "metadata": {
        "id": "Cv2vE_wvBA0g"
      },
      "outputs": [],
      "source": [
        "df7 = pd.read_excel('Census data (Chandigarh).xls')"
      ]
    },
    {
      "cell_type": "code",
      "execution_count": 45,
      "metadata": {
        "id": "eGRDkGuFBA0g"
      },
      "outputs": [],
      "source": [
        "x,y = df7.values[:,0], df7.values[:,1]"
      ]
    },
    {
      "cell_type": "code",
      "execution_count": 46,
      "metadata": {
        "colab": {
          "base_uri": "https://localhost:8080/"
        },
        "id": "9lat4dW0BA0g",
        "outputId": "71dc4103-f3f2-4518-b79b-41fc92f2083c"
      },
      "outputs": [
        {
          "data": {
            "text/plain": [
              "array([1901, 1911, 1921, 1931, 1941, 1951, 1961, 1971, 1981, 1991, 2001,\n",
              "       2011], dtype=int64)"
            ]
          },
          "execution_count": 46,
          "metadata": {},
          "output_type": "execute_result"
        }
      ],
      "source": [
        "x"
      ]
    },
    {
      "cell_type": "code",
      "execution_count": 47,
      "metadata": {
        "colab": {
          "base_uri": "https://localhost:8080/"
        },
        "id": "QmcIz9n-BA0h",
        "outputId": "6109d6ff-8d6e-4f25-8f53-33c7d3fa120a"
      },
      "outputs": [
        {
          "data": {
            "text/plain": [
              "array([  17902,   18437,   18133,   19783,   22574,   24261,  119881,\n",
              "        257251,  451610,  642015,  900635, 1055450], dtype=int64)"
            ]
          },
          "execution_count": 47,
          "metadata": {},
          "output_type": "execute_result"
        }
      ],
      "source": [
        "y"
      ]
    },
    {
      "cell_type": "code",
      "execution_count": 48,
      "metadata": {
        "colab": {
          "base_uri": "https://localhost:8080/",
          "height": 276
        },
        "id": "aK5HS-4RA2jb",
        "outputId": "d749d796-afe9-4fbf-ccb5-91a34afae9b8"
      },
      "outputs": [
        {
          "data": {
            "image/png": "[encoded data removed]",
            "text/plain": [
              "<Figure size 432x288 with 1 Axes>"
            ]
          },
          "metadata": {
            "needs_background": "light"
          },
          "output_type": "display_data"
        }
      ],
      "source": [
        "plt.scatter(x, y)\n",
        "plt.show()"
      ]
    },
    {
      "cell_type": "code",
      "execution_count": 49,
      "metadata": {
        "colab": {
          "base_uri": "https://localhost:8080/"
        },
        "id": "EPY4DIy9ExQn",
        "outputId": "1ed093d1-cf54-40c6-93ad-44b9bf55ab53"
      },
      "outputs": [
        {
          "data": {
            "text/plain": [
              "array([7.55013534, 7.55538194, 7.56060116, 7.56579328, 7.57095858,\n",
              "       7.57609734, 7.58120983, 7.58629631, 7.59135705, 7.5963923 ,\n",
              "       7.60140233, 7.60638739])"
            ]
          },
          "execution_count": 49,
          "metadata": {},
          "output_type": "execute_result"
        }
      ],
      "source": [
        "x=np.log(x)\n",
        "x"
      ]
    },
    {
      "cell_type": "code",
      "execution_count": 50,
      "metadata": {
        "colab": {
          "base_uri": "https://localhost:8080/"
        },
        "id": "s3ACpYKJE0aK",
        "outputId": "6ae6b832-50b2-4909-814d-b034234b7e53"
      },
      "outputs": [
        {
          "data": {
            "text/plain": [
              "array([ 9.79266772,  9.82211479,  9.80548876,  9.89257826, 10.02455408,\n",
              "       10.0966254 , 11.69425486, 12.45780754, 13.02057425, 13.37236695,\n",
              "       13.71085535, 13.86947777])"
            ]
          },
          "execution_count": 50,
          "metadata": {},
          "output_type": "execute_result"
        }
      ],
      "source": [
        "y=np.log(y)\n",
        "y"
      ]
    },
    {
      "cell_type": "code",
      "execution_count": 51,
      "metadata": {
        "colab": {
          "base_uri": "https://localhost:8080/"
        },
        "id": "NYYtSL8sJCIc",
        "outputId": "c234ec9c-1828-445d-cc69-fec1e65df2ef"
      },
      "outputs": [
        {
          "data": {
            "text/plain": [
              "array([[7.55013534, 1.        ],\n",
              "       [7.55538194, 1.        ],\n",
              "       [7.56060116, 1.        ],\n",
              "       [7.56579328, 1.        ],\n",
              "       [7.57095858, 1.        ],\n",
              "       [7.57609734, 1.        ],\n",
              "       [7.58120983, 1.        ],\n",
              "       [7.58629631, 1.        ],\n",
              "       [7.59135705, 1.        ],\n",
              "       [7.5963923 , 1.        ],\n",
              "       [7.60140233, 1.        ],\n",
              "       [7.60638739, 1.        ]])"
            ]
          },
          "execution_count": 51,
          "metadata": {},
          "output_type": "execute_result"
        }
      ],
      "source": [
        "A=np.column_stack((x,np.ones((len(x),1),dtype=float)))\n",
        "A"
      ]
    },
    {
      "cell_type": "code",
      "execution_count": 52,
      "metadata": {
        "colab": {
          "base_uri": "https://localhost:8080/"
        },
        "id": "31IYjppkJDmz",
        "outputId": "56c82d08-e42a-4f02-d35c-d9aa528fabed"
      },
      "outputs": [
        {
          "name": "stdout",
          "output_type": "stream",
          "text": [
            "[  88.31386897 -657.82347017]\n"
          ]
        }
      ],
      "source": [
        "beta=np.dot(np.linalg.inv(np.dot(A.T,A)),np.dot(A.T,y.T))\n",
        "print(beta)"
      ]
    },
    {
      "cell_type": "code",
      "execution_count": 53,
      "metadata": {
        "colab": {
          "base_uri": "https://localhost:8080/"
        },
        "id": "LK5YfndlJINk",
        "outputId": "4bf236b2-1a0d-474f-f54a-9654d3d83842"
      },
      "outputs": [
        {
          "data": {
            "text/plain": [
              "2.045958581799481e-286"
            ]
          },
          "execution_count": 53,
          "metadata": {},
          "output_type": "execute_result"
        }
      ],
      "source": [
        "beta_0 = np.exp(beta[1])\n",
        "beta_0"
      ]
    },
    {
      "cell_type": "code",
      "execution_count": 54,
      "metadata": {
        "colab": {
          "base_uri": "https://localhost:8080/"
        },
        "id": "IWmgIE2bJgrz",
        "outputId": "8672e991-3008-4dca-fa21-e1ca4dcd616d"
      },
      "outputs": [
        {
          "name": "stdout",
          "output_type": "stream",
          "text": [
            "population is :  1730800.9144490897\n"
          ]
        }
      ],
      "source": [
        "print('population is : ', beta_0*2021**beta[0])"
      ]
    },
    {
      "cell_type": "markdown",
      "metadata": {
        "id": "HULHiO1jJsA8"
      },
      "source": [
        "using library"
      ]
    },
    {
      "cell_type": "code",
      "execution_count": 55,
      "metadata": {
        "colab": {
          "base_uri": "https://localhost:8080/"
        },
        "id": "Oe5GH9LiB94I",
        "outputId": "522fb984-ae48-438f-ecfe-41a095a57d1d"
      },
      "outputs": [
        {
          "name": "stdout",
          "output_type": "stream",
          "text": [
            "[  7.63134419 -55.40521   ]\n"
          ]
        }
      ],
      "source": [
        "#fit the model\n",
        "fit = np.polyfit(x, np.log(y), 1)\n",
        "\n",
        "#view the output of the model\n",
        "print(fit)"
      ]
    },
    {
      "cell_type": "markdown",
      "metadata": {
        "id": "eBAeRIGBCE8i"
      },
      "source": [
        "ln(y) = -77.0006445 + 0.0452269555(x)"
      ]
    },
    {
      "cell_type": "markdown",
      "metadata": {
        "id": "AV4aQBoGC5GF"
      },
      "source": [
        "y = (3.62281e-34)*(1.04626529)^x"
      ]
    },
    {
      "cell_type": "code",
      "execution_count": 56,
      "metadata": {
        "id": "d2GVusXHDsYb"
      },
      "outputs": [],
      "source": [
        "import math"
      ]
    },
    {
      "cell_type": "code",
      "execution_count": 57,
      "metadata": {
        "colab": {
          "base_uri": "https://localhost:8080/"
        },
        "id": "sDaSeF0GDXMj",
        "outputId": "750e44a5-b583-4f80-869f-e49986f4c5bb"
      },
      "outputs": [
        {
          "name": "stdout",
          "output_type": "stream",
          "text": [
            "for x = 2021 as year, population is:  1799530.8041829644\n"
          ]
        }
      ],
      "source": [
        "print('for x = 2021 as year, population is: ',3.62281e-34*math.pow(1.04626529,2021.0))"
      ]
    },
    {
      "cell_type": "code",
      "execution_count": null,
      "metadata": {
        "id": "WwRRbfgqJ1lp"
      },
      "outputs": [],
      "source": []
    },
    {
      "cell_type": "markdown",
      "metadata": {
        "id": "uJKuE3VIITkQ"
      },
      "source": [
        "#Q8"
      ]
    },
    {
      "cell_type": "code",
      "execution_count": 58,
      "metadata": {
        "id": "57I_4GUgIUqX"
      },
      "outputs": [],
      "source": [
        "def polynomial_fit(x,y,p):\n",
        "  l = []\n",
        "  for i in range(p,0,-1):\n",
        "    l.append((x**i))\n",
        "  l.append(np.ones((len(x),1),dtype=float))\n",
        "  A = np.column_stack(tuple(l))\n",
        "  beta = np.dot(np.linalg.inv(np.dot(A.T,A)),np.dot(A.T,y.T))\n",
        "  return A,beta"
      ]
    },
    {
      "cell_type": "code",
      "execution_count": 59,
      "metadata": {
        "colab": {
          "base_uri": "https://localhost:8080/",
          "height": 424
        },
        "id": "KOBPCJ2sOnTs",
        "outputId": "ba2bcd77-8a27-4527-edc5-e1037eed7fdf"
      },
      "outputs": [
        {
          "data": {
            "text/html": [
              "<div>\n",
              "<style scoped>\n",
              "    .dataframe tbody tr th:only-of-type {\n",
              "        vertical-align: middle;\n",
              "    }\n",
              "\n",
              "    .dataframe tbody tr th {\n",
              "        vertical-align: top;\n",
              "    }\n",
              "\n",
              "    .dataframe thead th {\n",
              "        text-align: right;\n",
              "    }\n",
              "</style>\n",
              "<table border=\"1\" class=\"dataframe\">\n",
              "  <thead>\n",
              "    <tr style=\"text-align: right;\">\n",
              "      <th></th>\n",
              "      <th>0</th>\n",
              "      <th>1</th>\n",
              "    </tr>\n",
              "  </thead>\n",
              "  <tbody>\n",
              "    <tr>\n",
              "      <th>0</th>\n",
              "      <td>6100</td>\n",
              "      <td>5530000</td>\n",
              "    </tr>\n",
              "    <tr>\n",
              "      <th>1</th>\n",
              "      <td>6540</td>\n",
              "      <td>5250000</td>\n",
              "    </tr>\n",
              "    <tr>\n",
              "      <th>2</th>\n",
              "      <td>2910</td>\n",
              "      <td>2604000</td>\n",
              "    </tr>\n",
              "    <tr>\n",
              "      <th>3</th>\n",
              "      <td>4770</td>\n",
              "      <td>4900000</td>\n",
              "    </tr>\n",
              "    <tr>\n",
              "      <th>4</th>\n",
              "      <td>8000</td>\n",
              "      <td>6020000</td>\n",
              "    </tr>\n",
              "    <tr>\n",
              "      <th>...</th>\n",
              "      <td>...</td>\n",
              "      <td>...</td>\n",
              "    </tr>\n",
              "    <tr>\n",
              "      <th>95</th>\n",
              "      <td>2610</td>\n",
              "      <td>4200000</td>\n",
              "    </tr>\n",
              "    <tr>\n",
              "      <th>96</th>\n",
              "      <td>6632</td>\n",
              "      <td>5600000</td>\n",
              "    </tr>\n",
              "    <tr>\n",
              "      <th>97</th>\n",
              "      <td>6072</td>\n",
              "      <td>7700000</td>\n",
              "    </tr>\n",
              "    <tr>\n",
              "      <th>98</th>\n",
              "      <td>5455</td>\n",
              "      <td>3143000</td>\n",
              "    </tr>\n",
              "    <tr>\n",
              "      <th>99</th>\n",
              "      <td>3680</td>\n",
              "      <td>2940000</td>\n",
              "    </tr>\n",
              "  </tbody>\n",
              "</table>\n",
              "<p>100 rows × 2 columns</p>\n",
              "</div>"
            ],
            "text/plain": [
              "       0        1\n",
              "0   6100  5530000\n",
              "1   6540  5250000\n",
              "2   2910  2604000\n",
              "3   4770  4900000\n",
              "4   8000  6020000\n",
              "..   ...      ...\n",
              "95  2610  4200000\n",
              "96  6632  5600000\n",
              "97  6072  7700000\n",
              "98  5455  3143000\n",
              "99  3680  2940000\n",
              "\n",
              "[100 rows x 2 columns]"
            ]
          },
          "execution_count": 59,
          "metadata": {},
          "output_type": "execute_result"
        }
      ],
      "source": [
        "dt = pd.read_excel('2 columns.xls',header = None)\n",
        "dt"
      ]
    },
    {
      "cell_type": "code",
      "execution_count": 60,
      "metadata": {
        "id": "Q0O6AVJuPR9I"
      },
      "outputs": [],
      "source": [
        "B = dt.values\n",
        "area, price = B[:,0], B[:,1]\n",
        "area = np.array(area,dtype=float)\n",
        "price = np.array(price,dtype=float)"
      ]
    },
    {
      "cell_type": "code",
      "execution_count": 61,
      "metadata": {
        "id": "Of9zybeTPmvR"
      },
      "outputs": [],
      "source": [
        "def get_value(xi,p,beta):\n",
        "  ans = 0\n",
        "  for i in range(len(beta)):\n",
        "    ans+=beta[i]*(xi**(p-i))\n",
        "  return ans"
      ]
    },
    {
      "cell_type": "code",
      "execution_count": 62,
      "metadata": {
        "id": "-EBP2BuEP1fV"
      },
      "outputs": [],
      "source": [
        "def get_loss(area,price,beta,A,p):\n",
        "  mat = np.dot(A,beta)\n",
        "  mat = mat - price\n",
        "  avg_loss = np.linalg.norm(mat)\n",
        "  avg_loss = avg_loss/(2+len(price))\n",
        "  mse = 0\n",
        "  for j in range(len(area)):\n",
        "    pred_price = get_value(area[j],p,beta)\n",
        "    if(pred_price < 0):\n",
        "      print(\"-ve price predicted by algo at area = \",area[j],\" and degree = \",p)\n",
        "    mse+=(pred_price-price[j])**2\n",
        "  mse = mse/len(area)\n",
        "  rmse = np.sqrt(mse)\n",
        "  return rmse,avg_loss"
      ]
    },
    {
      "cell_type": "code",
      "execution_count": 63,
      "metadata": {
        "colab": {
          "base_uri": "https://localhost:8080/",
          "height": 1000
        },
        "id": "Ie54XzQwQ-JU",
        "outputId": "e426d745-4161-4b79-d3f3-0f6a91ab32a8"
      },
      "outputs": [
        {
          "name": "stdout",
          "output_type": "stream",
          "text": [
            "The average loss for degree 1  is :  132635.49295980166\n",
            "The root mean squared error for degree 1  is : 1352882.0281899772\n"
          ]
        },
        {
          "data": {
            "image/png": "[encoded data removed]",
            "text/plain": [
              "<Figure size 432x288 with 1 Axes>"
            ]
          },
          "metadata": {
            "needs_background": "light"
          },
          "output_type": "display_data"
        },
        {
          "name": "stdout",
          "output_type": "stream",
          "text": [
            "The average loss for degree 2  is :  131472.58830503715\n",
            "The root mean squared error for degree 2  is : 1341020.4007113788\n"
          ]
        },
        {
          "data": {
            "image/png": "[encoded data removed]",
            "text/plain": [
              "<Figure size 432x288 with 1 Axes>"
            ]
          },
          "metadata": {
            "needs_background": "light"
          },
          "output_type": "display_data"
        },
        {
          "name": "stdout",
          "output_type": "stream",
          "text": [
            "The average loss for degree 3  is :  131107.7708950379\n",
            "The root mean squared error for degree 3  is : 1337299.2631293866\n"
          ]
        },
        {
          "data": {
            "image/png": "[encoded data removed]",
            "text/plain": [
              "<Figure size 432x288 with 1 Axes>"
            ]
          },
          "metadata": {
            "needs_background": "light"
          },
          "output_type": "display_data"
        },
        {
          "name": "stdout",
          "output_type": "stream",
          "text": [
            "The average loss for degree 4  is :  129303.21914858161\n",
            "The root mean squared error for degree 4  is : 1318892.8353155318\n"
          ]
        },
        {
          "data": {
            "image/png": "[encoded data removed]",
            "text/plain": [
              "<Figure size 432x288 with 1 Axes>"
            ]
          },
          "metadata": {
            "needs_background": "light"
          },
          "output_type": "display_data"
        },
        {
          "name": "stdout",
          "output_type": "stream",
          "text": [
            "The average loss for degree 5  is :  129008.40413373284\n",
            "The root mean squared error for degree 5  is : 1315885.7221640747\n"
          ]
        },
        {
          "data": {
            "image/png": "[encoded data removed]",
            "text/plain": [
              "<Figure size 432x288 with 1 Axes>"
            ]
          },
          "metadata": {
            "needs_background": "light"
          },
          "output_type": "display_data"
        },
        {
          "name": "stdout",
          "output_type": "stream",
          "text": [
            "The average loss for degree 6  is :  127596.00068944684\n",
            "The root mean squared error for degree 6  is : 1301479.207032375\n"
          ]
        },
        {
          "data": {
            "image/png": "[encoded data removed]",
            "text/plain": [
              "<Figure size 432x288 with 1 Axes>"
            ]
          },
          "metadata": {
            "needs_background": "light"
          },
          "output_type": "display_data"
        },
        {
          "name": "stdout",
          "output_type": "stream",
          "text": [
            "The average loss for degree 7  is :  126225.14906697324\n",
            "The root mean squared error for degree 7  is : 1287496.5204830086\n"
          ]
        },
        {
          "data": {
            "image/png": "[encoded data removed]",
            "text/plain": [
              "<Figure size 432x288 with 1 Axes>"
            ]
          },
          "metadata": {
            "needs_background": "light"
          },
          "output_type": "display_data"
        },
        {
          "name": "stdout",
          "output_type": "stream",
          "text": [
            "The average loss for degree 8  is :  119921.75541048397\n",
            "The root mean squared error for degree 8  is : 1223201.9051869093\n"
          ]
        },
        {
          "data": {
            "image/png": "[encoded data removed]",
            "text/plain": [
              "<Figure size 432x288 with 1 Axes>"
            ]
          },
          "metadata": {
            "needs_background": "light"
          },
          "output_type": "display_data"
        },
        {
          "name": "stdout",
          "output_type": "stream",
          "text": [
            "The average loss for degree 9  is :  118297.29806985469\n",
            "The root mean squared error for degree 9  is : 1206632.440306592\n"
          ]
        },
        {
          "data": {
            "image/png": "[encoded data removed]",
            "text/plain": [
              "<Figure size 432x288 with 1 Axes>"
            ]
          },
          "metadata": {
            "needs_background": "light"
          },
          "output_type": "display_data"
        },
        {
          "name": "stdout",
          "output_type": "stream",
          "text": [
            "The average loss for degree 10  is :  142960.24741625166\n",
            "The root mean squared error for degree 10  is : 1458194.5239102868\n"
          ]
        },
        {
          "data": {
            "image/png": "[encoded data removed]",
            "text/plain": [
              "<Figure size 432x288 with 1 Axes>"
            ]
          },
          "metadata": {
            "needs_background": "light"
          },
          "output_type": "display_data"
        },
        {
          "name": "stdout",
          "output_type": "stream",
          "text": [
            "The average loss for degree 11  is :  149529.10257915081\n",
            "The root mean squared error for degree 11  is : 1525196.84610945\n"
          ]
        },
        {
          "data": {
            "image/png": "[encoded data removed]",
            "text/plain": [
              "<Figure size 432x288 with 1 Axes>"
            ]
          },
          "metadata": {
            "needs_background": "light"
          },
          "output_type": "display_data"
        },
        {
          "name": "stdout",
          "output_type": "stream",
          "text": [
            "The average loss for degree 12  is :  121862.97780627194\n",
            "The root mean squared error for degree 12  is : 1243002.373565222\n"
          ]
        },
        {
          "data": {
            "image/png": "[encoded data removed]",
            "text/plain": [
              "<Figure size 432x288 with 1 Axes>"
            ]
          },
          "metadata": {
            "needs_background": "light"
          },
          "output_type": "display_data"
        },
        {
          "name": "stdout",
          "output_type": "stream",
          "text": [
            "The average loss for degree 13  is :  118750.89079929343\n",
            "The root mean squared error for degree 13  is : 1211259.0861528998\n"
          ]
        },
        {
          "data": {
            "image/png": "[encoded data removed]",
            "text/plain": [
              "<Figure size 432x288 with 1 Axes>"
            ]
          },
          "metadata": {
            "needs_background": "light"
          },
          "output_type": "display_data"
        },
        {
          "name": "stdout",
          "output_type": "stream",
          "text": [
            "The average loss for degree 14  is :  117303.5056291004\n",
            "The root mean squared error for degree 14  is : 1196495.757423048\n"
          ]
        },
        {
          "data": {
            "image/png": "[encoded data removed]",
            "text/plain": [
              "<Figure size 432x288 with 1 Axes>"
            ]
          },
          "metadata": {
            "needs_background": "light"
          },
          "output_type": "display_data"
        },
        {
          "name": "stdout",
          "output_type": "stream",
          "text": [
            "The average loss for degree 15  is :  124494.70830233824\n",
            "The root mean squared error for degree 15  is : 1269846.0246960898\n"
          ]
        },
        {
          "data": {
            "image/png": "[encoded data removed]",
            "text/plain": [
              "<Figure size 432x288 with 1 Axes>"
            ]
          },
          "metadata": {
            "needs_background": "light"
          },
          "output_type": "display_data"
        },
        {
          "name": "stdout",
          "output_type": "stream",
          "text": [
            "The average loss for degree 16  is :  123924.11944291196\n",
            "The root mean squared error for degree 16  is : 1264026.0183408838\n"
          ]
        },
        {
          "data": {
            "image/png": "[encoded data removed]",
            "text/plain": [
              "<Figure size 432x288 with 1 Axes>"
            ]
          },
          "metadata": {
            "needs_background": "light"
          },
          "output_type": "display_data"
        },
        {
          "name": "stdout",
          "output_type": "stream",
          "text": [
            "The average loss for degree 17  is :  117695.13208284244\n",
            "The root mean squared error for degree 17  is : 1200490.3472467118\n"
          ]
        },
        {
          "data": {
            "image/png": "[encoded data removed]",
            "text/plain": [
              "<Figure size 432x288 with 1 Axes>"
            ]
          },
          "metadata": {
            "needs_background": "light"
          },
          "output_type": "display_data"
        },
        {
          "name": "stdout",
          "output_type": "stream",
          "text": [
            "The average loss for degree 18  is :  120227.32996701142\n",
            "The root mean squared error for degree 18  is : 1226318.7656156037\n"
          ]
        },
        {
          "data": {
            "image/png": "[encoded data removed]",
            "text/plain": [
              "<Figure size 432x288 with 1 Axes>"
            ]
          },
          "metadata": {
            "needs_background": "light"
          },
          "output_type": "display_data"
        },
        {
          "name": "stdout",
          "output_type": "stream",
          "text": [
            "The average loss for degree 19  is :  140648.08451282824\n",
            "The root mean squared error for degree 19  is : 1434610.463267287\n"
          ]
        },
        {
          "data": {
            "image/png": "[encoded data removed]",
            "text/plain": [
              "<Figure size 432x288 with 1 Axes>"
            ]
          },
          "metadata": {
            "needs_background": "light"
          },
          "output_type": "display_data"
        },
        {
          "name": "stdout",
          "output_type": "stream",
          "text": [
            "The average loss for degree 20  is :  129453.02076387228\n",
            "The root mean squared error for degree 20  is : 1320420.8117275538\n"
          ]
        },
        {
          "data": {
            "image/png": "[encoded data removed]",
            "text/plain": [
              "<Figure size 432x288 with 1 Axes>"
            ]
          },
          "metadata": {
            "needs_background": "light"
          },
          "output_type": "display_data"
        }
      ],
      "source": [
        "arr_loss = []\n",
        "arr_rmse = []\n",
        "for p in range(1, 21):\n",
        "  A, beta = polynomial_fit(area, price, p)\n",
        "  rmse, avg_loss = get_loss(area, price, beta, A, p)\n",
        "  arr_rmse.append(rmse)\n",
        "  arr_loss.append(avg_loss)\n",
        "  print (\"The average loss for degree\", p,\" is : \",avg_loss)\n",
        "  print (\"The root mean squared error for degree\", p,\" is :\",rmse)\n",
        "  plt.scatter(area, price)\n",
        "  x1 = np.linspace(area.min(),area.max()+1)\n",
        "  plt.plot(x1, np.polyval(beta, x1), 'r')\n",
        "  plt.xlabel('area')\n",
        "  plt.ylabel('price')\n",
        "  plt.title(\"degree = {}\". format (p))\n",
        "  plt.show()\n"
      ]
    },
    {
      "cell_type": "code",
      "execution_count": 64,
      "metadata": {
        "colab": {
          "base_uri": "https://localhost:8080/"
        },
        "id": "b1uyYRYTX2TU",
        "outputId": "113c0de5-e398-49d3-8d64-4b3a854a0551"
      },
      "outputs": [
        {
          "name": "stdout",
          "output_type": "stream",
          "text": [
            "min rmse occurs for degree =  14  which is =  1196495.757423048\n",
            "min loss occurs for degree =  14  which is =  117303.5056291004\n"
          ]
        }
      ],
      "source": [
        "min_loss= 1e10\n",
        "min_rmse = 1e10\n",
        "for i in range(len(arr_loss)):\n",
        "  if (arr_loss[i] < min_loss):\n",
        "    min_loss = arr_loss[i]\n",
        "    min_loss_ind = i+1\n",
        "  if (arr_rmse[i] < min_rmse):\n",
        "    min_rmse = arr_rmse[i]\n",
        "    min_rmse_ind = i+1\n",
        "print (\"min rmse occurs for degree = \", min_rmse_ind, \" which is = \", min_rmse)\n",
        "print (\"min loss occurs for degree = \", min_loss_ind, \" which is = \",min_loss)"
      ]
    }
  ],
  "metadata": {
    "colab": {
      "collapsed_sections": [],
      "provenance": []
    },
    "kernelspec": {
      "display_name": "Python 3.9.0 64-bit",
      "language": "python",
      "name": "python3"
    },
    "language_info": {
      "codemirror_mode": {
        "name": "ipython",
        "version": 3
      },
      "file_extension": ".py",
      "mimetype": "text/x-python",
      "name": "python",
      "nbconvert_exporter": "python",
      "pygments_lexer": "ipython3",
      "version": "3.9.0"
    },
    "vscode": {
      "interpreter": {
        "hash": "c07ce05c1b6b2db924f66d684c0ce8bf829868cfa2229a46826184626272e7c1"
      }
    }
  },
  "nbformat": 4,
  "nbformat_minor": 0
}
