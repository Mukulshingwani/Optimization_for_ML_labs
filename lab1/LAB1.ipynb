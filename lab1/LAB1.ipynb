{
 "cells": [
  {
   "cell_type": "code",
   "execution_count": 4,
   "metadata": {},
   "outputs": [],
   "source": [
    "import numpy as np\n",
    "import pandas as pd\n",
    "import matplotlib.pyplot as plt"
   ]
  },
  {
   "cell_type": "code",
   "execution_count": 3,
   "metadata": {},
   "outputs": [
    {
     "name": "stdout",
     "output_type": "stream",
     "text": [
      "Collecting xlrd\n",
      "  Downloading xlrd-2.0.1-py2.py3-none-any.whl (96 kB)\n",
      "Installing collected packages: xlrd\n",
      "Successfully installed xlrd-2.0.1\n"
     ]
    },
    {
     "name": "stderr",
     "output_type": "stream",
     "text": [
      "WARNING: You are using pip version 20.2.3; however, version 22.3.1 is available.\n",
      "You should consider upgrading via the 'c:\\users\\mukul shingwani\\appdata\\local\\programs\\python\\python39\\python.exe -m pip install --upgrade pip' command.\n"
     ]
    }
   ],
   "source": [
    "!pip install --upgrade xlrd"
   ]
  },
  {
   "cell_type": "code",
   "execution_count": 6,
   "metadata": {},
   "outputs": [
    {
     "data": {
      "text/html": [
       "<div>\n",
       "<style scoped>\n",
       "    .dataframe tbody tr th:only-of-type {\n",
       "        vertical-align: middle;\n",
       "    }\n",
       "\n",
       "    .dataframe tbody tr th {\n",
       "        vertical-align: top;\n",
       "    }\n",
       "\n",
       "    .dataframe thead th {\n",
       "        text-align: right;\n",
       "    }\n",
       "</style>\n",
       "<table border=\"1\" class=\"dataframe\">\n",
       "  <thead>\n",
       "    <tr style=\"text-align: right;\">\n",
       "      <th></th>\n",
       "      <th>0</th>\n",
       "      <th>1</th>\n",
       "    </tr>\n",
       "  </thead>\n",
       "  <tbody>\n",
       "    <tr>\n",
       "      <th>0</th>\n",
       "      <td>6100</td>\n",
       "      <td>5530000</td>\n",
       "    </tr>\n",
       "    <tr>\n",
       "      <th>1</th>\n",
       "      <td>6540</td>\n",
       "      <td>5250000</td>\n",
       "    </tr>\n",
       "    <tr>\n",
       "      <th>2</th>\n",
       "      <td>2910</td>\n",
       "      <td>2604000</td>\n",
       "    </tr>\n",
       "    <tr>\n",
       "      <th>3</th>\n",
       "      <td>4770</td>\n",
       "      <td>4900000</td>\n",
       "    </tr>\n",
       "    <tr>\n",
       "      <th>4</th>\n",
       "      <td>8000</td>\n",
       "      <td>6020000</td>\n",
       "    </tr>\n",
       "    <tr>\n",
       "      <th>...</th>\n",
       "      <td>...</td>\n",
       "      <td>...</td>\n",
       "    </tr>\n",
       "    <tr>\n",
       "      <th>95</th>\n",
       "      <td>2610</td>\n",
       "      <td>4200000</td>\n",
       "    </tr>\n",
       "    <tr>\n",
       "      <th>96</th>\n",
       "      <td>6632</td>\n",
       "      <td>5600000</td>\n",
       "    </tr>\n",
       "    <tr>\n",
       "      <th>97</th>\n",
       "      <td>6072</td>\n",
       "      <td>7700000</td>\n",
       "    </tr>\n",
       "    <tr>\n",
       "      <th>98</th>\n",
       "      <td>5455</td>\n",
       "      <td>3143000</td>\n",
       "    </tr>\n",
       "    <tr>\n",
       "      <th>99</th>\n",
       "      <td>3680</td>\n",
       "      <td>2940000</td>\n",
       "    </tr>\n",
       "  </tbody>\n",
       "</table>\n",
       "<p>100 rows × 2 columns</p>\n",
       "</div>"
      ],
      "text/plain": [
       "       0        1\n",
       "0   6100  5530000\n",
       "1   6540  5250000\n",
       "2   2910  2604000\n",
       "3   4770  4900000\n",
       "4   8000  6020000\n",
       "..   ...      ...\n",
       "95  2610  4200000\n",
       "96  6632  5600000\n",
       "97  6072  7700000\n",
       "98  5455  3143000\n",
       "99  3680  2940000\n",
       "\n",
       "[100 rows x 2 columns]"
      ]
     },
     "execution_count": 6,
     "metadata": {},
     "output_type": "execute_result"
    }
   ],
   "source": [
    "dt = pd.read_excel(\"2 columns.xls\",header=None)\n",
    "dt"
   ]
  },
  {
   "cell_type": "code",
   "execution_count": 7,
   "metadata": {},
   "outputs": [
    {
     "data": {
      "text/plain": [
       "array([[   6100, 5530000],\n",
       "       [   6540, 5250000],\n",
       "       [   2910, 2604000],\n",
       "       [   4770, 4900000],\n",
       "       [   8000, 6020000],\n",
       "       [   6000, 7350000],\n",
       "       [   5300, 2233000],\n",
       "       [   8250, 4193000],\n",
       "       [   3850, 3850000],\n",
       "       [   6321, 4760000],\n",
       "       [   5960, 8190000],\n",
       "       [   3410, 5145000],\n",
       "       [   3816, 3920000],\n",
       "       [   7000, 4200000],\n",
       "       [   4095, 3150000],\n",
       "       [   3180, 3850000],\n",
       "       [   6600, 9100000],\n",
       "       [   5300, 3850000],\n",
       "       [   5640, 3675000],\n",
       "       [   3640, 4550000],\n",
       "       [  12090, 6790000],\n",
       "       [   3360, 2100000],\n",
       "       [   6023, 7350000],\n",
       "       [   6472, 6300000],\n",
       "       [   3648, 4098500],\n",
       "       [   5680, 4620000],\n",
       "       [   6450, 5383000],\n",
       "       [   3180, 3885000],\n",
       "       [   4040, 3423000],\n",
       "       [   2145, 3430000],\n",
       "       [   4410, 4970000],\n",
       "       [   5040, 4200000],\n",
       "       [   3640, 4200000],\n",
       "       [   3960, 2800000],\n",
       "       [   2825, 2660000],\n",
       "       [   6615, 2940000],\n",
       "       [   7160, 5880000],\n",
       "       [   8250, 6510000],\n",
       "       [   5920, 3500000],\n",
       "       [   3570, 3150000],\n",
       "       [   2145, 3290000],\n",
       "       [   3630, 2870000],\n",
       "       [   8875, 8400000],\n",
       "       [   6990, 5523000],\n",
       "       [   3575, 3360000],\n",
       "       [   3460, 4007500],\n",
       "       [   3480, 3290000],\n",
       "       [   6015, 6650000],\n",
       "       [   4040, 4480000],\n",
       "       [   4410, 4200000],\n",
       "       [   6090, 7210000],\n",
       "       [   3120, 3703000],\n",
       "       [   8880, 7070000],\n",
       "       [   3685, 2590000],\n",
       "       [   3850, 3535000],\n",
       "       [  11175, 7000000],\n",
       "       [   4960, 2940000],\n",
       "       [   2745, 2940000],\n",
       "       [   3750, 3360000],\n",
       "       [   7260, 3920000],\n",
       "       [   2870, 4620000],\n",
       "       [   6055, 7560000],\n",
       "       [   5480, 2870000],\n",
       "       [   6650, 4235000],\n",
       "       [   3180, 3290000],\n",
       "       [   8050, 3003000],\n",
       "       [   8475, 4550000],\n",
       "       [   3460, 4025000],\n",
       "       [   4625, 3010000],\n",
       "       [   5360, 4550000],\n",
       "       [   3880, 4620000],\n",
       "       [   7045, 8080940],\n",
       "       [   6625, 6230000],\n",
       "       [   2970, 4900000],\n",
       "       [   3480, 3745000],\n",
       "       [   4520, 4900000],\n",
       "       [   7020, 5950000],\n",
       "       [   3520, 4515000],\n",
       "       [   6540, 8540000],\n",
       "       [   4352, 2975000],\n",
       "       [   5850, 2940000],\n",
       "       [   6835, 6020000],\n",
       "       [   8520, 5250000],\n",
       "       [   6350, 6195000],\n",
       "       [   2610, 3430000],\n",
       "       [   2325, 4200000],\n",
       "       [   7600, 5040000],\n",
       "       [   6720, 4900000],\n",
       "       [   5415, 4025000],\n",
       "       [   6095, 9100000],\n",
       "       [   8880, 6930000],\n",
       "       [   6055, 5775000],\n",
       "       [   4800, 6405000],\n",
       "       [   4080, 3850000],\n",
       "       [   4260, 5250000],\n",
       "       [   2610, 4200000],\n",
       "       [   6632, 5600000],\n",
       "       [   6072, 7700000],\n",
       "       [   5455, 3143000],\n",
       "       [   3680, 2940000]], dtype=int64)"
      ]
     },
     "execution_count": 7,
     "metadata": {},
     "output_type": "execute_result"
    }
   ],
   "source": [
    "B = dt.values\n",
    "B"
   ]
  },
  {
   "cell_type": "code",
   "execution_count": 8,
   "metadata": {},
   "outputs": [
    {
     "data": {
      "text/plain": [
       "array([5530000, 5250000, 2604000, 4900000, 6020000, 7350000, 2233000,\n",
       "       4193000, 3850000, 4760000, 8190000, 5145000, 3920000, 4200000,\n",
       "       3150000, 3850000, 9100000, 3850000, 3675000, 4550000, 6790000,\n",
       "       2100000, 7350000, 6300000, 4098500, 4620000, 5383000, 3885000,\n",
       "       3423000, 3430000, 4970000, 4200000, 4200000, 2800000, 2660000,\n",
       "       2940000, 5880000, 6510000, 3500000, 3150000, 3290000, 2870000,\n",
       "       8400000, 5523000, 3360000, 4007500, 3290000, 6650000, 4480000,\n",
       "       4200000, 7210000, 3703000, 7070000, 2590000, 3535000, 7000000,\n",
       "       2940000, 2940000, 3360000, 3920000, 4620000, 7560000, 2870000,\n",
       "       4235000, 3290000, 3003000, 4550000, 4025000, 3010000, 4550000,\n",
       "       4620000, 8080940, 6230000, 4900000, 3745000, 4900000, 5950000,\n",
       "       4515000, 8540000, 2975000, 2940000, 6020000, 5250000, 6195000,\n",
       "       3430000, 4200000, 5040000, 4900000, 4025000, 9100000, 6930000,\n",
       "       5775000, 6405000, 3850000, 5250000, 4200000, 5600000, 7700000,\n",
       "       3143000, 2940000], dtype=int64)"
      ]
     },
     "execution_count": 8,
     "metadata": {},
     "output_type": "execute_result"
    }
   ],
   "source": [
    "x = B[:,0]\n",
    "x\n",
    "y = B[:,1]\n",
    "y"
   ]
  },
  {
   "cell_type": "code",
   "execution_count": 9,
   "metadata": {},
   "outputs": [
    {
     "data": {
      "text/plain": [
       "array([[6.1000e+03, 1.0000e+00],\n",
       "       [6.5400e+03, 1.0000e+00],\n",
       "       [2.9100e+03, 1.0000e+00],\n",
       "       [4.7700e+03, 1.0000e+00],\n",
       "       [8.0000e+03, 1.0000e+00],\n",
       "       [6.0000e+03, 1.0000e+00],\n",
       "       [5.3000e+03, 1.0000e+00],\n",
       "       [8.2500e+03, 1.0000e+00],\n",
       "       [3.8500e+03, 1.0000e+00],\n",
       "       [6.3210e+03, 1.0000e+00],\n",
       "       [5.9600e+03, 1.0000e+00],\n",
       "       [3.4100e+03, 1.0000e+00],\n",
       "       [3.8160e+03, 1.0000e+00],\n",
       "       [7.0000e+03, 1.0000e+00],\n",
       "       [4.0950e+03, 1.0000e+00],\n",
       "       [3.1800e+03, 1.0000e+00],\n",
       "       [6.6000e+03, 1.0000e+00],\n",
       "       [5.3000e+03, 1.0000e+00],\n",
       "       [5.6400e+03, 1.0000e+00],\n",
       "       [3.6400e+03, 1.0000e+00],\n",
       "       [1.2090e+04, 1.0000e+00],\n",
       "       [3.3600e+03, 1.0000e+00],\n",
       "       [6.0230e+03, 1.0000e+00],\n",
       "       [6.4720e+03, 1.0000e+00],\n",
       "       [3.6480e+03, 1.0000e+00],\n",
       "       [5.6800e+03, 1.0000e+00],\n",
       "       [6.4500e+03, 1.0000e+00],\n",
       "       [3.1800e+03, 1.0000e+00],\n",
       "       [4.0400e+03, 1.0000e+00],\n",
       "       [2.1450e+03, 1.0000e+00],\n",
       "       [4.4100e+03, 1.0000e+00],\n",
       "       [5.0400e+03, 1.0000e+00],\n",
       "       [3.6400e+03, 1.0000e+00],\n",
       "       [3.9600e+03, 1.0000e+00],\n",
       "       [2.8250e+03, 1.0000e+00],\n",
       "       [6.6150e+03, 1.0000e+00],\n",
       "       [7.1600e+03, 1.0000e+00],\n",
       "       [8.2500e+03, 1.0000e+00],\n",
       "       [5.9200e+03, 1.0000e+00],\n",
       "       [3.5700e+03, 1.0000e+00],\n",
       "       [2.1450e+03, 1.0000e+00],\n",
       "       [3.6300e+03, 1.0000e+00],\n",
       "       [8.8750e+03, 1.0000e+00],\n",
       "       [6.9900e+03, 1.0000e+00],\n",
       "       [3.5750e+03, 1.0000e+00],\n",
       "       [3.4600e+03, 1.0000e+00],\n",
       "       [3.4800e+03, 1.0000e+00],\n",
       "       [6.0150e+03, 1.0000e+00],\n",
       "       [4.0400e+03, 1.0000e+00],\n",
       "       [4.4100e+03, 1.0000e+00],\n",
       "       [6.0900e+03, 1.0000e+00],\n",
       "       [3.1200e+03, 1.0000e+00],\n",
       "       [8.8800e+03, 1.0000e+00],\n",
       "       [3.6850e+03, 1.0000e+00],\n",
       "       [3.8500e+03, 1.0000e+00],\n",
       "       [1.1175e+04, 1.0000e+00],\n",
       "       [4.9600e+03, 1.0000e+00],\n",
       "       [2.7450e+03, 1.0000e+00],\n",
       "       [3.7500e+03, 1.0000e+00],\n",
       "       [7.2600e+03, 1.0000e+00],\n",
       "       [2.8700e+03, 1.0000e+00],\n",
       "       [6.0550e+03, 1.0000e+00],\n",
       "       [5.4800e+03, 1.0000e+00],\n",
       "       [6.6500e+03, 1.0000e+00],\n",
       "       [3.1800e+03, 1.0000e+00],\n",
       "       [8.0500e+03, 1.0000e+00],\n",
       "       [8.4750e+03, 1.0000e+00],\n",
       "       [3.4600e+03, 1.0000e+00],\n",
       "       [4.6250e+03, 1.0000e+00],\n",
       "       [5.3600e+03, 1.0000e+00],\n",
       "       [3.8800e+03, 1.0000e+00],\n",
       "       [7.0450e+03, 1.0000e+00],\n",
       "       [6.6250e+03, 1.0000e+00],\n",
       "       [2.9700e+03, 1.0000e+00],\n",
       "       [3.4800e+03, 1.0000e+00],\n",
       "       [4.5200e+03, 1.0000e+00],\n",
       "       [7.0200e+03, 1.0000e+00],\n",
       "       [3.5200e+03, 1.0000e+00],\n",
       "       [6.5400e+03, 1.0000e+00],\n",
       "       [4.3520e+03, 1.0000e+00],\n",
       "       [5.8500e+03, 1.0000e+00],\n",
       "       [6.8350e+03, 1.0000e+00],\n",
       "       [8.5200e+03, 1.0000e+00],\n",
       "       [6.3500e+03, 1.0000e+00],\n",
       "       [2.6100e+03, 1.0000e+00],\n",
       "       [2.3250e+03, 1.0000e+00],\n",
       "       [7.6000e+03, 1.0000e+00],\n",
       "       [6.7200e+03, 1.0000e+00],\n",
       "       [5.4150e+03, 1.0000e+00],\n",
       "       [6.0950e+03, 1.0000e+00],\n",
       "       [8.8800e+03, 1.0000e+00],\n",
       "       [6.0550e+03, 1.0000e+00],\n",
       "       [4.8000e+03, 1.0000e+00],\n",
       "       [4.0800e+03, 1.0000e+00],\n",
       "       [4.2600e+03, 1.0000e+00],\n",
       "       [2.6100e+03, 1.0000e+00],\n",
       "       [6.6320e+03, 1.0000e+00],\n",
       "       [6.0720e+03, 1.0000e+00],\n",
       "       [5.4550e+03, 1.0000e+00],\n",
       "       [3.6800e+03, 1.0000e+00]])"
      ]
     },
     "execution_count": 9,
     "metadata": {},
     "output_type": "execute_result"
    }
   ],
   "source": [
    "A=np.column_stack((x,np.ones((len(x),1),dtype=float)))\n",
    "A"
   ]
  },
  {
   "cell_type": "code",
   "execution_count": 10,
   "metadata": {},
   "outputs": [
    {
     "name": "stdout",
     "output_type": "stream",
     "text": [
      "[4.85029371e+02 2.17670863e+06]\n"
     ]
    }
   ],
   "source": [
    "beta=np.dot(np.linalg.inv(np.dot(A.T,A)),np.dot(A.T,y.T))\n",
    "print(beta)"
   ]
  },
  {
   "cell_type": "code",
   "execution_count": 11,
   "metadata": {},
   "outputs": [
    {
     "data": {
      "image/png": "[encoded data removed]",
      "text/plain": [
       "<Figure size 432x288 with 1 Axes>"
      ]
     },
     "metadata": {
      "needs_background": "light"
     },
     "output_type": "display_data"
    }
   ],
   "source": [
    "\n",
    "plt.plot(x, y,'b.')\n",
    "plt.plot(x, beta[0]*x+beta[1],'r')\n",
    "plt.xlabel('area')\n",
    "plt.ylabel('price')\n",
    "plt.title('plot of area v/s price')\n",
    "plt.show()"
   ]
  },
  {
   "cell_type": "code",
   "execution_count": 12,
   "metadata": {},
   "outputs": [
    {
     "name": "stdout",
     "output_type": "stream",
     "text": [
      "predicted price :  3631796.7467135526\n"
     ]
    }
   ],
   "source": [
    "print('predicted price : ',beta[0]*3000+beta[1])"
   ]
  },
  {
   "cell_type": "markdown",
   "metadata": {},
   "source": [
    "<h2>Question 2</h2>"
   ]
  },
  {
   "cell_type": "code",
   "execution_count": 13,
   "metadata": {},
   "outputs": [
    {
     "name": "stdout",
     "output_type": "stream",
     "text": [
      "The Predicted price is -->  3479102.434074102\n",
      "The Predicted price is -->  3528041.6446248256\n",
      "The Predicted price is -->  3486272.8118247893\n",
      "The Predicted price is -->  3477113.4929763395\n",
      "The Predicted price is -->  -1859392.8467713501\n",
      "The Predicted price is -->  -22196483094.303646\n"
     ]
    }
   ],
   "source": [
    "# A = np.column_stack((x, np.ones((len(x),1), dtype=float)))\n",
    "#degree 2\n",
    "p = 2 \n",
    "A = np.column_stack((x**p, x, np.ones((len(x),1), dtype=float)))\n",
    "A\n",
    "beta = np.dot(np.linalg.inv(np.dot(A.T, A)), np.dot(A.T, y.T))\n",
    "beta\n",
    "print(\"The Predicted price is --> \", (beta[0]*(3000**2) + beta[1]*3000 + beta[2]))\n",
    "\n",
    "#degree 3\n",
    "p = 3\n",
    "R = 3000\n",
    "A = np.column_stack((x**p, x**(p-1), x, np.ones((len(x),1), dtype=float)))\n",
    "A\n",
    "beta = np.dot(np.linalg.inv(np.dot(A.T, A)), np.dot(A.T, y.T))\n",
    "beta\n",
    "print(\"The Predicted price is --> \", (beta[0]*(R**3) + beta[1]*(R**2) + beta[2]*R + beta[3]))\n",
    "\n",
    "#degree 4\n",
    "p = 4\n",
    "R = 3000\n",
    "A = np.column_stack((x**p, x**(p-1), x**(p-2), x, np.ones((len(x),1), dtype=float)))\n",
    "A\n",
    "beta = np.dot(np.linalg.inv(np.dot(A.T, A)), np.dot(A.T, y.T))\n",
    "beta\n",
    "print(\"The Predicted price is --> \", (beta[0]*(R**4) + beta[1]*(R**3) + beta[2]*(R**2) + beta[3]*R + beta[4]))\n",
    "\n",
    "#degree 5\n",
    "p = 5\n",
    "R = 3000\n",
    "A = np.column_stack((x**p, x**(p-1), x**(p-2), x**(p-3), x, np.ones((len(x),1), dtype=float)))\n",
    "A\n",
    "beta = np.dot(np.linalg.inv(np.dot(A.T, A)), np.dot(A.T, y.T))\n",
    "beta\n",
    "print(\"The Predicted price is --> \", (beta[0]*(R**5) + beta[1]*(R**4) + beta[2]*(R**3) + beta[3]*(R**2) + beta[4]*R + beta[5]))\n",
    "\n",
    "#degree 6\n",
    "p = 6\n",
    "R = 3000\n",
    "A = np.column_stack((x**p, x**(p-1), x**(p-2), x**(p-3), x**(p-4), x, np.ones((len(x),1), dtype=float)))\n",
    "A\n",
    "beta = np.dot(np.linalg.inv(np.dot(A.T, A)), np.dot(A.T, y.T))\n",
    "beta\n",
    "print(\"The Predicted price is --> \", (beta[0]*(R**6) + beta[1]*(R**5) + beta[2]*(R**4) + beta[3]*(R**3) + beta[4]*(R**2) + beta[5]*R + beta[6]))\n",
    "\n",
    "#degree 7\n",
    "p = 7\n",
    "R = 3000\n",
    "A = np.column_stack((x**p, x**(p-1), x**(p-2), x**(p-3), x**(p-4), x**(p-5), x, np.ones((len(x),1), dtype=float)))\n",
    "A\n",
    "beta = np.dot(np.linalg.inv(np.dot(A.T, A)), np.dot(A.T, y.T))\n",
    "beta\n",
    "print(\"The Predicted price is --> \", (beta[0]*(R**7) + beta[1]*(R**6) + beta[2]*(R**5) + beta[3]*(R**4) + beta[4]*(R**3) + beta[5]*(R**2) + beta[6]*R + beta[7]))"
   ]
  },
  {
   "cell_type": "markdown",
   "metadata": {},
   "source": [
    "<h2>Q3</h2>"
   ]
  },
  {
   "cell_type": "code",
   "execution_count": null,
   "metadata": {},
   "outputs": [],
   "source": []
  }
 ],
 "metadata": {
  "kernelspec": {
   "display_name": "Python 3.9.0 64-bit",
   "language": "python",
   "name": "python3"
  },
  "language_info": {
   "codemirror_mode": {
    "name": "ipython",
    "version": 3
   },
   "file_extension": ".py",
   "mimetype": "text/x-python",
   "name": "python",
   "nbconvert_exporter": "python",
   "pygments_lexer": "ipython3",
   "version": "3.9.0"
  },
  "orig_nbformat": 4,
  "vscode": {
   "interpreter": {
    "hash": "c07ce05c1b6b2db924f66d684c0ce8bf829868cfa2229a46826184626272e7c1"
   }
  }
 },
 "nbformat": 4,
 "nbformat_minor": 2
}
