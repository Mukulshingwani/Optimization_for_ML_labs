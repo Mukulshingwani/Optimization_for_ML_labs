{
  "cells": [
    {
      "cell_type": "markdown",
      "metadata": {},
      "source": [
        "<h4> Inexact line search and descent direction</h4>"
      ]
    },
    {
      "cell_type": "markdown",
      "metadata": {
        "id": "2VCohyz1Su_g"
      },
      "source": [
        "Name : Mukul Shingwani\n",
        "<br>\n",
        "Roll : B20AI023"
      ]
    },
    {
      "cell_type": "markdown",
      "metadata": {},
      "source": [
        "<img src = \"Screenshot 2022-11-16 141732.jpg\">"
      ]
    },
    {
      "cell_type": "code",
      "execution_count": 1,
      "metadata": {
        "id": "mbpoBPjpQmpH"
      },
      "outputs": [],
      "source": [
        "import numpy as np\n",
        "import math"
      ]
    },
    {
      "cell_type": "code",
      "execution_count": 2,
      "metadata": {
        "id": "Dx91EaS4Qyah"
      },
      "outputs": [],
      "source": [
        "beta1 = pow(10,-4)\n",
        "beta2 = 0.9\n",
        "r = 0.5\n",
        "eps = pow(10,-3)"
      ]
    },
    {
      "cell_type": "markdown",
      "metadata": {
        "id": "CsfiVdLdTB4A"
      },
      "source": [
        "##Question 1\n",
        "<h3>f : R2 → R is defined by f(x) = 0.5(100(x1 − x22)2 + (r − x1)2) with and x0 = (2r, −2r) where r is the last digit of your\n",
        "roll number. If last digit of your roll number is 0 then choose r = 1.75. Find number of iterations, function evaluations and\n",
        "gradient evaluations."
      ]
    },
    {
      "cell_type": "code",
      "execution_count": 3,
      "metadata": {
        "id": "xaNgdKbHQ0QR"
      },
      "outputs": [],
      "source": [
        "def func1(x):\n",
        "  x1 = x[0]\n",
        "  x2 = x[1]\n",
        "  f_x = 0.5 * ((100 * (x1 - (x2**2))**2) + (3 - x1)**2)\n",
        "  return f_x"
      ]
    },
    {
      "cell_type": "code",
      "execution_count": 4,
      "metadata": {
        "id": "y-oy1DDJQ8VK"
      },
      "outputs": [],
      "source": [
        "def grad1(x):\n",
        "  f0,n,h1=func1(x),len(x),pow(10,-5)\n",
        "  g=np.zeros((n,1),dtype=float)\n",
        "  for i in range(0,n):\n",
        "    x1=x.copy()\n",
        "    x1[i]=x1[i]+h1\n",
        "    g[i]=(func1(x1)-f0)/h1\n",
        "  return g\n"
      ]
    },
    {
      "cell_type": "code",
      "execution_count": 5,
      "metadata": {
        "id": "vTXy8sbJROIb"
      },
      "outputs": [],
      "source": [
        "def find_descent1(x0,beta1,beta2,r,eps):\n",
        "  iter1 = 0\n",
        "  B0 = np.identity(2,dtype=float)\n",
        "  countf = 0\n",
        "  countg = 0\n",
        "  f0 = func1(x0)\n",
        "  g0 = grad1(x0)\n",
        "  countf += 1\n",
        "  countg += 1\n",
        "  while np.linalg.norm(g0) > eps and iter1 < 1000:\n",
        "    d0,alpha = -grad1(x0),1\n",
        "    x1 = x0 + alpha*d0\n",
        "    f1,g1=func1(x1),grad1(x1)\n",
        "    countf += 1\n",
        "    countg += 1\n",
        "    while (f1 > f0+alpha*beta1*g0.T@d0 or np.dot(g1.T,d0)<beta2*np.dot(g0.T,d0)) and alpha>pow(10,-5):\n",
        "      alpha=alpha*r\n",
        "      x1 = x0 + alpha * d0\n",
        "      f1, g1 = func1(x1), grad1(x1)\n",
        "      countf += 1\n",
        "      countg += 1\n",
        "    x0,g0,iter1=x1,g1,iter1+1\n",
        "  return x0,countf,countg,iter1\n"
      ]
    },
    {
      "cell_type": "code",
      "execution_count": 6,
      "metadata": {
        "id": "f-KXrC6nRkfv"
      },
      "outputs": [],
      "source": [
        "n = 2\n",
        "x0_1 = [[6],[-6]]\n",
        "x0_1 = np.array(x0_1,dtype=float)\n",
        "x0_final1,func_count1,grad_count1,iters1 = find_descent1(x0_1,beta1,beta2,r,eps)"
      ]
    },
    {
      "cell_type": "code",
      "execution_count": 7,
      "metadata": {
        "colab": {
          "base_uri": "https://localhost:8080/"
        },
        "id": "LTQ7AGHuSLf6",
        "outputId": "272ad8c2-72c1-40df-fc82-ddd2a92daf81"
      },
      "outputs": [
        {
          "name": "stdout",
          "output_type": "stream",
          "text": [
            "Number of iterations = 1000\n",
            "Number of function evaluations = 11126\n",
            "Number of gradient evaluations = 11126\n"
          ]
        }
      ],
      "source": [
        "print(\"Number of iterations = {}\".format(iters1))\n",
        "print(\"Number of function evaluations = {}\".format(func_count1))\n",
        "print(\"Number of gradient evaluations = {}\".format(grad_count1))\n"
      ]
    },
    {
      "cell_type": "code",
      "execution_count": 8,
      "metadata": {
        "colab": {
          "base_uri": "https://localhost:8080/"
        },
        "id": "teSvEGKVSMIJ",
        "outputId": "7d79adc3-020e-4c87-d6b2-22dbce10931c"
      },
      "outputs": [
        {
          "data": {
            "text/plain": [
              "array([[10.98819644],\n",
              "       [ 4.47280978]])"
            ]
          },
          "execution_count": 8,
          "metadata": {},
          "output_type": "execute_result"
        }
      ],
      "source": [
        "x0_final1"
      ]
    },
    {
      "cell_type": "markdown",
      "metadata": {
        "id": "zcBO00UPS8zT"
      },
      "source": [
        "##Question 2\n",
        "<h4> Solve the above problem with descent direction at xk = −B∇f(xk) where B =[[2r, √r],[√r, r]] \n",
        ". Find number of iterations, function evaluations and gradient evaluations. Does this method take less number of iterations?"
      ]
    },
    {
      "cell_type": "code",
      "execution_count": 9,
      "metadata": {
        "id": "Ojc6Gp8kTHwT"
      },
      "outputs": [],
      "source": [
        "def find_descent2(x0, beta1, beta2, r, eps):\n",
        "    iter1, B0, countf, countg = 0, [[6, pow(3,0.5)], [pow(3,0.5), 3]], 0, 0\n",
        "    f0, g0 = func1(x0), grad1(x0)\n",
        "    countf += 1\n",
        "    countg += 1\n",
        "    while np.linalg.norm(g0) > eps and iter1 < 1000:\n",
        "        # d0,alpha = -grad1(x0), 1\n",
        "        d0, alpha = -np.dot(np.linalg.inv(B0), g0), 1\n",
        "        x1 = x0 + alpha*d0\n",
        "        f1, g1 = func1(x1), grad1(x1)\n",
        "        countf += 1\n",
        "        countg += 1\n",
        "        while (f1 > f0+alpha*beta1*g0.T@d0 or np.dot(g1.T,d0) < beta2*np.dot(g0.T,d0)) and alpha>pow(10,-5):\n",
        "            alpha = alpha * r\n",
        "            x1 = x0 + alpha * d0\n",
        "            f1, g1 = func1(x1), grad1(x1)\n",
        "            countf += 1\n",
        "            countg += 1\n",
        "\n",
        "        dt1, s1 = x1-x0, g1-g0\n",
        "        # B0 = B0+1/(dt1.T@s1)*s1@s1.T-1/(s1.T@B0@s1)*B0@s1@s1.T@B0\n",
        "        x0, g0, iter1 = x1, g1, iter1+1\n",
        "    return x0, iter1, countf, countg"
      ]
    },
    {
      "cell_type": "code",
      "execution_count": 10,
      "metadata": {
        "id": "Oq0g_Bb0UaDI"
      },
      "outputs": [],
      "source": [
        "n = 2\n",
        "x0_2 = [[6],[-6]]\n",
        "x0_2 = np.array(x0_2,dtype=float)\n",
        "x0_final2,func_count2,grad_count2,iters2 = find_descent2(x0_2,beta1,beta2,r,eps)"
      ]
    },
    {
      "cell_type": "code",
      "execution_count": 11,
      "metadata": {
        "colab": {
          "base_uri": "https://localhost:8080/"
        },
        "id": "D4tBnqp6Ubt5",
        "outputId": "75cc6133-8ac9-48c1-d2a2-15794d6f5407"
      },
      "outputs": [
        {
          "name": "stdout",
          "output_type": "stream",
          "text": [
            "Number of iterations = 9519\n",
            "Number of function evaluations = 1000\n",
            "Number of gradient evaluations = 9519\n"
          ]
        }
      ],
      "source": [
        "print(\"Number of iterations = {}\".format(iters2))\n",
        "print(\"Number of function evaluations = {}\".format(func_count2))\n",
        "print(\"Number of gradient evaluations = {}\".format(grad_count2))"
      ]
    },
    {
      "cell_type": "code",
      "execution_count": 12,
      "metadata": {
        "colab": {
          "base_uri": "https://localhost:8080/"
        },
        "id": "ngOO88LEUdJm",
        "outputId": "55c3d9e0-5158-4f16-c897-de7949ef9a71"
      },
      "outputs": [
        {
          "data": {
            "text/plain": [
              "array([[7.28954589],\n",
              "       [4.69278764]])"
            ]
          },
          "execution_count": 12,
          "metadata": {},
          "output_type": "execute_result"
        }
      ],
      "source": [
        "x0_final2"
      ]
    },
    {
      "cell_type": "markdown",
      "metadata": {
        "id": "YPjLsZIQWg2V"
      },
      "source": [
        "NO, this method takes more number of iterations"
      ]
    },
    {
      "cell_type": "markdown",
      "metadata": {
        "id": "J_2t74bYTIP2"
      },
      "source": [
        "##Question 3\n",
        "<h4> Solve the above problem with descent direction at dk = −Bk−1∇f(xk) where B0 = I2 and Bk+1 = Bk +sks....\n",
        "\n",
        "Find number of iterations, function evaluations and gradient evaluations.\n",
        "\n",
        "Which method takes less number of iteration among three.?"
      ]
    },
    {
      "cell_type": "code",
      "execution_count": 13,
      "metadata": {
        "id": "go6JhPZ4TJ_T"
      },
      "outputs": [],
      "source": [
        "def find_descent3(x0,beta1,beta2,r,eps):\n",
        "  iter1 = 0\n",
        "  B0 = np.identity(2,dtype=float)\n",
        "  countf = 0\n",
        "  countg = 0\n",
        "  f0 = func1(x0)\n",
        "  g0 = grad1(x0)\n",
        "  countf += 1\n",
        "  countg += 1\n",
        "  while np.linalg.norm(g0) > eps and iter1 < 1000:\n",
        "    d0,alpha = -np.dot(np.linalg.inv(B0),g0),1\n",
        "    x1 = x0 + alpha*d0\n",
        "    f1,g1=func1(x1),grad1(x1)\n",
        "    countf += 1\n",
        "    countg += 1\n",
        "    while (f1 > f0+alpha*beta1*g0.T@d0 or np.dot(g1.T,d0)<beta2*np.dot(g0.T,d0)) and alpha>pow(10,-5):\n",
        "      alpha=alpha*r\n",
        "      x1 = x0 + alpha * d0\n",
        "      f1, g1 = func1(x1), grad1(x1)\n",
        "      countf += 1\n",
        "      countg += 1\n",
        "    dt1,s1=x1-x0,g1-g0\n",
        "    B0 = B0+1/(dt1.T@s1)*s1@s1.T-1/(s1.T@B0@s1)*B0@s1@s1.T@B0\n",
        "    x0,g0,iter1=x1,g1,iter1+1\n",
        "  return x0,countf,countg,iter1"
      ]
    },
    {
      "cell_type": "code",
      "execution_count": 14,
      "metadata": {
        "id": "aNOlKOriTitK"
      },
      "outputs": [],
      "source": [
        "n = 2\n",
        "x0_3 = [[6],[-6]]\n",
        "x0_3 = np.array(x0_3,dtype=float)\n",
        "x0_final3,func_count3,grad_count3,iters3 = find_descent3(x0_3,beta1,beta2,r,eps)"
      ]
    },
    {
      "cell_type": "code",
      "execution_count": 15,
      "metadata": {
        "colab": {
          "base_uri": "https://localhost:8080/"
        },
        "id": "fNaiofh3Tpqt",
        "outputId": "688888c3-c8c6-471a-e09d-d04f95eb722a"
      },
      "outputs": [
        {
          "name": "stdout",
          "output_type": "stream",
          "text": [
            "Number of iterations = 34\n",
            "Number of function evaluations = 63\n",
            "Number of gradient evaluations = 63\n"
          ]
        }
      ],
      "source": [
        "print(\"Number of iterations = {}\".format(iters3))\n",
        "print(\"Number of function evaluations = {}\".format(func_count3))\n",
        "print(\"Number of gradient evaluations = {}\".format(grad_count3))"
      ]
    },
    {
      "cell_type": "code",
      "execution_count": 16,
      "metadata": {
        "colab": {
          "base_uri": "https://localhost:8080/"
        },
        "id": "5cdhUpVATtqS",
        "outputId": "8bb772dd-850f-4694-eabf-53659035754b"
      },
      "outputs": [
        {
          "data": {
            "text/plain": [
              "array([[2.9978298],\n",
              "       [1.7314199]])"
            ]
          },
          "execution_count": 16,
          "metadata": {},
          "output_type": "execute_result"
        }
      ],
      "source": [
        "x0_final3"
      ]
    },
    {
      "cell_type": "markdown",
      "metadata": {
        "id": "JYy6vhmqVYDp"
      },
      "source": [
        "."
      ]
    },
    {
      "cell_type": "markdown",
      "metadata": {
        "id": "IraTQX21VTKX"
      },
      "source": [
        "conclusion : Third Method takes the least number of iterations"
      ]
    }
  ],
  "metadata": {
    "colab": {
      "provenance": []
    },
    "kernelspec": {
      "display_name": "Python 3.9.0 64-bit",
      "language": "python",
      "name": "python3"
    },
    "language_info": {
      "codemirror_mode": {
        "name": "ipython",
        "version": 3
      },
      "file_extension": ".py",
      "mimetype": "text/x-python",
      "name": "python",
      "nbconvert_exporter": "python",
      "pygments_lexer": "ipython3",
      "version": "3.9.0"
    },
    "vscode": {
      "interpreter": {
        "hash": "c07ce05c1b6b2db924f66d684c0ce8bf829868cfa2229a46826184626272e7c1"
      }
    }
  },
  "nbformat": 4,
  "nbformat_minor": 0
}
